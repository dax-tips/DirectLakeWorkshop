{
 "cells": [
  {
   "cell_type": "markdown",
   "id": "f10b5d50-1798-4f0d-acd4-5728791368f7",
   "metadata": {
    "microsoft": {
     "language": "python",
     "language_group": "synapse_pyspark"
    },
    "nteract": {
     "transient": {
      "deleting": false
     }
    }
   },
   "source": [
    "# Lab 7: Performance - Splitting high cardinality columns"
   ]
  },
  {
   "cell_type": "markdown",
   "id": "5338115e-f788-4188-b3c6-4451ccf8260a",
   "metadata": {
    "microsoft": {
     "language": "python",
     "language_group": "synapse_pyspark"
    },
    "nteract": {
     "transient": {
      "deleting": false
     }
    }
   },
   "source": [
    "**Split Columns**\n",
    "- Cold cache performance\n",
    "- Model Size\n",
    "- Warm cache performance\n"
   ]
  },
  {
   "cell_type": "markdown",
   "id": "f6b0d833-91cf-4c94-acc4-17a71e453a13",
   "metadata": {
    "microsoft": {
     "language": "python",
     "language_group": "synapse_pyspark"
    },
    "nteract": {
     "transient": {
      "deleting": false
     }
    }
   },
   "source": [
    "## 1. Install Semantic Link Labs Python Library"
   ]
  },
  {
   "cell_type": "code",
   "execution_count": null,
   "id": "42ba3207-5db8-4a88-a3ec-849a28f4c8f1",
   "metadata": {
    "microsoft": {
     "language": "python",
     "language_group": "synapse_pyspark"
    }
   },
   "outputs": [],
   "source": [
    "%pip install -q --disable-pip-version-check semantic-link-labs"
   ]
  },
  {
   "cell_type": "markdown",
   "id": "b04495fa-42ae-41c9-a701-8f9c635fb5ed",
   "metadata": {
    "microsoft": {
     "language": "python",
     "language_group": "synapse_pyspark"
    },
    "nteract": {
     "transient": {
      "deleting": false
     }
    }
   },
   "source": [
    "## 2. Install Python Libraries"
   ]
  },
  {
   "cell_type": "code",
   "execution_count": null,
   "id": "6b76cd66-7fc7-4daf-a648-e0d7b1bb6e60",
   "metadata": {
    "microsoft": {
     "language": "python",
     "language_group": "synapse_pyspark"
    }
   },
   "outputs": [],
   "source": [
    "import sempy_labs as labs\n",
    "from sempy import fabric\n",
    "import sempy\n",
    "import pandas\n",
    "import time\n",
    "import json\n",
    "\n",
    "LakehouseName = \"Performance\"\n",
    "SemanticModelName = f\"{LakehouseName}_model\"\n",
    "Shortcut_LakehouseName = \"HighCardinality\"\n",
    "Shortcut_WorkspaceName = \"DL Labs - Source Data\"\n",
    "\n",
    "def myDeltaAnalyzer(table_name:str):\n",
    "    # Run Delta Analyzer\n",
    "    analyzer:dict = labs.delta_analyzer(lakehouse=LakehouseName, table_name=table_name,skip_cardinality=True)\n",
    "    for key , value in analyzer.items():\n",
    "        displayHTML(f\"<H2>#### {key} ({table_name}) ####</H2>\")\n",
    "        display(value)"
   ]
  },
  {
   "cell_type": "markdown",
   "id": "6978e8d5-5d86-4da6-9567-8a1e5c49bfb7",
   "metadata": {
    "microsoft": {
     "language": "python",
     "language_group": "synapse_pyspark"
    },
    "nteract": {
     "transient": {
      "deleting": false
     }
    }
   },
   "source": [
    "## 3. Create Lakehouse"
   ]
  },
  {
   "cell_type": "code",
   "execution_count": null,
   "id": "a5780deb-4ae1-45a3-a8ea-b67bd6e57a86",
   "metadata": {
    "microsoft": {
     "language": "python",
     "language_group": "synapse_pyspark"
    }
   },
   "outputs": [],
   "source": [
    "lakehouses=labs.list_lakehouses()[\"Lakehouse Name\"]\n",
    "if LakehouseName in lakehouses.values:\n",
    "    lakehouseId = notebookutils.lakehouse.getWithProperties(LakehouseName)[\"id\"]\n",
    "else:\n",
    "    lakehouseId = fabric.create_lakehouse(LakehouseName)\n",
    "\n",
    "workspaceId = notebookutils.lakehouse.getWithProperties(LakehouseName)[\"workspaceId\"]\n",
    "workspaceName = sempy.fabric.resolve_workspace_name(workspaceId)\n",
    "print(f\"WorkspaceId = {workspaceId}, LakehouseID = {lakehouseId}, Workspace Name = {workspaceName}\")"
   ]
  },
  {
   "cell_type": "markdown",
   "id": "07bfb158-1377-402f-9759-cf405a2e2d54",
   "metadata": {
    "microsoft": {
     "language": "python",
     "language_group": "synapse_pyspark"
    },
    "nteract": {
     "transient": {
      "deleting": false
     }
    }
   },
   "source": [
    "## 4. Create Lakehouse Shortcuts"
   ]
  },
  {
   "cell_type": "code",
   "execution_count": null,
   "id": "6023ed6a-769c-49a7-a382-5a85bdc5814a",
   "metadata": {
    "microsoft": {
     "language": "python",
     "language_group": "synapse_pyspark"
    }
   },
   "outputs": [],
   "source": [
    "#1. Remove any existing shortcuts\n",
    "for index, row in labs.lakehouse.list_shortcuts(lakehouse=LakehouseName).iterrows():\n",
    "    labs.lakehouse.delete_shortcut(shortcut_name=row[\"Shortcut Name\"],lakehouse=LakehouseName)\n",
    "    print(f\"Deleted shortcut {row['Shortcut Name']}\")\n",
    "\n",
    "time.sleep(3)\n",
    "\n",
    "#2. Creates correct shortcuts\n",
    "labs.lakehouse.create_shortcut_onelake(table_name=\"Dim_Attributes\"          ,source_lakehouse=Shortcut_LakehouseName,source_workspace=Shortcut_WorkspaceName,destination_lakehouse=LakehouseName)\n",
    "labs.lakehouse.create_shortcut_onelake(table_name=\"Dim_CustomerAttributes\"  ,source_lakehouse=Shortcut_LakehouseName,source_workspace=Shortcut_WorkspaceName,destination_lakehouse=LakehouseName)\n",
    "labs.lakehouse.create_shortcut_onelake(table_name=\"Dim_Date\"                ,source_lakehouse=Shortcut_LakehouseName,source_workspace=Shortcut_WorkspaceName,destination_lakehouse=LakehouseName)\n",
    "labs.lakehouse.create_shortcut_onelake(table_name=\"Dim_DeviceAttributes\"    ,source_lakehouse=Shortcut_LakehouseName,source_workspace=Shortcut_WorkspaceName,destination_lakehouse=LakehouseName)\n",
    "labs.lakehouse.create_shortcut_onelake(table_name=\"Fact_A_Level\"            ,source_lakehouse=Shortcut_LakehouseName,source_workspace=Shortcut_WorkspaceName,destination_lakehouse=LakehouseName)\n",
    "labs.lakehouse.create_shortcut_onelake(table_name=\"Fact_A_Level_Split_1\"    ,source_lakehouse=Shortcut_LakehouseName,source_workspace=Shortcut_WorkspaceName,destination_lakehouse=LakehouseName)\n",
    "labs.lakehouse.create_shortcut_onelake(table_name=\"Fact_A_Level_Split_2\"    ,source_lakehouse=Shortcut_LakehouseName,source_workspace=Shortcut_WorkspaceName,destination_lakehouse=LakehouseName)"
   ]
  },
  {
   "cell_type": "markdown",
   "id": "0966e128-4946-443a-92f4-a0522972de60",
   "metadata": {
    "microsoft": {
     "language": "python",
     "language_group": "synapse_pyspark"
    },
    "nteract": {
     "transient": {
      "deleting": false
     }
    }
   },
   "source": [
    "## 5. Trigger background job to sync Lakehouse tables"
   ]
  },
  {
   "cell_type": "code",
   "execution_count": null,
   "id": "93074751-e910-4ef9-a0ba-fd860c26ab3d",
   "metadata": {
    "microsoft": {
     "language": "python",
     "language_group": "synapse_pyspark"
    }
   },
   "outputs": [],
   "source": [
    "##https://medium.com/@sqltidy/delays-in-the-automatically-generated-schema-in-the-sql-analytics-endpoint-of-the-lakehouse-b01c7633035d\n",
    "\n",
    "def triggerMetadataRefresh():\n",
    "    client = fabric.FabricRestClient()\n",
    "    response = client.get(f\"/v1/workspaces/{workspace_id}/lakehouses/{lakehouseId}\")\n",
    "    sqlendpoint = response.json()['properties']['sqlEndpointProperties']['id']\n",
    "\n",
    "    # trigger sync\n",
    "    uri = f\"/v1.0/myorg/lhdatamarts/{sqlendpoint}\"\n",
    "    payload = {\"commands\":[{\"$type\":\"MetadataRefreshExternalCommand\"}]}\n",
    "    response = client.post(uri,json= payload)\n",
    "    batchId = response.json()['batchId']\n",
    "\n",
    "    # Monitor Progress\n",
    "    statusuri = f\"/v1.0/myorg/lhdatamarts/{sqlendpoint}/batches/{batchId}\"\n",
    "    statusresponsedata = client.get(statusuri).json()\n",
    "    progressState = statusresponsedata['progressState']\n",
    "    print(progressState)\n",
    "    while progressState != \"success\":\n",
    "        statusuri = f\"/v1.0/myorg/lhdatamarts/{sqlendpoint}/batches/{batchId}\"\n",
    "        statusresponsedata = client.get(statusuri).json()\n",
    "        progressState = statusresponsedata['progressState']\n",
    "        print(progressState)\n",
    "        time.sleep(1)\n",
    "\n",
    "    print('done')"
   ]
  },
  {
   "cell_type": "markdown",
   "id": "c442f72c-ebef-4627-b3d8-03e170c42523",
   "metadata": {
    "microsoft": {
     "language": "python",
     "language_group": "synapse_pyspark"
    },
    "nteract": {
     "transient": {
      "deleting": false
     }
    }
   },
   "source": [
    "## Show sample of data"
   ]
  },
  {
   "cell_type": "code",
   "execution_count": null,
   "id": "27d152ac-ae36-4be1-a987-0448a7c808ea",
   "metadata": {
    "advisor": {
     "adviceMetadata": "{\"artifactId\":\"b21c28b6-58f3-4637-b0a4-b414ab46744e\",\"activityId\":\"7f97db67-7db4-4e1e-a84b-d2b25c596324\",\"applicationId\":\"application_1742173396475_0001\",\"jobGroupId\":\"41\",\"advices\":{\"warn\":1}}"
    },
    "collapsed": false,
    "microsoft": {
     "language": "python",
     "language_group": "synapse_pyspark"
    }
   },
   "outputs": [],
   "source": [
    "from pyspark.sql.functions import col\n",
    "path = f\"abfss://{workspaceId}@onelake.dfs.fabric.microsoft.com/{lakehouseId}/Tables/Fact_A_Level_Split_1\"\n",
    "delta_table = spark.read.load(path)\n",
    "\n",
    "display(delta_table.limit(20).orderBy(col(\"Metric\").desc()))"
   ]
  },
  {
   "cell_type": "markdown",
   "id": "01c23bee-d11d-4de9-b2cf-83f9e932b7a3",
   "metadata": {
    "microsoft": {
     "language": "python",
     "language_group": "synapse_pyspark"
    },
    "nteract": {
     "transient": {
      "deleting": false
     }
    }
   },
   "source": [
    "## How many unique values exist in the Metric column"
   ]
  },
  {
   "cell_type": "code",
   "execution_count": null,
   "id": "357d0978-c4dc-4887-a159-67b86bae71c4",
   "metadata": {
    "advisor": {
     "adviceMetadata": "{\"artifactId\":\"b21c28b6-58f3-4637-b0a4-b414ab46744e\",\"activityId\":\"7f97db67-7db4-4e1e-a84b-d2b25c596324\",\"applicationId\":\"application_1742173396475_0001\",\"jobGroupId\":\"29\",\"advices\":{\"warn\":1}}"
    },
    "microsoft": {
     "language": "python",
     "language_group": "synapse_pyspark"
    }
   },
   "outputs": [],
   "source": [
    "# how many unique values in Metric column?  \n",
    "\n",
    "print(f\"{delta_table.select('Metric').distinct().count():,}\")              #   44,257,013\n",
    "\n",
    "print(f\"{delta_table.select('Metric_x0').distinct().count():,}\")           #       10,001     \n",
    "print(f\"{delta_table.select('Metric_x10000').distinct().count():,}\")       #       10,001\n",
    "print(f\"{delta_table.select('Metric_x100000000').distinct().count():,}\")   #        1,904\n"
   ]
  },
  {
   "cell_type": "markdown",
   "id": "3be09ee6-5db8-403f-840d-02482a8b6798",
   "metadata": {
    "microsoft": {
     "language": "python",
     "language_group": "synapse_pyspark"
    },
    "nteract": {
     "transient": {
      "deleting": false
     }
    }
   },
   "source": [
    "## 6. Run Delta Analyzer to look at size of Metric column in Lakehouse Delta Tables"
   ]
  },
  {
   "cell_type": "markdown",
   "id": "ac5604c6-c73e-45dd-86b2-6391b71958e9",
   "metadata": {
    "microsoft": {
     "language": "python",
     "language_group": "synapse_pyspark"
    },
    "nteract": {
     "transient": {
      "deleting": false
     }
    }
   },
   "source": [
    "The first block of code runs the full Delta Analyzer over three tables.  \n",
    "\n",
    "Once the results are stored in a variable, we can run queries over the results without needing to run Delta Analyzer again\n",
    "\n",
    "- **Fact_A_Level**          This is the base table with a high cardinally column\n",
    "- **Fact_A_Level_Split_1**   Contains the original Metric column, plus the new split cols\n",
    "- **Fact_A_Level_Split_2**   Contains only the new split cols"
   ]
  },
  {
   "cell_type": "code",
   "execution_count": null,
   "id": "b702f4c6-9659-45eb-bb9a-d7bf876fe092",
   "metadata": {
    "collapsed": false,
    "microsoft": {
     "language": "python",
     "language_group": "synapse_pyspark"
    }
   },
   "outputs": [],
   "source": [
    "df1:dict[str, pandas.DataFrame] = labs.delta_analyzer(lakehouse=LakehouseName, workspace=workspaceName, table_name=\"Fact_A_Level\"          ,skip_cardinality=True)\n",
    "df2:dict[str, pandas.DataFrame] = labs.delta_analyzer(lakehouse=LakehouseName, workspace=workspaceName, table_name=\"Fact_A_Level_Split_1\"  ,skip_cardinality=True)\n",
    "df3:dict[str, pandas.DataFrame] = labs.delta_analyzer(lakehouse=LakehouseName, workspace=workspaceName, table_name=\"Fact_A_Level_Split_2\"  ,skip_cardinality=True)\n",
    "\n",
    "print(\"Done\")"
   ]
  },
  {
   "cell_type": "markdown",
   "id": "fafae115-69d3-44b6-b664-69bf86aaf9e7",
   "metadata": {
    "microsoft": {
     "language": "python",
     "language_group": "synapse_pyspark"
    },
    "nteract": {
     "transient": {
      "deleting": false
     }
    }
   },
   "source": [
    "### Review Delta Analyzer results"
   ]
  },
  {
   "cell_type": "code",
   "execution_count": null,
   "id": "87957247-edb2-4e6e-87ca-a2afd866e977",
   "metadata": {
    "microsoft": {
     "language": "python",
     "language_group": "synapse_pyspark"
    }
   },
   "outputs": [],
   "source": [
    "for key , value in df1.items():\n",
    "    print(key)"
   ]
  },
  {
   "cell_type": "markdown",
   "id": "0b816233-9df6-448b-99a8-cfdd7159c833",
   "metadata": {
    "microsoft": {
     "language": "python",
     "language_group": "synapse_pyspark"
    },
    "nteract": {
     "transient": {
      "deleting": false
     }
    }
   },
   "source": [
    "Review Summary statistics for all three Delta Tables"
   ]
  },
  {
   "cell_type": "code",
   "execution_count": null,
   "id": "ee06382f-2e5a-4273-82a3-f7394b89274b",
   "metadata": {
    "collapsed": false,
    "microsoft": {
     "language": "python",
     "language_group": "synapse_pyspark"
    }
   },
   "outputs": [],
   "source": [
    "# display(df1[\"Summary\"])\n",
    "# display(df2[\"Summary\"])\n",
    "# display(df3[\"Summary\"])\n",
    "\n",
    "display(\n",
    "    pandas.concat([\n",
    "        df1[\"Summary\"] ,\n",
    "        df2[\"Summary\"] ,\n",
    "        df3[\"Summary\"]\n",
    "        ]).drop_duplicates().reset_index(drop=True)\n",
    "    )"
   ]
  },
  {
   "cell_type": "code",
   "execution_count": null,
   "id": "dd9db606-bd48-43ad-855d-c4185b95016c",
   "metadata": {
    "collapsed": false,
    "microsoft": {
     "language": "python",
     "language_group": "synapse_pyspark"
    }
   },
   "outputs": [],
   "source": [
    "names_to_filter = ['Metric', 'Metric_x100000000', 'Metric_x10000','Metric_x0']\n",
    "\n",
    "df4 = pandas.concat([\n",
    "        df1[\"Columns\"].loc[df1[\"Columns\"]['Column Name'].isin(names_to_filter)] ,\n",
    "        df2[\"Columns\"].loc[df2[\"Columns\"]['Column Name'].isin(names_to_filter)] ,\n",
    "        df3[\"Columns\"].loc[df3[\"Columns\"]['Column Name'].isin(names_to_filter)]\n",
    "        ]\n",
    "        ).drop_duplicates().reset_index(drop=True)\n",
    "display(df4)\n",
    "# Create chart"
   ]
  },
  {
   "cell_type": "markdown",
   "id": "d5b3a4a0-b33b-48ea-a66c-e20a46c86fd0",
   "metadata": {
    "microsoft": {
     "language": "python",
     "language_group": "synapse_pyspark"
    },
    "nteract": {
     "transient": {
      "deleting": false
     }
    }
   },
   "source": [
    "## Create Custom Semantic Model from Lakehouse"
   ]
  },
  {
   "cell_type": "code",
   "execution_count": null,
   "id": "73df1951-296e-4ea2-8093-cca5101be387",
   "metadata": {
    "microsoft": {
     "language": "python",
     "language_group": "synapse_pyspark"
    }
   },
   "outputs": [],
   "source": [
    "#1. Generate list of ALL table names from lakehouse to add to Semantic Model\n",
    "lakehouseTables:list = labs.lakehouse.get_lakehouse_tables(lakehouse=LakehouseName)[\"Table Name\"]\n",
    "\n",
    "#2. Remove any previously created semantic model of this name\n",
    "for index, row in sempy.fabric.list_items().iterrows():\n",
    "    if row[\"Type\"] == \"SemanticModel\" and row[\"Display Name\"] == SemanticModelName:\n",
    "        sempy.fabric.delete_item(item_id=row[\"Id\"],workspace=workspaceId)\n",
    "        print(f\"Deleted semantic model {row['Display Name']}\")\n",
    "\n",
    "#3 Create the semantic model\n",
    "labs.directlake.generate_direct_lake_semantic_model(dataset=SemanticModelName,lakehouse_tables=lakehouseTables,workspace=workspaceName,lakehouse=lakehouseId,refresh=False,overwrite=True)"
   ]
  },
  {
   "cell_type": "markdown",
   "id": "b297970c-c328-48e2-a9dc-95d970117455",
   "metadata": {
    "microsoft": {
     "language": "python",
     "language_group": "synapse_pyspark"
    },
    "nteract": {
     "transient": {
      "deleting": false
     }
    }
   },
   "source": [
    "## Add Model Relationships"
   ]
  },
  {
   "cell_type": "code",
   "execution_count": null,
   "id": "2d544d4d-19d9-4f0c-884b-ad767d4e04ca",
   "metadata": {
    "microsoft": {
     "language": "python",
     "language_group": "synapse_pyspark"
    }
   },
   "outputs": [],
   "source": [
    "with labs.tom.connect_semantic_model(dataset=SemanticModelName, readonly=False) as tom:\n",
    "    #1. Remove any existing relationships\n",
    "    for r in tom.model.Relationships:\n",
    "        tom.model.Relationships.Remove(r)\n",
    "\n",
    "    #2. Creates correct relationships\n",
    "    tom.add_relationship(from_table=\"Fact_A_Level\"          , from_column=\"DateId\"                , to_table=\"Dim_Date\"                 , to_column=\"DateId\"                , from_cardinality=\"many\" , to_cardinality=\"one\")\n",
    "    tom.add_relationship(from_table=\"Fact_A_Level\"          , from_column=\"AppAttributesKey\"      , to_table=\"Dim_Attributes\"           , to_column=\"AppAttributesKey\"      , from_cardinality=\"many\" , to_cardinality=\"one\")\n",
    "    tom.add_relationship(from_table=\"Fact_A_Level\"          , from_column=\"CustomerAttributesKey\" , to_table=\"Dim_CustomerAttributes\"   , to_column=\"CustomerAttributesKey\" , from_cardinality=\"many\" , to_cardinality=\"one\")\n",
    "    tom.add_relationship(from_table=\"Fact_A_Level\"          , from_column=\"DeviceAttributesKey\"   , to_table=\"Dim_DeviceAttributes\"     , to_column=\"DeviceAttributesKey\"   , from_cardinality=\"many\" , to_cardinality=\"one\")\n",
    "\n",
    "    tom.add_relationship(from_table=\"Fact_A_Level_Split_1\"  , from_column=\"DateId\"                , to_table=\"Dim_Date\"                 , to_column=\"DateId\"                , from_cardinality=\"many\" , to_cardinality=\"one\")\n",
    "    tom.add_relationship(from_table=\"Fact_A_Level_Split_1\"  , from_column=\"AppAttributesKey\"      , to_table=\"Dim_Attributes\"           , to_column=\"AppAttributesKey\"      , from_cardinality=\"many\" , to_cardinality=\"one\")\n",
    "    tom.add_relationship(from_table=\"Fact_A_Level_Split_1\"  , from_column=\"CustomerAttributesKey\" , to_table=\"Dim_CustomerAttributes\"   , to_column=\"CustomerAttributesKey\" , from_cardinality=\"many\" , to_cardinality=\"one\")\n",
    "    tom.add_relationship(from_table=\"Fact_A_Level_Split_1\"  , from_column=\"DeviceAttributesKey\"   , to_table=\"Dim_DeviceAttributes\"     , to_column=\"DeviceAttributesKey\"   , from_cardinality=\"many\" , to_cardinality=\"one\")\n",
    "\n",
    "    tom.add_relationship(from_table=\"Fact_A_Level_Split_2\"  , from_column=\"DateId\"                , to_table=\"Dim_Date\"                 , to_column=\"DateId\"                , from_cardinality=\"many\" , to_cardinality=\"one\")\n",
    "    tom.add_relationship(from_table=\"Fact_A_Level_Split_2\"  , from_column=\"AppAttributesKey\"      , to_table=\"Dim_Attributes\"           , to_column=\"AppAttributesKey\"      , from_cardinality=\"many\" , to_cardinality=\"one\")\n",
    "    tom.add_relationship(from_table=\"Fact_A_Level_Split_2\"  , from_column=\"CustomerAttributesKey\" , to_table=\"Dim_CustomerAttributes\"   , to_column=\"CustomerAttributesKey\" , from_cardinality=\"many\" , to_cardinality=\"one\")\n",
    "    tom.add_relationship(from_table=\"Fact_A_Level_Split_2\"  , from_column=\"DeviceAttributesKey\"   , to_table=\"Dim_DeviceAttributes\"     , to_column=\"DeviceAttributesKey\"   , from_cardinality=\"many\" , to_cardinality=\"one\")"
   ]
  },
  {
   "cell_type": "markdown",
   "id": "44ddd0a9-4a0e-4608-af6d-dd061c9904a3",
   "metadata": {
    "microsoft": {
     "language": "python",
     "language_group": "synapse_pyspark"
    },
    "nteract": {
     "transient": {
      "deleting": false
     }
    }
   },
   "source": [
    "## Hide Columns in Fact Table"
   ]
  },
  {
   "cell_type": "code",
   "execution_count": null,
   "id": "d82a2f42-d83f-412f-98a8-d539628bf738",
   "metadata": {
    "microsoft": {
     "language": "python",
     "language_group": "synapse_pyspark"
    }
   },
   "outputs": [],
   "source": [
    "tom = labs.tom.TOMWrapper(dataset=SemanticModelName, workspace=workspaceName, readonly=False)\n",
    "\n",
    "i:int=0\n",
    "for t in tom.model.Tables:\n",
    "    if t.Name in [\"Fact_A_Level\",\"Fact_A_Level_Split_1\",\"Fact_A_Level_Split_2\"]:\n",
    "\n",
    "        for c in t.Columns:\n",
    "            c.IsHidden=True\n",
    "\n",
    "        bim = json.dumps(tom.get_bim()[\"model\"][\"tables\"][i],indent=4)\n",
    "        print(bim)\n",
    "    i=i+1"
   ]
  },
  {
   "cell_type": "markdown",
   "id": "f4b6686b-c1ae-4e65-a56e-aba5d11fe60e",
   "metadata": {
    "microsoft": {
     "language": "python",
     "language_group": "synapse_pyspark"
    },
    "nteract": {
     "transient": {
      "deleting": false
     }
    }
   },
   "source": [
    "## Add Model Measures"
   ]
  },
  {
   "cell_type": "code",
   "execution_count": null,
   "id": "27e10203-dc48-472d-92a4-3fdd75a8d754",
   "metadata": {
    "microsoft": {
     "language": "python",
     "language_group": "synapse_pyspark"
    }
   },
   "outputs": [],
   "source": [
    "with labs.tom.connect_semantic_model(dataset=SemanticModelName, readonly=False) as tom:\n",
    "    #1. Remove any existing measures\n",
    "    for t in tom.model.Tables:\n",
    "        for m in t.Measures:\n",
    "            tom.remove_object(m)\n",
    "            print(f\"Measure {m.Name} removed\")\n",
    "\n",
    "    tom.add_measure(table_name=\"Fact_A_Level\",measure_name=\"Sum of Metric\",   expression=\"SUM(Fact_A_Level[Metric])\")\n",
    "    tom.add_measure(table_name=\"Fact_A_Level\",measure_name=\"Sum of Metric 1\", expression=\"\"\"\n",
    "    \n",
    "    \tVAR a = SUM(Fact_A_Level_Split_1[Metric_x100000000])\n",
    "\t\tVAR b = SUM(Fact_A_Level_Split_1[Metric_x10000])\n",
    "\t\tVAR c = SUM(Fact_A_Level_Split_1[Metric_x0])\n",
    "\t\t\n",
    "\t\tRETURN  ((a*1000000) + (b*100) + (c/100.0000)) \n",
    "            \"\"\")\n",
    "\n",
    "    tom.add_measure(table_name=\"Fact_A_Level\",measure_name=\"Sum of Metric 2\", expression=\"\"\"\n",
    "    \n",
    "    \tVAR a = SUM(Fact_A_Level_Split_2[Metric_x100000000])\n",
    "\t\tVAR b = SUM(Fact_A_Level_Split_2[Metric_x10000])\n",
    "\t\tVAR c = SUM(Fact_A_Level_Split_2[Metric_x0])\n",
    "\t\t\n",
    "\t\tRETURN ((a*1000000) + (b*100) + (c/100.00000)) \n",
    "            \"\"\")"
   ]
  },
  {
   "cell_type": "markdown",
   "id": "9a091c12",
   "metadata": {},
   "source": [
    "## 10. Mark DimDate as Date Table\n",
    "This code block:\n",
    "\n",
    "1.  Opens connection to semantic model.\n",
    "2.  Marks DimDate table as Date Table"
   ]
  },
  {
   "cell_type": "code",
   "execution_count": null,
   "id": "1da40854",
   "metadata": {},
   "outputs": [],
   "source": [
    "completedOK:bool=False\n",
    "while not completedOK:\n",
    "    try:\n",
    "        with labs.tom.connect_semantic_model(dataset=SemanticModelName, readonly=False) as tom:\n",
    "            tom.mark_as_date_table(table_name=\"Dim_Date\",column_name=\"DateId\")\n",
    "            completedOK=True\n",
    "    except:\n",
    "        print('Error with date table... trying again.')\n",
    "        sleep(3)\n",
    "\n",
    "print('done')"
   ]
  },
  {
   "cell_type": "markdown",
   "id": "35770fb9-3a0f-44b7-b5d6-5982e6c722d2",
   "metadata": {
    "microsoft": {
     "language": "python",
     "language_group": "synapse_pyspark"
    },
    "nteract": {
     "transient": {
      "deleting": false
     }
    }
   },
   "source": [
    "## Reframe model to update changes"
   ]
  },
  {
   "cell_type": "code",
   "execution_count": null,
   "id": "a88e354f-b155-4cc0-891c-3dcf8a00211f",
   "metadata": {
    "microsoft": {
     "language": "python",
     "language_group": "synapse_pyspark"
    }
   },
   "outputs": [],
   "source": [
    "reframeOK:bool=False\n",
    "while not reframeOK:\n",
    "    try:\n",
    "        result:pandas.DataFrame = labs.refresh_semantic_model(dataset=SemanticModelName)\n",
    "        reframeOK=True\n",
    "    except:\n",
    "        print('Error with reframe... trying again.')\n",
    "        triggerMetadataRefresh()\n",
    "        sleep(3)\n",
    "\n",
    "print('Custom Semantic Model reframe OK')"
   ]
  },
  {
   "cell_type": "markdown",
   "id": "7590e3a1-4dea-4938-9d8c-5bcc65aa4494",
   "metadata": {
    "jp-MarkdownHeadingCollapsed": true,
    "microsoft": {
     "language": "python",
     "language_group": "synapse_pyspark"
    },
    "nteract": {
     "transient": {
      "deleting": false
     }
    }
   },
   "source": [
    "## Run DMV to check column details"
   ]
  },
  {
   "cell_type": "code",
   "execution_count": null,
   "id": "e2adf46c-5b11-43b0-9fd9-88df5d64a029",
   "metadata": {
    "collapsed": false,
    "microsoft": {
     "language": "python",
     "language_group": "synapse_pyspark"
    }
   },
   "outputs": [],
   "source": [
    "def runDMV():\n",
    "    df = sempy.fabric.evaluate_dax(\n",
    "        dataset=SemanticModelName, \n",
    "        dax_string=\"\"\"\n",
    "        \n",
    "        SELECT \n",
    "            MEASURE_GROUP_NAME AS [TABLE],\n",
    "            ATTRIBUTE_NAME AS [COLUMN],\n",
    "            DATATYPE ,\n",
    "            DICTIONARY_SIZE \t\t    AS SIZE ,\n",
    "            DICTIONARY_ISPAGEABLE \t\tAS PAGEABLE ,\n",
    "            DICTIONARY_ISRESIDENT\t\tAS RESIDENT ,\n",
    "            DICTIONARY_TEMPERATURE\t\tAS TEMPERATURE,\n",
    "            DICTIONARY_LAST_ACCESSED\tAS LASTACCESSED \n",
    "        FROM $SYSTEM.DISCOVER_STORAGE_TABLE_COLUMNS \n",
    "        ORDER BY \n",
    "            [DICTIONARY_TEMPERATURE] DESC\n",
    "        \n",
    "        \"\"\")\n",
    "    display(df)\n",
    "\n",
    "runDMV()"
   ]
  },
  {
   "cell_type": "markdown",
   "id": "a9f76ea7-bd3e-44c7-adce-4b5660da8b57",
   "metadata": {
    "jp-MarkdownHeadingCollapsed": true,
    "microsoft": {
     "language": "python",
     "language_group": "synapse_pyspark"
    },
    "nteract": {
     "transient": {
      "deleting": false
     }
    }
   },
   "source": [
    "## Create function to run DAX query with a server timings trace"
   ]
  },
  {
   "cell_type": "code",
   "execution_count": null,
   "id": "5a34aab3-49e8-40fd-8a57-5a5a36cace2d",
   "metadata": {
    "microsoft": {
     "language": "python",
     "language_group": "synapse_pyspark"
    }
   },
   "outputs": [],
   "source": [
    "import warnings\n",
    "from Microsoft.AnalysisServices.Tabular import TraceEventArgs\n",
    "from typing import Dict, List, Optional, Callable\n",
    "\n",
    "def runDMV():\n",
    "    df = sempy.fabric.evaluate_dax(\n",
    "        dataset=SemanticModelName, \n",
    "        dax_string=\"\"\"\n",
    "        \n",
    "        SELECT \n",
    "            MEASURE_GROUP_NAME AS [TABLE],\n",
    "            ATTRIBUTE_NAME AS [COLUMN],\n",
    "            DATATYPE ,\n",
    "            DICTIONARY_SIZE \t\t    AS SIZE ,\n",
    "            DICTIONARY_ISPAGEABLE \t\tAS PAGEABLE ,\n",
    "            DICTIONARY_ISRESIDENT\t\tAS RESIDENT ,\n",
    "            DICTIONARY_TEMPERATURE\t\tAS TEMPERATURE,\n",
    "            DICTIONARY_LAST_ACCESSED\tAS LASTACCESSED \n",
    "        FROM $SYSTEM.DISCOVER_STORAGE_TABLE_COLUMNS \n",
    "        ORDER BY \n",
    "            [DICTIONARY_TEMPERATURE] DESC\n",
    "        \n",
    "        \"\"\")\n",
    "    display(df)\n",
    "\n",
    "def filter_func(e):\n",
    "    retVal:bool=True\n",
    "    if e.EventSubclass.ToString() == \"VertiPaqScanInternal\":\n",
    "        retVal=False      \n",
    "    #     #if e.EventSubClass.ToString() == \"VertiPaqScanInternal\":\n",
    "    #     retVal=False\n",
    "    return retVal\n",
    "\n",
    "# define events to trace and their corresponding columns\n",
    "def runQueryWithTrace (expr:str,workspaceName:str,SemanticModelName:str,Result:Optional[bool]=True,Trace:Optional[bool]=True,DMV:Optional[bool]=True) -> pandas.DataFrame:\n",
    "    event_schema = fabric.Trace.get_default_query_trace_schema()\n",
    "    event_schema.update({\"ExecutionMetrics\":[\"EventClass\",\"TextData\"]})\n",
    "    del event_schema['VertiPaqSEQueryBegin']\n",
    "    del event_schema['VertiPaqSEQueryCacheMatch']\n",
    "    del event_schema['DirectQueryBegin']\n",
    "\n",
    "    warnings.filterwarnings(\"ignore\")\n",
    "\n",
    "    WorkspaceName = workspaceName\n",
    "    SemanticModelName = SemanticModelName\n",
    "\n",
    "    with fabric.create_trace_connection(SemanticModelName,WorkspaceName) as trace_connection:\n",
    "        # create trace on server with specified events\n",
    "        with trace_connection.create_trace(\n",
    "            event_schema=event_schema, \n",
    "            name=\"Simple Query Trace\",\n",
    "            filter_predicate=filter_func,\n",
    "            stop_event=\"QueryEnd\"\n",
    "            ) as trace:\n",
    "\n",
    "            trace.start()\n",
    "\n",
    "            df=sempy.fabric.evaluate_dax(\n",
    "                dataset=SemanticModelName, \n",
    "                dax_string=expr)\n",
    "\n",
    "            if Result:\n",
    "                displayHTML(f\"<H2>####### DAX QUERY RESULT #######</H2>\")\n",
    "                display(df)\n",
    "\n",
    "            # Wait 5 seconds for trace data to arrive\n",
    "            time.sleep(5)\n",
    "\n",
    "            # stop Trace and collect logs\n",
    "            final_trace_logs = trace.stop()\n",
    "\n",
    "    if Trace:\n",
    "        displayHTML(f\"<H2>####### SERVER TIMINGS #######</H2>\")\n",
    "        display(final_trace_logs)\n",
    "    \n",
    "    if DMV:\n",
    "        displayHTML(f\"<H2>####### SHOW DMV RESULTS #######</H2>\")\n",
    "        runDMV()\n",
    "\n",
    "    return final_trace_logs\n",
    "\n"
   ]
  },
  {
   "cell_type": "markdown",
   "id": "5de6a700-c2f8-457d-bc3d-e298cd5cf0ae",
   "metadata": {
    "microsoft": {
     "language": "python",
     "language_group": "synapse_pyspark"
    },
    "nteract": {
     "transient": {
      "deleting": false
     }
    }
   },
   "source": [
    "## Run some DAX Queries"
   ]
  },
  {
   "cell_type": "markdown",
   "id": "359b3be7-b58a-4c61-8fd8-f8808a43990c",
   "metadata": {
    "microsoft": {
     "language": "python",
     "language_group": "synapse_pyspark"
    },
    "nteract": {
     "transient": {
      "deleting": false
     }
    }
   },
   "source": [
    "## First run to test time to page columns in"
   ]
  },
  {
   "cell_type": "markdown",
   "id": "5c1f24ad-8306-47de-88ce-08429652902a",
   "metadata": {
    "microsoft": {
     "language": "python",
     "language_group": "synapse_pyspark"
    },
    "nteract": {
     "transient": {
      "deleting": false
     }
    }
   },
   "source": [
    "### Running SUM() over original column"
   ]
  },
  {
   "cell_type": "code",
   "execution_count": null,
   "id": "b582e3cb-b971-4c96-90fc-6b38e7c74096",
   "metadata": {
    "collapsed": false,
    "microsoft": {
     "language": "python",
     "language_group": "synapse_pyspark"
    }
   },
   "outputs": [],
   "source": [
    "trace1 = runQueryWithTrace(\"\"\"\n",
    "\n",
    "    EVALUATE\n",
    "        {[Sum of Metric]}\n",
    "\n",
    "\"\"\",workspaceName,SemanticModelName,Result=False,DMV=False)"
   ]
  },
  {
   "cell_type": "markdown",
   "id": "c0b990f3-e6b7-4fb3-946f-5b20bda86734",
   "metadata": {
    "microsoft": {
     "language": "python",
     "language_group": "synapse_pyspark"
    },
    "nteract": {
     "transient": {
      "deleting": false
     }
    }
   },
   "source": [
    "### Running SUM() over new column in model still with original column"
   ]
  },
  {
   "cell_type": "code",
   "execution_count": null,
   "id": "eed5056c-f006-451c-b8e3-008ca6447a73",
   "metadata": {
    "collapsed": false,
    "microsoft": {
     "language": "python",
     "language_group": "synapse_pyspark"
    }
   },
   "outputs": [],
   "source": [
    "trace2 = runQueryWithTrace(\"\"\"\n",
    "\n",
    "    EVALUATE\n",
    "        {[Sum of Metric 1]}\n",
    "\n",
    "\"\"\",workspaceName,SemanticModelName,Result=False,DMV=False)"
   ]
  },
  {
   "cell_type": "code",
   "execution_count": null,
   "id": "c1aac7c2-8fec-444a-9388-02d47734e9c5",
   "metadata": {
    "collapsed": false,
    "microsoft": {
     "language": "python",
     "language_group": "synapse_pyspark"
    }
   },
   "outputs": [],
   "source": [
    "trace3 = runQueryWithTrace(\"\"\"\n",
    "\n",
    "    EVALUATE\n",
    "        {[Sum of Metric 2]}\n",
    "\n",
    "\"\"\",workspaceName,SemanticModelName,Result=False,DMV=False)"
   ]
  },
  {
   "cell_type": "code",
   "execution_count": null,
   "id": "f33666bd",
   "metadata": {},
   "outputs": [],
   "source": [
    "display(trace1)\n",
    "display(trace2)\n",
    "display(trace3)\n",
    "runDMV()"
   ]
  },
  {
   "cell_type": "markdown",
   "id": "2a4ebace-01ed-4df2-bf95-a1f4403da19f",
   "metadata": {
    "microsoft": {
     "language": "python",
     "language_group": "synapse_pyspark"
    },
    "nteract": {
     "transient": {
      "deleting": false
     }
    }
   },
   "source": [
    "## Warm cache perf"
   ]
  },
  {
   "cell_type": "markdown",
   "id": "70ebc42e-2bdf-45a2-93a8-7e3395057229",
   "metadata": {
    "microsoft": {
     "language": "python",
     "language_group": "synapse_pyspark"
    },
    "nteract": {
     "transient": {
      "deleting": false
     }
    }
   },
   "source": [
    "Clear the DAX Query Cache and then run a query inside a Server Timings Trace"
   ]
  },
  {
   "cell_type": "code",
   "execution_count": null,
   "id": "c3f860ee-b2cc-4346-8573-3130d71deaa9",
   "metadata": {
    "collapsed": false,
    "microsoft": {
     "language": "python",
     "language_group": "synapse_pyspark"
    }
   },
   "outputs": [],
   "source": [
    "labs.clear_cache(SemanticModelName)\n",
    "\n",
    "trace4 = runQueryWithTrace(\"\"\"\n",
    "    EVALUATE \n",
    "        SUMMARIZECOLUMNS(\n",
    "            Dim_Date[DateId]\n",
    "\n",
    "            , \"SUM of Base\" \t, [Sum of Metric]\n",
    "            , \"SUM of Metric 1\" , [Sum of Metric 1]\n",
    "            , \"SUM of Metric 2\" , [Sum of Metric 2]\n",
    "            )\n",
    "        ORDER BY [DateId]   \n",
    "\n",
    "\"\"\",workspaceName,SemanticModelName,Result=False,DMV=False)"
   ]
  },
  {
   "cell_type": "code",
   "execution_count": null,
   "id": "6ed1e8b1-50a6-4fd4-b4e6-e07bf609ed1d",
   "metadata": {
    "collapsed": false,
    "microsoft": {
     "language": "python",
     "language_group": "synapse_pyspark"
    }
   },
   "outputs": [],
   "source": [
    "df=sempy.fabric.evaluate_dax(\n",
    "    dataset=SemanticModelName, \n",
    "    dax_string=\"\"\"\n",
    "    \n",
    "    evaluate tabletraits()\n",
    "    \n",
    "    \"\"\")\n",
    "display(df)"
   ]
  },
  {
   "cell_type": "code",
   "execution_count": null,
   "id": "e6c890b6-841d-4bf1-a2c0-f5742f462eb7",
   "metadata": {
    "collapsed": false,
    "microsoft": {
     "language": "python",
     "language_group": "synapse_pyspark"
    }
   },
   "outputs": [],
   "source": [
    "runDMV()"
   ]
  }
 ],
 "metadata": {
  "dependencies": {},
  "kernel_info": {
   "name": "synapse_pyspark"
  },
  "kernelspec": {
   "display_name": "Synapse PySpark",
   "language": "Python",
   "name": "synapse_pyspark"
  },
  "language_info": {
   "name": "python"
  },
  "microsoft": {
   "language": "python",
   "language_group": "synapse_pyspark",
   "ms_spell_check": {
    "ms_spell_check_language": "en"
   }
  },
  "nteract": {
   "version": "nteract-front-end@1.0.0"
  },
  "spark_compute": {
   "compute_id": "/trident/default",
   "session_options": {
    "conf": {
     "spark.synapse.nbs.session.timeout": "1200000"
    }
   }
  },
  "synapse_widget": {
   "state": {
    "05af4395-d5d1-43cf-bfa4-a9dd68cd2114": {
     "persist_state": {
      "view": {
       "chartOptions": {
        "aggregationType": "count",
        "binsNumber": 10,
        "categoryFieldKeys": [
         "0"
        ],
        "chartType": "bar",
        "evaluatesOverAllRecords": false,
        "isStacked": false,
        "seriesFieldKeys": [
         "0"
        ],
        "wordFrequency": "-1"
       },
       "tableOptions": {},
       "type": "details",
       "viewOptionsGroup": [
        {
         "tabItems": [
          {
           "key": "0",
           "name": "Table",
           "options": {},
           "type": "table"
          }
         ]
        }
       ]
      }
     },
     "sync_state": {
      "isSummary": false,
      "is_jupyter": false,
      "language": "scala",
      "table": {
       "rows": [
        {
         "0": "/synfs/notebook/7f97db67-7db4-4e1e-a84b-d2b25c596324/ComprehensiveGuidetoDirectLake-WorkshopAssetsPerformance_Lakehouse",
         "1": "/ComprehensiveGuidetoDirectLake-WorkshopAssetsPerformance_Lakehouse",
         "2": "job",
         "3": "abfss://2435ad0e-cbcd-4737-8697-7bf7972c0360@onelake.dfs.fabric.microsoft.com/570d1511-e48a-4476-855e-1cdde66074a1",
         "4": "Lakehouse"
        },
        {
         "0": "/synfs/nb_resource/builtin",
         "1": "/nb_resource/builtin",
         "2": "nb_resource",
         "3": "Notebook Working Directory",
         "4": "Notebook Working Directory"
        }
       ],
       "schema": [
        {
         "key": "0",
         "name": "localPath",
         "type": "string"
        },
        {
         "key": "1",
         "name": "mountPoint",
         "type": "string"
        },
        {
         "key": "2",
         "name": "scope",
         "type": "string"
        },
        {
         "key": "3",
         "name": "source",
         "type": "string"
        },
        {
         "key": "4",
         "name": "storageType",
         "type": "string"
        }
       ],
       "truncated": false
      }
     },
     "type": "Synapse.DataFrame"
    },
    "549e7e15-ae31-4e1d-99ce-87e886948e28": {
     "persist_state": {
      "view": {
       "chartOptions": {
        "aggregationType": "count",
        "binsNumber": 10,
        "categoryFieldKeys": [
         "0"
        ],
        "chartType": "bar",
        "evaluatesOverAllRecords": false,
        "isStacked": false,
        "seriesFieldKeys": [
         "0"
        ],
        "wordFrequency": "-1"
       },
       "tableOptions": {},
       "type": "details",
       "viewOptionsGroup": [
        {
         "tabItems": [
          {
           "key": "0",
           "name": "Table",
           "options": {},
           "type": "table"
          }
         ]
        }
       ]
      }
     },
     "sync_state": {
      "isSummary": false,
      "is_jupyter": false,
      "language": "scala",
      "table": {
       "rows": [
        {
         "0": "/synfs/nb_resource/builtin",
         "1": "/nb_resource/builtin",
         "2": "nb_resource",
         "3": "Notebook Working Directory",
         "4": "Notebook Working Directory"
        }
       ],
       "schema": [
        {
         "key": "0",
         "name": "localPath",
         "type": "string"
        },
        {
         "key": "1",
         "name": "mountPoint",
         "type": "string"
        },
        {
         "key": "2",
         "name": "scope",
         "type": "string"
        },
        {
         "key": "3",
         "name": "source",
         "type": "string"
        },
        {
         "key": "4",
         "name": "storageType",
         "type": "string"
        }
       ],
       "truncated": false
      }
     },
     "type": "Synapse.DataFrame"
    },
    "5e319e61-7678-4477-bea2-7757f3583991": {
     "persist_state": {
      "view": {
       "chartOptions": {
        "aggregationType": "count",
        "binsNumber": 10,
        "categoryFieldKeys": [
         "4"
        ],
        "chartType": "bar",
        "evaluatesOverAllRecords": false,
        "isStacked": false,
        "seriesFieldKeys": [
         "4"
        ],
        "wordFrequency": "-1"
       },
       "tableOptions": {},
       "type": "details",
       "viewOptionsGroup": [
        {
         "tabItems": [
          {
           "key": "0",
           "name": "Table",
           "options": {},
           "type": "table"
          }
         ]
        }
       ]
      }
     },
     "sync_state": {
      "isSummary": false,
      "language": "python",
      "table": {
       "rows": [
        {
         "0": "Comprehensive Guide to Direct Lake - Workshop Assets",
         "1": "2435ad0e-cbcd-4737-8697-7bf7972c0360",
         "2": "Performance_Lakehouse",
         "3": "570d1511-e48a-4476-855e-1cdde66074a1",
         "4": "Fact_A_Level",
         "5": "Metric",
         "6": "DOUBLE",
         "7": "5462017463",
         "8": "6008412576",
         "9": "1500000000",
         "10": "13396675094",
         "11": "40.7714408588",
         "12": "2025-03-17 01:51:13.608463"
        },
        {
         "0": "Comprehensive Guide to Direct Lake - Workshop Assets",
         "1": "2435ad0e-cbcd-4737-8697-7bf7972c0360",
         "2": "Performance_Lakehouse",
         "3": "570d1511-e48a-4476-855e-1cdde66074a1",
         "4": "Fact_A_Level_Split_1",
         "5": "Metric",
         "6": "DOUBLE",
         "7": "5088096079",
         "8": "5565077632",
         "9": "1500000000",
         "10": "16392094172",
         "11": "31.0399392879",
         "12": "2025-03-17 01:51:45.140545"
        },
        {
         "0": "Comprehensive Guide to Direct Lake - Workshop Assets",
         "1": "2435ad0e-cbcd-4737-8697-7bf7972c0360",
         "2": "Performance_Lakehouse",
         "3": "570d1511-e48a-4476-855e-1cdde66074a1",
         "4": "Fact_A_Level_Split_1",
         "5": "Metric_x0",
         "6": "DOUBLE",
         "7": "2537320453",
         "8": "2540228365",
         "9": "1500000000",
         "10": "16392094172",
         "11": "15.4789279904",
         "12": "2025-03-17 01:51:45.140545"
        },
        {
         "0": "Comprehensive Guide to Direct Lake - Workshop Assets",
         "1": "2435ad0e-cbcd-4737-8697-7bf7972c0360",
         "2": "Performance_Lakehouse",
         "3": "570d1511-e48a-4476-855e-1cdde66074a1",
         "4": "Fact_A_Level_Split_1",
         "5": "Metric_x10000",
         "6": "DOUBLE",
         "7": "329542860",
         "8": "334619886",
         "9": "1500000000",
         "10": "16392094172",
         "11": "2.0103768106",
         "12": "2025-03-17 01:51:45.140545"
        },
        {
         "0": "Comprehensive Guide to Direct Lake - Workshop Assets",
         "1": "2435ad0e-cbcd-4737-8697-7bf7972c0360",
         "2": "Performance_Lakehouse",
         "3": "570d1511-e48a-4476-855e-1cdde66074a1",
         "4": "Fact_A_Level_Split_1",
         "5": "Metric_x100000000",
         "6": "DOUBLE",
         "7": "667754",
         "8": "752047",
         "9": "1500000000",
         "10": "16392094172",
         "11": "0.0040736345",
         "12": "2025-03-17 01:51:45.140545"
        },
        {
         "0": "Comprehensive Guide to Direct Lake - Workshop Assets",
         "1": "2435ad0e-cbcd-4737-8697-7bf7972c0360",
         "2": "Performance_Lakehouse",
         "3": "570d1511-e48a-4476-855e-1cdde66074a1",
         "4": "Fact_A_Level_Split_2",
         "5": "Metric_x0",
         "6": "DOUBLE",
         "7": "2568461389",
         "8": "2570720212",
         "9": "1500000000",
         "10": "11855023103",
         "11": "21.6655958127",
         "12": "2025-03-17 01:52:15.545570"
        },
        {
         "0": "Comprehensive Guide to Direct Lake - Workshop Assets",
         "1": "2435ad0e-cbcd-4737-8697-7bf7972c0360",
         "2": "Performance_Lakehouse",
         "3": "570d1511-e48a-4476-855e-1cdde66074a1",
         "4": "Fact_A_Level_Split_2",
         "5": "Metric_x10000",
         "6": "DOUBLE",
         "7": "355284358",
         "8": "363110975",
         "9": "1500000000",
         "10": "11855023103",
         "11": "2.9969098745",
         "12": "2025-03-17 01:52:15.545570"
        },
        {
         "0": "Comprehensive Guide to Direct Lake - Workshop Assets",
         "1": "2435ad0e-cbcd-4737-8697-7bf7972c0360",
         "2": "Performance_Lakehouse",
         "3": "570d1511-e48a-4476-855e-1cdde66074a1",
         "4": "Fact_A_Level_Split_2",
         "5": "Metric_x100000000",
         "6": "DOUBLE",
         "7": "654005",
         "8": "709360",
         "9": "1500000000",
         "10": "11855023103",
         "11": "0.0055166911",
         "12": "2025-03-17 01:52:15.545570"
        }
       ],
       "schema": [
        {
         "key": "0",
         "name": "Workspace Name",
         "type": "string"
        },
        {
         "key": "1",
         "name": "Workspace Id",
         "type": "string"
        },
        {
         "key": "2",
         "name": "Lakehouse Name",
         "type": "string"
        },
        {
         "key": "3",
         "name": "Lakehouse Id",
         "type": "string"
        },
        {
         "key": "4",
         "name": "Table Name",
         "type": "string"
        },
        {
         "key": "5",
         "name": "Column Name",
         "type": "string"
        },
        {
         "key": "6",
         "name": "Column Type",
         "type": "string"
        },
        {
         "key": "7",
         "name": "Compressed Size",
         "type": "bigint"
        },
        {
         "key": "8",
         "name": "Uncompressed Size",
         "type": "bigint"
        },
        {
         "key": "9",
         "name": "Total Table Rows",
         "type": "bigint"
        },
        {
         "key": "10",
         "name": "Table Size",
         "type": "bigint"
        },
        {
         "key": "11",
         "name": "Size Percent Of Table",
         "type": "double"
        },
        {
         "key": "12",
         "name": "Timestamp",
         "type": "string"
        }
       ],
       "truncated": false
      },
      "wranglerEntryContext": {
       "candidateVariableNames": [
        "df4"
       ],
       "dataframeType": "pandas"
      }
     },
     "type": "Synapse.DataFrame"
    },
    "677a3bac-94a8-43e2-9bc8-18594fc17a09": {
     "persist_state": {
      "view": {
       "chartOptions": {
        "aggregationType": "count",
        "binsNumber": 10,
        "categoryFieldKeys": [
         "0"
        ],
        "chartType": "bar",
        "evaluatesOverAllRecords": false,
        "isStacked": false,
        "seriesFieldKeys": [
         "0"
        ],
        "wordFrequency": "-1"
       },
       "tableOptions": {},
       "type": "details",
       "viewOptionsGroup": [
        {
         "tabItems": [
          {
           "key": "0",
           "name": "Table",
           "options": {},
           "type": "table"
          }
         ]
        }
       ]
      }
     },
     "sync_state": {
      "isSummary": false,
      "is_jupyter": false,
      "language": "scala",
      "table": {
       "rows": [
        {
         "0": "/synfs/notebook/7f97db67-7db4-4e1e-a84b-d2b25c596324/ComprehensiveGuidetoDirectLake-WorkshopAssetsPerformance_Lakehouse",
         "1": "/ComprehensiveGuidetoDirectLake-WorkshopAssetsPerformance_Lakehouse",
         "2": "job",
         "3": "abfss://2435ad0e-cbcd-4737-8697-7bf7972c0360@onelake.dfs.fabric.microsoft.com/570d1511-e48a-4476-855e-1cdde66074a1",
         "4": "Lakehouse"
        },
        {
         "0": "/synfs/nb_resource/builtin",
         "1": "/nb_resource/builtin",
         "2": "nb_resource",
         "3": "Notebook Working Directory",
         "4": "Notebook Working Directory"
        }
       ],
       "schema": [
        {
         "key": "0",
         "name": "localPath",
         "type": "string"
        },
        {
         "key": "1",
         "name": "mountPoint",
         "type": "string"
        },
        {
         "key": "2",
         "name": "scope",
         "type": "string"
        },
        {
         "key": "3",
         "name": "source",
         "type": "string"
        },
        {
         "key": "4",
         "name": "storageType",
         "type": "string"
        }
       ],
       "truncated": false
      }
     },
     "type": "Synapse.DataFrame"
    },
    "6d17740f-f190-4a09-a69c-4bab43f7a7a5": {
     "persist_state": {
      "view": {
       "chartOptions": {
        "aggregationType": "count",
        "binsNumber": 10,
        "categoryFieldKeys": [
         "0"
        ],
        "chartType": "bar",
        "evaluatesOverAllRecords": false,
        "isStacked": false,
        "seriesFieldKeys": [
         "0"
        ],
        "wordFrequency": "-1"
       },
       "tableOptions": {},
       "type": "details",
       "viewOptionsGroup": [
        {
         "tabItems": [
          {
           "key": "0",
           "name": "Table",
           "options": {},
           "type": "table"
          }
         ]
        }
       ]
      }
     },
     "sync_state": {
      "isSummary": false,
      "is_jupyter": false,
      "language": "scala",
      "table": {
       "rows": [
        {
         "0": "/synfs/notebook/7f97db67-7db4-4e1e-a84b-d2b25c596324/ComprehensiveGuidetoDirectLake-WorkshopAssetsPerformance_Lakehouse",
         "1": "/ComprehensiveGuidetoDirectLake-WorkshopAssetsPerformance_Lakehouse",
         "2": "job",
         "3": "abfss://2435ad0e-cbcd-4737-8697-7bf7972c0360@onelake.dfs.fabric.microsoft.com/570d1511-e48a-4476-855e-1cdde66074a1",
         "4": "Lakehouse",
         "index": 0,
         "key": 0
        },
        {
         "0": "/synfs/nb_resource/builtin",
         "1": "/nb_resource/builtin",
         "2": "nb_resource",
         "3": "Notebook Working Directory",
         "4": "Notebook Working Directory",
         "index": 1,
         "key": 1
        }
       ],
       "schema": [
        {
         "key": "0",
         "name": "localPath",
         "type": "string"
        },
        {
         "key": "1",
         "name": "mountPoint",
         "type": "string"
        },
        {
         "key": "2",
         "name": "scope",
         "type": "string"
        },
        {
         "key": "3",
         "name": "source",
         "type": "string"
        },
        {
         "key": "4",
         "name": "storageType",
         "type": "string"
        }
       ],
       "truncated": false
      }
     },
     "type": "Synapse.DataFrame"
    },
    "6d2a9db8-dace-4c14-8b26-5fa1cdf784a5": {
     "persist_state": {
      "view": {
       "chartOptions": {
        "aggregationType": "sum",
        "binsNumber": 10,
        "categoryFieldKeys": [],
        "chartType": "bar",
        "evaluatesOverAllRecords": false,
        "isStacked": false,
        "seriesFieldKeys": [
         "5"
        ],
        "wordFrequency": "-1"
       },
       "tableOptions": {},
       "type": "details",
       "viewOptionsGroup": [
        {
         "tabItems": [
          {
           "key": "0",
           "name": "Table",
           "options": {},
           "type": "table"
          }
         ]
        }
       ]
      }
     },
     "sync_state": {
      "isSummary": false,
      "language": "scala",
      "table": {
       "rows": [
        {
         "0": "20230930",
         "1": "-3717075802680290142",
         "2": "4648217898924427215",
         "3": "-6225662437660601472",
         "4": "24237.27",
         "5": "57231.86",
         "6": "5918691.99",
         "7": "5.0",
         "8": "9186.0",
         "9": "9199.0"
        },
        {
         "0": "20230930",
         "1": "-3717075802680290142",
         "2": "4648217898924427215",
         "3": "2106968111937359348",
         "4": "16649.31",
         "5": "36043.26",
         "6": "5918116.2",
         "7": "5.0",
         "8": "9181.0",
         "9": "1620.0"
        },
        {
         "0": "20230930",
         "1": "-3717075802680290142",
         "2": "4648217898924427215",
         "3": "2346723421924531388",
         "4": "20583.12",
         "5": "45339.14",
         "6": "5889596.23",
         "7": "5.0",
         "8": "8895.0",
         "9": "9623.0"
        },
        {
         "0": "20230930",
         "1": "-3717075802680290142",
         "2": "4648217898924427215",
         "3": "-9205622247199496362",
         "4": "19345.3",
         "5": "47316.75",
         "6": "5835936.89",
         "7": "5.0",
         "8": "8359.0",
         "9": "3689.0"
        },
        {
         "0": "20230930",
         "1": "-3717075802680290142",
         "2": "4648217898924427215",
         "3": "-5887473985472879314",
         "4": "25601.62",
         "5": "67087.89",
         "6": "5792991.94",
         "7": "5.0",
         "8": "7929.0",
         "9": "9194.0"
        },
        {
         "0": "20230930",
         "1": "-3717075802680290142",
         "2": "4648217898924427215",
         "3": "-1495356747769883184",
         "4": "15595.61",
         "5": "36043.65",
         "6": "5755385.94",
         "7": "5.0",
         "8": "7553.0",
         "9": "8594.0"
        },
        {
         "0": "20230930",
         "1": "-3717075802680290142",
         "2": "4648217898924427215",
         "3": "1346415092069753375",
         "4": "23862.46",
         "5": "53947.61",
         "6": "5728362.95",
         "7": "5.0",
         "8": "7283.0",
         "9": "6295.0"
        },
        {
         "0": "20230930",
         "1": "-3717075802680290142",
         "2": "4648217898924427215",
         "3": "-3052694110215843716",
         "4": "22386.06",
         "5": "51611.49",
         "6": "5652769.99",
         "7": "5.0",
         "8": "6527.0",
         "9": "6999.0"
        },
        {
         "0": "20230930",
         "1": "-3717075802680290142",
         "2": "4648217898924427215",
         "3": "-7290098163552484362",
         "4": "14512.08",
         "5": "33838.11",
         "6": "5472907.04",
         "7": "5.0",
         "8": "4729.0",
         "9": "704.0"
        },
        {
         "0": "20230930",
         "1": "-3717075802680290142",
         "2": "4648217898924427215",
         "3": "-4240781093875657398",
         "4": "18808.38",
         "5": "37652.45",
         "6": "5412477.96",
         "7": "5.0",
         "8": "4124.0",
         "9": "7796.0"
        },
        {
         "0": "20230930",
         "1": "-3717075802680290142",
         "2": "4648217898924427215",
         "3": "56189496290196675",
         "4": "15800.84",
         "5": "38407.59",
         "6": "5388105.47",
         "7": "5.0",
         "8": "3881.0",
         "9": "547.0"
        },
        {
         "0": "20230930",
         "1": "-3717075802680290142",
         "2": "4648217898924427215",
         "3": "-1314548961148873945",
         "4": "17020.51",
         "5": "35430.45",
         "6": "5353783.43",
         "7": "5.0",
         "8": "3537.0",
         "9": "8343.0"
        },
        {
         "0": "20230930",
         "1": "-3717075802680290142",
         "2": "4648217898924427215",
         "3": "-3826258920738539172",
         "4": "15857.56",
         "5": "34358.05",
         "6": "5331489.56",
         "7": "5.0",
         "8": "3314.0",
         "9": "8956.0"
        },
        {
         "0": "20230930",
         "1": "-3717075802680290142",
         "2": "4648217898924427215",
         "3": "-8646547845124332050",
         "4": "17905.83",
         "5": "42367.24",
         "6": "5304092.96",
         "7": "5.0",
         "8": "3040.0",
         "9": "9296.0"
        },
        {
         "0": "20230930",
         "1": "-3717075802680290142",
         "2": "4648217898924427215",
         "3": "-3947278299426688166",
         "4": "14866.78",
         "5": "30286.59",
         "6": "5276961.74",
         "7": "5.0",
         "8": "2769.0",
         "9": "6174.0"
        },
        {
         "0": "20230930",
         "1": "-3717075802680290142",
         "2": "4648217898924427215",
         "3": "-7604199219331889284",
         "4": "16286.63",
         "5": "46484.63",
         "6": "5246099.94",
         "7": "5.0",
         "8": "2460.0",
         "9": "9994.0"
        },
        {
         "0": "20230930",
         "1": "-3717075802680290142",
         "2": "4648217898924427215",
         "3": "-5610502246813836844",
         "4": "17090.49",
         "5": "42256.69",
         "6": "5233051.07",
         "7": "5.0",
         "8": "2330.0",
         "9": "5107.0"
        },
        {
         "0": "20230930",
         "1": "-3717075802680290142",
         "2": "4648217898924427215",
         "3": "-7604798755357712446",
         "4": "18527.29",
         "5": "55492.5",
         "6": "5202623.03",
         "7": "5.0",
         "8": "2026.0",
         "9": "2303.0"
        },
        {
         "0": "20230930",
         "1": "-3717075802680290142",
         "2": "4648217898924427215",
         "3": "1340452357739705622",
         "4": "13442.29",
         "5": "30217.57",
         "6": "5157061.06",
         "7": "5.0",
         "8": "1570.0",
         "9": "6106.0"
        },
        {
         "0": "20230930",
         "1": "-3717075802680290142",
         "2": "4648217898924427215",
         "3": "2261849223391308272",
         "4": "20136.88",
         "5": "47222.68",
         "6": "5087189.93",
         "7": "5.0",
         "8": "871.0",
         "9": "8993.0"
        }
       ],
       "schema": [
        {
         "key": "0",
         "name": "DateId",
         "type": "int"
        },
        {
         "key": "1",
         "name": "AppAttributesKey",
         "type": "bigint"
        },
        {
         "key": "2",
         "name": "CustomerAttributesKey",
         "type": "bigint"
        },
        {
         "key": "3",
         "name": "DeviceAttributesKey",
         "type": "bigint"
        },
        {
         "key": "4",
         "name": "D",
         "type": "double"
        },
        {
         "key": "5",
         "name": "M",
         "type": "double"
        },
        {
         "key": "6",
         "name": "Metric",
         "type": "double"
        },
        {
         "key": "7",
         "name": "Metric_x100000000",
         "type": "double"
        },
        {
         "key": "8",
         "name": "Metric_x10000",
         "type": "double"
        },
        {
         "key": "9",
         "name": "Metric_x0",
         "type": "double"
        }
       ],
       "truncated": false
      },
      "wranglerEntryContext": {
       "dataframeType": "pyspark"
      }
     },
     "type": "Synapse.DataFrame"
    },
    "ab4767f3-1bea-4633-80f2-20ab55f45dfd": {
     "persist_state": {
      "view": {
       "chartOptions": {
        "aggregationType": "count",
        "binsNumber": 10,
        "categoryFieldKeys": [
         "0"
        ],
        "chartType": "bar",
        "evaluatesOverAllRecords": false,
        "isStacked": false,
        "seriesFieldKeys": [
         "0"
        ],
        "wordFrequency": "-1"
       },
       "tableOptions": {},
       "type": "details",
       "viewOptionsGroup": [
        {
         "tabItems": [
          {
           "key": "0",
           "name": "Table",
           "options": {},
           "type": "table"
          }
         ]
        }
       ]
      }
     },
     "sync_state": {
      "isSummary": false,
      "is_jupyter": false,
      "language": "scala",
      "table": {
       "rows": [
        {
         "0": "/synfs/notebook/7f97db67-7db4-4e1e-a84b-d2b25c596324/ComprehensiveGuidetoDirectLake-WorkshopAssetsPerformance_Lakehouse",
         "1": "/ComprehensiveGuidetoDirectLake-WorkshopAssetsPerformance_Lakehouse",
         "2": "job",
         "3": "abfss://2435ad0e-cbcd-4737-8697-7bf7972c0360@onelake.dfs.fabric.microsoft.com/570d1511-e48a-4476-855e-1cdde66074a1",
         "4": "Lakehouse",
         "index": 0,
         "key": 0
        },
        {
         "0": "/synfs/nb_resource/builtin",
         "1": "/nb_resource/builtin",
         "2": "nb_resource",
         "3": "Notebook Working Directory",
         "4": "Notebook Working Directory",
         "index": 1,
         "key": 1
        }
       ],
       "schema": [
        {
         "key": "0",
         "name": "localPath",
         "type": "string"
        },
        {
         "key": "1",
         "name": "mountPoint",
         "type": "string"
        },
        {
         "key": "2",
         "name": "scope",
         "type": "string"
        },
        {
         "key": "3",
         "name": "source",
         "type": "string"
        },
        {
         "key": "4",
         "name": "storageType",
         "type": "string"
        }
       ],
       "truncated": false
      }
     },
     "type": "Synapse.DataFrame"
    },
    "adb062f9-9752-466a-9476-b65c7d158be9": {
     "persist_state": {
      "view": {
       "chartOptions": {
        "aggregationType": "count",
        "binsNumber": 10,
        "categoryFieldKeys": [
         "0"
        ],
        "chartType": "bar",
        "evaluatesOverAllRecords": false,
        "isStacked": false,
        "seriesFieldKeys": [
         "0"
        ],
        "wordFrequency": "-1"
       },
       "tableOptions": {},
       "type": "details",
       "viewOptionsGroup": [
        {
         "tabItems": [
          {
           "key": "0",
           "name": "Table",
           "options": {},
           "type": "table"
          }
         ]
        }
       ]
      }
     },
     "sync_state": {
      "isSummary": false,
      "is_jupyter": false,
      "language": "scala",
      "table": {
       "rows": [
        {
         "0": "/synfs/notebook/7f97db67-7db4-4e1e-a84b-d2b25c596324/ComprehensiveGuidetoDirectLake-WorkshopAssetsPerformance_Lakehouse",
         "1": "/ComprehensiveGuidetoDirectLake-WorkshopAssetsPerformance_Lakehouse",
         "2": "job",
         "3": "abfss://2435ad0e-cbcd-4737-8697-7bf7972c0360@onelake.dfs.fabric.microsoft.com/570d1511-e48a-4476-855e-1cdde66074a1",
         "4": "Lakehouse",
         "index": 0,
         "key": 0
        }
       ],
       "schema": [
        {
         "key": "0",
         "name": "localPath",
         "type": "string"
        },
        {
         "key": "1",
         "name": "mountPoint",
         "type": "string"
        },
        {
         "key": "2",
         "name": "scope",
         "type": "string"
        },
        {
         "key": "3",
         "name": "source",
         "type": "string"
        },
        {
         "key": "4",
         "name": "storageType",
         "type": "string"
        }
       ],
       "truncated": false
      }
     },
     "type": "Synapse.DataFrame"
    },
    "adf80132-92de-46cc-a964-d0df69a8d7b0": {
     "persist_state": {
      "view": {
       "chartOptions": {
        "aggregationType": "sum",
        "binsNumber": 10,
        "categoryFieldKeys": [
         "4"
        ],
        "chartType": "bar",
        "evaluatesOverAllRecords": false,
        "isStacked": false,
        "seriesFieldKeys": [
         "10"
        ],
        "wordFrequency": "-1"
       },
       "tableOptions": {},
       "type": "details",
       "viewOptionsGroup": [
        {
         "tabItems": [
          {
           "key": "0",
           "name": "Table",
           "options": {},
           "type": "table"
          }
         ]
        }
       ]
      }
     },
     "sync_state": {
      "isSummary": false,
      "language": "python",
      "table": {
       "rows": [
        {
         "0": "Comprehensive Guide to Direct Lake - Workshop Assets",
         "1": "2435ad0e-cbcd-4737-8697-7bf7972c0360",
         "2": "Performance_Lakehouse",
         "3": "570d1511-e48a-4476-855e-1cdde66074a1",
         "4": "Fact_A_Level",
         "5": "1500000000",
         "6": "117",
         "7": "30",
         "8": "24354816",
         "9": "422204",
         "10": "12820512.82051282",
         "11": true,
         "12": "13396675094",
         "13": "2025-03-17 01:51:13.608463"
        },
        {
         "0": "Comprehensive Guide to Direct Lake - Workshop Assets",
         "1": "2435ad0e-cbcd-4737-8697-7bf7972c0360",
         "2": "Performance_Lakehouse",
         "3": "570d1511-e48a-4476-855e-1cdde66074a1",
         "4": "Fact_A_Level_Split_1",
         "5": "1500000000",
         "6": "73",
         "7": "35",
         "8": "49313792",
         "9": "184384",
         "10": "20547945.20547945",
         "11": true,
         "12": "16392094172",
         "13": "2025-03-17 01:51:45.140545"
        },
        {
         "0": "Comprehensive Guide to Direct Lake - Workshop Assets",
         "1": "2435ad0e-cbcd-4737-8697-7bf7972c0360",
         "2": "Performance_Lakehouse",
         "3": "570d1511-e48a-4476-855e-1cdde66074a1",
         "4": "Fact_A_Level_Split_2",
         "5": "1500000000",
         "6": "46",
         "7": "30",
         "8": "65001653",
         "9": "536288",
         "10": "32608695.652173914",
         "11": true,
         "12": "11855023103",
         "13": "2025-03-17 01:52:15.545570"
        }
       ],
       "schema": [
        {
         "key": "0",
         "name": "Workspace Name",
         "type": "string"
        },
        {
         "key": "1",
         "name": "Workspace Id",
         "type": "string"
        },
        {
         "key": "2",
         "name": "Lakehouse Name",
         "type": "string"
        },
        {
         "key": "3",
         "name": "Lakehouse Id",
         "type": "string"
        },
        {
         "key": "4",
         "name": "Table Name",
         "type": "string"
        },
        {
         "key": "5",
         "name": "Row Count",
         "type": "bigint"
        },
        {
         "key": "6",
         "name": "Row Groups",
         "type": "bigint"
        },
        {
         "key": "7",
         "name": "Parquet Files",
         "type": "bigint"
        },
        {
         "key": "8",
         "name": "Max Rows Per Row Group",
         "type": "bigint"
        },
        {
         "key": "9",
         "name": "Min Rows Per Row Group",
         "type": "bigint"
        },
        {
         "key": "10",
         "name": "Avg Rows Per Row Group",
         "type": "double"
        },
        {
         "key": "11",
         "name": "VOrder Enabled",
         "type": "boolean"
        },
        {
         "key": "12",
         "name": "Total Size",
         "type": "bigint"
        },
        {
         "key": "13",
         "name": "Timestamp",
         "type": "string"
        }
       ],
       "truncated": false
      },
      "wranglerEntryContext": {
       "dataframeType": "pandas"
      }
     },
     "type": "Synapse.DataFrame"
    },
    "f95d73ea-56df-449b-84c5-8752a28c1578": {
     "persist_state": {
      "view": {
       "chartOptions": {
        "aggregationType": "count",
        "binsNumber": 10,
        "categoryFieldKeys": [
         "0"
        ],
        "chartType": "bar",
        "evaluatesOverAllRecords": false,
        "isStacked": false,
        "seriesFieldKeys": [
         "0"
        ],
        "wordFrequency": "-1"
       },
       "tableOptions": {},
       "type": "details",
       "viewOptionsGroup": [
        {
         "tabItems": [
          {
           "key": "0",
           "name": "Table",
           "options": {},
           "type": "table"
          }
         ]
        }
       ]
      }
     },
     "sync_state": {
      "isSummary": false,
      "is_jupyter": false,
      "language": "scala",
      "table": {
       "rows": [
        {
         "0": "/synfs/notebook/7f97db67-7db4-4e1e-a84b-d2b25c596324/ComprehensiveGuidetoDirectLake-WorkshopAssetsPerformance_Lakehouse",
         "1": "/ComprehensiveGuidetoDirectLake-WorkshopAssetsPerformance_Lakehouse",
         "2": "job",
         "3": "abfss://2435ad0e-cbcd-4737-8697-7bf7972c0360@onelake.dfs.fabric.microsoft.com/570d1511-e48a-4476-855e-1cdde66074a1",
         "4": "Lakehouse",
         "index": 0,
         "key": 0
        },
        {
         "0": "/synfs/nb_resource/builtin",
         "1": "/nb_resource/builtin",
         "2": "nb_resource",
         "3": "Notebook Working Directory",
         "4": "Notebook Working Directory",
         "index": 1,
         "key": 1
        }
       ],
       "schema": [
        {
         "key": "0",
         "name": "localPath",
         "type": "string"
        },
        {
         "key": "1",
         "name": "mountPoint",
         "type": "string"
        },
        {
         "key": "2",
         "name": "scope",
         "type": "string"
        },
        {
         "key": "3",
         "name": "source",
         "type": "string"
        },
        {
         "key": "4",
         "name": "storageType",
         "type": "string"
        }
       ],
       "truncated": false
      }
     },
     "type": "Synapse.DataFrame"
    }
   },
   "version": "0.1"
  },
  "widgets": {
   "application/vnd.jupyter.widget-state+json": {
    "state": {
     "012693fa418a49788777ed9af6052c24": {
      "model_module": "@jupyter-widgets/controls",
      "model_module_version": "2.0.0",
      "model_name": "HTMLModel",
      "state": {
       "layout": "IPY_MODEL_674b5a6c8d34481ca53c8ad7713c4665",
       "style": "IPY_MODEL_b7c9ee5f79834f12bab7b6b0033920c9",
       "value": " 35/35 [00:25&lt;00:00,  1.26it/s]"
      }
     },
     "016997b758dc40aca5a88ab2a0396ee5": {
      "model_module": "@jupyter-widgets/base",
      "model_module_version": "2.0.0",
      "model_name": "LayoutModel",
      "state": {}
     },
     "0594cb60d707426aaaf7a9f25c5ff1c9": {
      "model_module": "@jupyter-widgets/controls",
      "model_module_version": "2.0.0",
      "model_name": "HTMLModel",
      "state": {
       "layout": "IPY_MODEL_847b5b20a8d147a884a9a7240d09f51a",
       "style": "IPY_MODEL_a35e8f9cf13042acae9a58dc3fd945cc",
       "value": " 35/35 [00:25&lt;00:00,  1.24it/s]"
      }
     },
     "05fdb5c790994794870a2bd13d786499": {
      "model_module": "@jupyter-widgets/controls",
      "model_module_version": "2.0.0",
      "model_name": "HTMLModel",
      "state": {
       "layout": "IPY_MODEL_f4393cf0bcac40dcadc65f89dc60ecec",
       "style": "IPY_MODEL_d9d8b594f124497283cfaab1261db56a",
       "value": "Analyzing the &#x27;f9232be3-8122-497d-ac42-f5863b2a4cdd.parquet&#x27; parquet file (30/30)...: 100%"
      }
     },
     "06dabad5eb5345b7898f0979827a4165": {
      "model_module": "@jupyter-widgets/base",
      "model_module_version": "2.0.0",
      "model_name": "LayoutModel",
      "state": {}
     },
     "09c833d909c94a5aa30550c3ea61110f": {
      "model_module": "@jupyter-widgets/base",
      "model_module_version": "2.0.0",
      "model_name": "LayoutModel",
      "state": {}
     },
     "0d5c2b4bb9dd4ebcbb7bd5f0039ef094": {
      "model_module": "@jupyter-widgets/base",
      "model_module_version": "2.0.0",
      "model_name": "LayoutModel",
      "state": {}
     },
     "0ddf04cc9bc644bda3c8420cd7332b1a": {
      "model_module": "@jupyter-widgets/base",
      "model_module_version": "2.0.0",
      "model_name": "LayoutModel",
      "state": {}
     },
     "0ff61d76c8e84de6aead0d6764b4553e": {
      "model_module": "@jupyter-widgets/controls",
      "model_module_version": "2.0.0",
      "model_name": "ProgressStyleModel",
      "state": {
       "description_width": ""
      }
     },
     "10222a4f4cf041bfbb5c4a524302f085": {
      "model_module": "@jupyter-widgets/controls",
      "model_module_version": "2.0.0",
      "model_name": "HBoxModel",
      "state": {
       "children": [
        "IPY_MODEL_6c7ed6c79a33453d89944b277592cb7f",
        "IPY_MODEL_23c325955a6f4ddf9ec88b22ca10fa2a",
        "IPY_MODEL_f8cdbefe299849d8aac9f6db20fec54f"
       ],
       "layout": "IPY_MODEL_06dabad5eb5345b7898f0979827a4165"
      }
     },
     "10366c2baf084f5ca022c50d736d4f45": {
      "model_module": "@jupyter-widgets/base",
      "model_module_version": "2.0.0",
      "model_name": "LayoutModel",
      "state": {}
     },
     "16fb84c8aa754be9bd5c5ef2106142da": {
      "model_module": "@jupyter-widgets/base",
      "model_module_version": "2.0.0",
      "model_name": "LayoutModel",
      "state": {}
     },
     "1778a10605a3469a853ca2f6835a96ba": {
      "model_module": "@jupyter-widgets/controls",
      "model_module_version": "2.0.0",
      "model_name": "ProgressStyleModel",
      "state": {
       "description_width": ""
      }
     },
     "17d9b61d2e8c44a2bf60ba0e90c29ab9": {
      "model_module": "@jupyter-widgets/base",
      "model_module_version": "2.0.0",
      "model_name": "LayoutModel",
      "state": {}
     },
     "1debd67533864320a65829024aebdde1": {
      "model_module": "@jupyter-widgets/base",
      "model_module_version": "2.0.0",
      "model_name": "LayoutModel",
      "state": {}
     },
     "1f4b94ba73874ae3a89c3d7d9a3e7d31": {
      "model_module": "@jupyter-widgets/controls",
      "model_module_version": "2.0.0",
      "model_name": "FloatProgressModel",
      "state": {
       "bar_style": "success",
       "layout": "IPY_MODEL_652d5ee068a4400f9b6425eee7145320",
       "max": 30,
       "style": "IPY_MODEL_9888902c3b7f45cc85199e7eb43157d3",
       "value": 30
      }
     },
     "1f90939c809c4ae5ab32bfe1810431ac": {
      "model_module": "@jupyter-widgets/base",
      "model_module_version": "2.0.0",
      "model_name": "LayoutModel",
      "state": {}
     },
     "1fddc9c5b13847e4985e843136e6f296": {
      "model_module": "@jupyter-widgets/controls",
      "model_module_version": "2.0.0",
      "model_name": "FloatProgressModel",
      "state": {
       "bar_style": "success",
       "layout": "IPY_MODEL_f68d9f3f3c794c7c920d14f3dbb93efd",
       "max": 30,
       "style": "IPY_MODEL_40237b9b29eb447892e016e3b70e0868",
       "value": 30
      }
     },
     "235d81a0736545708c2b0af63276b366": {
      "model_module": "@jupyter-widgets/controls",
      "model_module_version": "2.0.0",
      "model_name": "HBoxModel",
      "state": {
       "children": [
        "IPY_MODEL_ba6b7e38072b4d339fb8b3df056872c5",
        "IPY_MODEL_a8305ce02a3c4019a7ebe4a83807a8e1",
        "IPY_MODEL_4ee67b74639b44b08ddf24fa76a59a3f"
       ],
       "layout": "IPY_MODEL_f30437de911c464ba5312b5f92464965"
      }
     },
     "23c325955a6f4ddf9ec88b22ca10fa2a": {
      "model_module": "@jupyter-widgets/controls",
      "model_module_version": "2.0.0",
      "model_name": "FloatProgressModel",
      "state": {
       "bar_style": "success",
       "layout": "IPY_MODEL_2b356b9546954f568ac2dd0ffefc6dd2",
       "max": 30,
       "style": "IPY_MODEL_726571e852be446db436fad4ea51afbf",
       "value": 30
      }
     },
     "27891605ed094d22b3cd322e81a002af": {
      "model_module": "@jupyter-widgets/controls",
      "model_module_version": "2.0.0",
      "model_name": "HTMLModel",
      "state": {
       "layout": "IPY_MODEL_72f9c2cc07094ad3926fa877a95fa2c0",
       "style": "IPY_MODEL_39833d1713934618802812aa11ad1f30",
       "value": "Analyzing the &#x27;f9232be3-8122-497d-ac42-f5863b2a4cdd.parquet&#x27; parquet file (30/30)...: 100%"
      }
     },
     "288377c7446b41ec900628e616088a41": {
      "model_module": "@jupyter-widgets/controls",
      "model_module_version": "2.0.0",
      "model_name": "HBoxModel",
      "state": {
       "children": [
        "IPY_MODEL_66b6914fdb454f249c4477383cfda0fe",
        "IPY_MODEL_435f7f5f90104341915bb127fc1eacc2",
        "IPY_MODEL_0594cb60d707426aaaf7a9f25c5ff1c9"
       ],
       "layout": "IPY_MODEL_c5e2731cae66451db78f9eb539250679"
      }
     },
     "2989a3acda7c449bb2d26a9ac08cf9ca": {
      "model_module": "@jupyter-widgets/controls",
      "model_module_version": "2.0.0",
      "model_name": "HTMLModel",
      "state": {
       "layout": "IPY_MODEL_6e37d0e0151d4d82948115eb0c2daa49",
       "style": "IPY_MODEL_ccd6d1fc519a4b02acdbdb2985d2be5b",
       "value": " 30/30 [00:20&lt;00:00,  1.66it/s]"
      }
     },
     "2b356b9546954f568ac2dd0ffefc6dd2": {
      "model_module": "@jupyter-widgets/base",
      "model_module_version": "2.0.0",
      "model_name": "LayoutModel",
      "state": {}
     },
     "2dbfd346427b40bc99de7e34abaa5767": {
      "model_module": "@jupyter-widgets/controls",
      "model_module_version": "2.0.0",
      "model_name": "ProgressStyleModel",
      "state": {
       "description_width": ""
      }
     },
     "32f4c4140f4b4a03991025fdd77a0650": {
      "model_module": "@jupyter-widgets/base",
      "model_module_version": "2.0.0",
      "model_name": "LayoutModel",
      "state": {}
     },
     "3452de03468641eb92cf9fe591dfb6ee": {
      "model_module": "@jupyter-widgets/controls",
      "model_module_version": "2.0.0",
      "model_name": "HTMLStyleModel",
      "state": {
       "description_width": "",
       "font_size": null,
       "text_color": null
      }
     },
     "34aed41bd9804d189cdfc815d6fe56f5": {
      "model_module": "@jupyter-widgets/controls",
      "model_module_version": "2.0.0",
      "model_name": "HBoxModel",
      "state": {
       "children": [
        "IPY_MODEL_b83a61101d4145308e466f29b5ca49fc",
        "IPY_MODEL_cc79fd39b0884a4595510855cc3c2af3",
        "IPY_MODEL_012693fa418a49788777ed9af6052c24"
       ],
       "layout": "IPY_MODEL_9a6504a80cf44cb295ef9a92bc50760c"
      }
     },
     "35c08b25b3cc459793949ecbcb44b2bb": {
      "model_module": "@jupyter-widgets/controls",
      "model_module_version": "2.0.0",
      "model_name": "FloatProgressModel",
      "state": {
       "bar_style": "success",
       "layout": "IPY_MODEL_0d5c2b4bb9dd4ebcbb7bd5f0039ef094",
       "max": 30,
       "style": "IPY_MODEL_d413e4dbe99d47bf82cc816c37a62690",
       "value": 30
      }
     },
     "363ef5c093b54a31a8b8d441bf3d33aa": {
      "model_module": "@jupyter-widgets/controls",
      "model_module_version": "2.0.0",
      "model_name": "HTMLStyleModel",
      "state": {
       "description_width": "",
       "font_size": null,
       "text_color": null
      }
     },
     "3888883bf85b45978a689f875da5c970": {
      "model_module": "@jupyter-widgets/controls",
      "model_module_version": "2.0.0",
      "model_name": "HTMLModel",
      "state": {
       "layout": "IPY_MODEL_5b7e802223d64d9495340452e484604e",
       "style": "IPY_MODEL_cd343dee3f4f43ff8e9a4c69010c2d53",
       "value": "Analyzing the &#x27;f9232be3-8122-497d-ac42-f5863b2a4cdd.parquet&#x27; parquet file (30/30)...: 100%"
      }
     },
     "39833d1713934618802812aa11ad1f30": {
      "model_module": "@jupyter-widgets/controls",
      "model_module_version": "2.0.0",
      "model_name": "HTMLStyleModel",
      "state": {
       "description_width": "",
       "font_size": null,
       "text_color": null
      }
     },
     "39a4157acfe942b4895815a62c63cae0": {
      "model_module": "@jupyter-widgets/controls",
      "model_module_version": "2.0.0",
      "model_name": "ProgressStyleModel",
      "state": {
       "description_width": ""
      }
     },
     "3a52b99577a3429ea7d16c2a72396f2b": {
      "model_module": "@jupyter-widgets/base",
      "model_module_version": "2.0.0",
      "model_name": "LayoutModel",
      "state": {}
     },
     "3a5b12d3c2ff45bdb80b14107a9ca517": {
      "model_module": "@jupyter-widgets/controls",
      "model_module_version": "2.0.0",
      "model_name": "HBoxModel",
      "state": {
       "children": [
        "IPY_MODEL_05fdb5c790994794870a2bd13d786499",
        "IPY_MODEL_1f4b94ba73874ae3a89c3d7d9a3e7d31",
        "IPY_MODEL_c8116e01653c4e8e981b8e7b12a094da"
       ],
       "layout": "IPY_MODEL_fd938612036241d8933a5c3c0358ff00"
      }
     },
     "3ea9ca4a28934456a4f0b704e6aa6263": {
      "model_module": "@jupyter-widgets/controls",
      "model_module_version": "2.0.0",
      "model_name": "HTMLModel",
      "state": {
       "layout": "IPY_MODEL_7f28b2afc7034084a67aedea91ff1351",
       "style": "IPY_MODEL_d379297b135642f98c1d55f9ada8c07f",
       "value": " 30/30 [00:19&lt;00:00,  1.62it/s]"
      }
     },
     "3ff8d94dd91b454a9aac5b236847942b": {
      "model_module": "@jupyter-widgets/controls",
      "model_module_version": "2.0.0",
      "model_name": "ProgressStyleModel",
      "state": {
       "description_width": ""
      }
     },
     "40237b9b29eb447892e016e3b70e0868": {
      "model_module": "@jupyter-widgets/controls",
      "model_module_version": "2.0.0",
      "model_name": "ProgressStyleModel",
      "state": {
       "description_width": ""
      }
     },
     "435f7f5f90104341915bb127fc1eacc2": {
      "model_module": "@jupyter-widgets/controls",
      "model_module_version": "2.0.0",
      "model_name": "FloatProgressModel",
      "state": {
       "bar_style": "success",
       "layout": "IPY_MODEL_32f4c4140f4b4a03991025fdd77a0650",
       "max": 35,
       "style": "IPY_MODEL_65ef160ea7334ae28e990683a634e5cf",
       "value": 35
      }
     },
     "4489b9a3b13a40b8bbf63ebd93cd9330": {
      "model_module": "@jupyter-widgets/base",
      "model_module_version": "2.0.0",
      "model_name": "LayoutModel",
      "state": {}
     },
     "4a1a0ea28a124f8e84608d83a3c3bcd8": {
      "model_module": "@jupyter-widgets/controls",
      "model_module_version": "2.0.0",
      "model_name": "HBoxModel",
      "state": {
       "children": [
        "IPY_MODEL_d77f0024a57d4eba93670949d60b8807",
        "IPY_MODEL_f9f2e170a4514a959438b76f39238f9a",
        "IPY_MODEL_e0a825d5fe444585abc0c92d1255c2a6"
       ],
       "layout": "IPY_MODEL_ea97e6e545da46d8a91b09bccf62f287"
      }
     },
     "4ee67b74639b44b08ddf24fa76a59a3f": {
      "model_module": "@jupyter-widgets/controls",
      "model_module_version": "2.0.0",
      "model_name": "HTMLModel",
      "state": {
       "layout": "IPY_MODEL_905e976abefe4670a4c35ddd70848f1f",
       "style": "IPY_MODEL_944da1a7e61244cb8996f43c410e23c3",
       "value": " 30/30 [00:20&lt;00:00,  1.41it/s]"
      }
     },
     "50873d2a01994a1faa7eac369ec56ecb": {
      "model_module": "@jupyter-widgets/controls",
      "model_module_version": "2.0.0",
      "model_name": "HBoxModel",
      "state": {
       "children": [
        "IPY_MODEL_a68c626639fc4f5c91fec6ca8bae2e9d",
        "IPY_MODEL_1fddc9c5b13847e4985e843136e6f296",
        "IPY_MODEL_a056c09cbe03484889dd05afa4edf243"
       ],
       "layout": "IPY_MODEL_0ddf04cc9bc644bda3c8420cd7332b1a"
      }
     },
     "53327c0537194ab3aa83b5c48326ce38": {
      "model_module": "@jupyter-widgets/controls",
      "model_module_version": "2.0.0",
      "model_name": "HTMLStyleModel",
      "state": {
       "description_width": "",
       "font_size": null,
       "text_color": null
      }
     },
     "59b1537a93d0426894d950ce198b68a2": {
      "model_module": "@jupyter-widgets/controls",
      "model_module_version": "2.0.0",
      "model_name": "HTMLStyleModel",
      "state": {
       "description_width": "",
       "font_size": null,
       "text_color": null
      }
     },
     "5b7e802223d64d9495340452e484604e": {
      "model_module": "@jupyter-widgets/base",
      "model_module_version": "2.0.0",
      "model_name": "LayoutModel",
      "state": {}
     },
     "5e800c94aaa647fba2d006ec26649bb4": {
      "model_module": "@jupyter-widgets/base",
      "model_module_version": "2.0.0",
      "model_name": "LayoutModel",
      "state": {}
     },
     "61b3800006e54bf09c43549cf21b704a": {
      "model_module": "@jupyter-widgets/controls",
      "model_module_version": "2.0.0",
      "model_name": "HTMLStyleModel",
      "state": {
       "description_width": "",
       "font_size": null,
       "text_color": null
      }
     },
     "646066f211f045d99e7492a13b60f56a": {
      "model_module": "@jupyter-widgets/controls",
      "model_module_version": "2.0.0",
      "model_name": "HTMLModel",
      "state": {
       "layout": "IPY_MODEL_9412537234ca477cbea26ab0f9df5443",
       "style": "IPY_MODEL_363ef5c093b54a31a8b8d441bf3d33aa",
       "value": "Analyzing the &#x27;part-00034-fb7b538f-cc34-4aa2-b45d-71662ef4bbc4-c000.snappy.parquet&#x27; parquet file (35/35)...: 100%"
      }
     },
     "652d5ee068a4400f9b6425eee7145320": {
      "model_module": "@jupyter-widgets/base",
      "model_module_version": "2.0.0",
      "model_name": "LayoutModel",
      "state": {}
     },
     "65ef160ea7334ae28e990683a634e5cf": {
      "model_module": "@jupyter-widgets/controls",
      "model_module_version": "2.0.0",
      "model_name": "ProgressStyleModel",
      "state": {
       "description_width": ""
      }
     },
     "66b6914fdb454f249c4477383cfda0fe": {
      "model_module": "@jupyter-widgets/controls",
      "model_module_version": "2.0.0",
      "model_name": "HTMLModel",
      "state": {
       "layout": "IPY_MODEL_7deccad6087442969d7579b98f999e72",
       "style": "IPY_MODEL_d4ed2d44efcd4d5b97f945233f0b0515",
       "value": "Analyzing the &#x27;part-00034-fb7b538f-cc34-4aa2-b45d-71662ef4bbc4-c000.snappy.parquet&#x27; parquet file (35/35)...: 100%"
      }
     },
     "674b5a6c8d34481ca53c8ad7713c4665": {
      "model_module": "@jupyter-widgets/base",
      "model_module_version": "2.0.0",
      "model_name": "LayoutModel",
      "state": {}
     },
     "68a542aa0ccf456892985fbe0f18f46b": {
      "model_module": "@jupyter-widgets/controls",
      "model_module_version": "2.0.0",
      "model_name": "FloatProgressModel",
      "state": {
       "bar_style": "success",
       "layout": "IPY_MODEL_1f90939c809c4ae5ab32bfe1810431ac",
       "max": 30,
       "style": "IPY_MODEL_0ff61d76c8e84de6aead0d6764b4553e",
       "value": 30
      }
     },
     "6c7ed6c79a33453d89944b277592cb7f": {
      "model_module": "@jupyter-widgets/controls",
      "model_module_version": "2.0.0",
      "model_name": "HTMLModel",
      "state": {
       "layout": "IPY_MODEL_b40b7fd0816c4249a26eecaa304e2901",
       "style": "IPY_MODEL_59b1537a93d0426894d950ce198b68a2",
       "value": "Analyzing the &#x27;part-00029-bdab3b0f-16a4-4c27-b808-bfb4a72d8d85-c000.snappy.parquet&#x27; parquet file (30/30)...: 100%"
      }
     },
     "6d8f5b9d1edb43379c3ad07df359d907": {
      "model_module": "@jupyter-widgets/base",
      "model_module_version": "2.0.0",
      "model_name": "LayoutModel",
      "state": {}
     },
     "6e37d0e0151d4d82948115eb0c2daa49": {
      "model_module": "@jupyter-widgets/base",
      "model_module_version": "2.0.0",
      "model_name": "LayoutModel",
      "state": {}
     },
     "6e8062dcf3fa43eb8f668bc98d7e1b56": {
      "model_module": "@jupyter-widgets/controls",
      "model_module_version": "2.0.0",
      "model_name": "HTMLStyleModel",
      "state": {
       "description_width": "",
       "font_size": null,
       "text_color": null
      }
     },
     "6f94d8c447da4971bc67e024ec4c7966": {
      "model_module": "@jupyter-widgets/base",
      "model_module_version": "2.0.0",
      "model_name": "LayoutModel",
      "state": {}
     },
     "726571e852be446db436fad4ea51afbf": {
      "model_module": "@jupyter-widgets/controls",
      "model_module_version": "2.0.0",
      "model_name": "ProgressStyleModel",
      "state": {
       "description_width": ""
      }
     },
     "72f9c2cc07094ad3926fa877a95fa2c0": {
      "model_module": "@jupyter-widgets/base",
      "model_module_version": "2.0.0",
      "model_name": "LayoutModel",
      "state": {}
     },
     "7deccad6087442969d7579b98f999e72": {
      "model_module": "@jupyter-widgets/base",
      "model_module_version": "2.0.0",
      "model_name": "LayoutModel",
      "state": {}
     },
     "7e4e0618284f47128beb917f4d7b9f04": {
      "model_module": "@jupyter-widgets/controls",
      "model_module_version": "2.0.0",
      "model_name": "HTMLStyleModel",
      "state": {
       "description_width": "",
       "font_size": null,
       "text_color": null
      }
     },
     "7f28b2afc7034084a67aedea91ff1351": {
      "model_module": "@jupyter-widgets/base",
      "model_module_version": "2.0.0",
      "model_name": "LayoutModel",
      "state": {}
     },
     "807d8bcdb01a48629f720a5346d34a4f": {
      "model_module": "@jupyter-widgets/controls",
      "model_module_version": "2.0.0",
      "model_name": "FloatProgressModel",
      "state": {
       "bar_style": "success",
       "layout": "IPY_MODEL_8ed26b803ddf4eef8a0e359933e11730",
       "max": 35,
       "style": "IPY_MODEL_3ff8d94dd91b454a9aac5b236847942b",
       "value": 35
      }
     },
     "80a4b00fe39b49f98294f7ee3720d26d": {
      "model_module": "@jupyter-widgets/controls",
      "model_module_version": "2.0.0",
      "model_name": "HTMLModel",
      "state": {
       "layout": "IPY_MODEL_17d9b61d2e8c44a2bf60ba0e90c29ab9",
       "style": "IPY_MODEL_9c82663f3a4f4d01b7c4e113f40c5456",
       "value": " 30/30 [00:21&lt;00:00,  1.34it/s]"
      }
     },
     "847b5b20a8d147a884a9a7240d09f51a": {
      "model_module": "@jupyter-widgets/base",
      "model_module_version": "2.0.0",
      "model_name": "LayoutModel",
      "state": {}
     },
     "86cbe57aa23b4be49bac1cad945d89f4": {
      "model_module": "@jupyter-widgets/base",
      "model_module_version": "2.0.0",
      "model_name": "LayoutModel",
      "state": {}
     },
     "8ed26b803ddf4eef8a0e359933e11730": {
      "model_module": "@jupyter-widgets/base",
      "model_module_version": "2.0.0",
      "model_name": "LayoutModel",
      "state": {}
     },
     "905e976abefe4670a4c35ddd70848f1f": {
      "model_module": "@jupyter-widgets/base",
      "model_module_version": "2.0.0",
      "model_name": "LayoutModel",
      "state": {}
     },
     "9199228be6894ee79fbbb51977a87739": {
      "model_module": "@jupyter-widgets/base",
      "model_module_version": "2.0.0",
      "model_name": "LayoutModel",
      "state": {}
     },
     "921dff5131984fe391a5e5a47f6d7af9": {
      "model_module": "@jupyter-widgets/base",
      "model_module_version": "2.0.0",
      "model_name": "LayoutModel",
      "state": {}
     },
     "92c33ee015d445d7accb93da5b3aedb4": {
      "model_module": "@jupyter-widgets/base",
      "model_module_version": "2.0.0",
      "model_name": "LayoutModel",
      "state": {}
     },
     "9412537234ca477cbea26ab0f9df5443": {
      "model_module": "@jupyter-widgets/base",
      "model_module_version": "2.0.0",
      "model_name": "LayoutModel",
      "state": {}
     },
     "944da1a7e61244cb8996f43c410e23c3": {
      "model_module": "@jupyter-widgets/controls",
      "model_module_version": "2.0.0",
      "model_name": "HTMLStyleModel",
      "state": {
       "description_width": "",
       "font_size": null,
       "text_color": null
      }
     },
     "9888902c3b7f45cc85199e7eb43157d3": {
      "model_module": "@jupyter-widgets/controls",
      "model_module_version": "2.0.0",
      "model_name": "ProgressStyleModel",
      "state": {
       "description_width": ""
      }
     },
     "9a6504a80cf44cb295ef9a92bc50760c": {
      "model_module": "@jupyter-widgets/base",
      "model_module_version": "2.0.0",
      "model_name": "LayoutModel",
      "state": {}
     },
     "9c82663f3a4f4d01b7c4e113f40c5456": {
      "model_module": "@jupyter-widgets/controls",
      "model_module_version": "2.0.0",
      "model_name": "HTMLStyleModel",
      "state": {
       "description_width": "",
       "font_size": null,
       "text_color": null
      }
     },
     "9e707145a5764f58a7b34da8594c6b1c": {
      "model_module": "@jupyter-widgets/base",
      "model_module_version": "2.0.0",
      "model_name": "LayoutModel",
      "state": {}
     },
     "9ec3a6694fb74197aecdb6204adff46e": {
      "model_module": "@jupyter-widgets/controls",
      "model_module_version": "2.0.0",
      "model_name": "HTMLModel",
      "state": {
       "layout": "IPY_MODEL_af818a897cb641baa93367444518e161",
       "style": "IPY_MODEL_f49b4e78f0b54d48824dbb920b238352",
       "value": " 30/30 [00:20&lt;00:00,  1.40it/s]"
      }
     },
     "a019a4523f374a77837873f54dd94990": {
      "model_module": "@jupyter-widgets/controls",
      "model_module_version": "2.0.0",
      "model_name": "HTMLStyleModel",
      "state": {
       "description_width": "",
       "font_size": null,
       "text_color": null
      }
     },
     "a056c09cbe03484889dd05afa4edf243": {
      "model_module": "@jupyter-widgets/controls",
      "model_module_version": "2.0.0",
      "model_name": "HTMLModel",
      "state": {
       "layout": "IPY_MODEL_09c833d909c94a5aa30550c3ea61110f",
       "style": "IPY_MODEL_ddd1fe9bcba449fc9855d8da805e8e85",
       "value": " 30/30 [00:19&lt;00:00,  1.78it/s]"
      }
     },
     "a35e8f9cf13042acae9a58dc3fd945cc": {
      "model_module": "@jupyter-widgets/controls",
      "model_module_version": "2.0.0",
      "model_name": "HTMLStyleModel",
      "state": {
       "description_width": "",
       "font_size": null,
       "text_color": null
      }
     },
     "a3e0bce2ef5940778773f738c8465cff": {
      "model_module": "@jupyter-widgets/base",
      "model_module_version": "2.0.0",
      "model_name": "LayoutModel",
      "state": {}
     },
     "a488c816eec74eb2b2120c069d602e93": {
      "model_module": "@jupyter-widgets/controls",
      "model_module_version": "2.0.0",
      "model_name": "HTMLModel",
      "state": {
       "layout": "IPY_MODEL_f49cc2be58f94a3aa6be29e71433134b",
       "style": "IPY_MODEL_3452de03468641eb92cf9fe591dfb6ee",
       "value": "Analyzing the &#x27;part-00029-bdab3b0f-16a4-4c27-b808-bfb4a72d8d85-c000.snappy.parquet&#x27; parquet file (30/30)...: 100%"
      }
     },
     "a68c626639fc4f5c91fec6ca8bae2e9d": {
      "model_module": "@jupyter-widgets/controls",
      "model_module_version": "2.0.0",
      "model_name": "HTMLModel",
      "state": {
       "layout": "IPY_MODEL_3a52b99577a3429ea7d16c2a72396f2b",
       "style": "IPY_MODEL_7e4e0618284f47128beb917f4d7b9f04",
       "value": "Analyzing the &#x27;part-00029-bdab3b0f-16a4-4c27-b808-bfb4a72d8d85-c000.snappy.parquet&#x27; parquet file (30/30)...: 100%"
      }
     },
     "a732bbcaed4a4bdc88c7cf5186582a64": {
      "model_module": "@jupyter-widgets/controls",
      "model_module_version": "2.0.0",
      "model_name": "HBoxModel",
      "state": {
       "children": [
        "IPY_MODEL_27891605ed094d22b3cd322e81a002af",
        "IPY_MODEL_da0e2207b6a34587b7b45964eaf95b7d",
        "IPY_MODEL_9ec3a6694fb74197aecdb6204adff46e"
       ],
       "layout": "IPY_MODEL_6d8f5b9d1edb43379c3ad07df359d907"
      }
     },
     "a8305ce02a3c4019a7ebe4a83807a8e1": {
      "model_module": "@jupyter-widgets/controls",
      "model_module_version": "2.0.0",
      "model_name": "FloatProgressModel",
      "state": {
       "bar_style": "success",
       "layout": "IPY_MODEL_5e800c94aaa647fba2d006ec26649bb4",
       "max": 30,
       "style": "IPY_MODEL_1778a10605a3469a853ca2f6835a96ba",
       "value": 30
      }
     },
     "aa297296f8604f6698532d3ec947491d": {
      "model_module": "@jupyter-widgets/controls",
      "model_module_version": "2.0.0",
      "model_name": "HBoxModel",
      "state": {
       "children": [
        "IPY_MODEL_3888883bf85b45978a689f875da5c970",
        "IPY_MODEL_e79f1f7465c6459c94d446742270de6a",
        "IPY_MODEL_80a4b00fe39b49f98294f7ee3720d26d"
       ],
       "layout": "IPY_MODEL_10366c2baf084f5ca022c50d736d4f45"
      }
     },
     "aeaa2c67a1214fa29ee760ac36c019a8": {
      "model_module": "@jupyter-widgets/base",
      "model_module_version": "2.0.0",
      "model_name": "LayoutModel",
      "state": {}
     },
     "af818a897cb641baa93367444518e161": {
      "model_module": "@jupyter-widgets/base",
      "model_module_version": "2.0.0",
      "model_name": "LayoutModel",
      "state": {}
     },
     "b24f52c294454211bf2a8801c5602a91": {
      "model_module": "@jupyter-widgets/base",
      "model_module_version": "2.0.0",
      "model_name": "LayoutModel",
      "state": {}
     },
     "b316d9e3a6fd4db8b262d64c2882071e": {
      "model_module": "@jupyter-widgets/controls",
      "model_module_version": "2.0.0",
      "model_name": "HTMLStyleModel",
      "state": {
       "description_width": "",
       "font_size": null,
       "text_color": null
      }
     },
     "b40b7fd0816c4249a26eecaa304e2901": {
      "model_module": "@jupyter-widgets/base",
      "model_module_version": "2.0.0",
      "model_name": "LayoutModel",
      "state": {}
     },
     "b48f176fde054739b4c5ea543887dff0": {
      "model_module": "@jupyter-widgets/base",
      "model_module_version": "2.0.0",
      "model_name": "LayoutModel",
      "state": {}
     },
     "b6847302e42d4d25ab98cfc59ba849c9": {
      "model_module": "@jupyter-widgets/controls",
      "model_module_version": "2.0.0",
      "model_name": "HTMLModel",
      "state": {
       "layout": "IPY_MODEL_b24f52c294454211bf2a8801c5602a91",
       "style": "IPY_MODEL_b316d9e3a6fd4db8b262d64c2882071e",
       "value": "Analyzing the &#x27;part-00029-bdab3b0f-16a4-4c27-b808-bfb4a72d8d85-c000.snappy.parquet&#x27; parquet file (30/30)...: 100%"
      }
     },
     "b7c9ee5f79834f12bab7b6b0033920c9": {
      "model_module": "@jupyter-widgets/controls",
      "model_module_version": "2.0.0",
      "model_name": "HTMLStyleModel",
      "state": {
       "description_width": "",
       "font_size": null,
       "text_color": null
      }
     },
     "b7d5bf4207fc44a8ac7cde278f5c0923": {
      "model_module": "@jupyter-widgets/controls",
      "model_module_version": "2.0.0",
      "model_name": "HTMLStyleModel",
      "state": {
       "description_width": "",
       "font_size": null,
       "text_color": null
      }
     },
     "b83a61101d4145308e466f29b5ca49fc": {
      "model_module": "@jupyter-widgets/controls",
      "model_module_version": "2.0.0",
      "model_name": "HTMLModel",
      "state": {
       "layout": "IPY_MODEL_a3e0bce2ef5940778773f738c8465cff",
       "style": "IPY_MODEL_a019a4523f374a77837873f54dd94990",
       "value": "Analyzing the &#x27;part-00034-fb7b538f-cc34-4aa2-b45d-71662ef4bbc4-c000.snappy.parquet&#x27; parquet file (35/35)...: 100%"
      }
     },
     "ba6b7e38072b4d339fb8b3df056872c5": {
      "model_module": "@jupyter-widgets/controls",
      "model_module_version": "2.0.0",
      "model_name": "HTMLModel",
      "state": {
       "layout": "IPY_MODEL_4489b9a3b13a40b8bbf63ebd93cd9330",
       "style": "IPY_MODEL_6e8062dcf3fa43eb8f668bc98d7e1b56",
       "value": "Analyzing the &#x27;f9232be3-8122-497d-ac42-f5863b2a4cdd.parquet&#x27; parquet file (30/30)...: 100%"
      }
     },
     "c13c88362c04480d8e1f56ee713be29f": {
      "model_module": "@jupyter-widgets/controls",
      "model_module_version": "2.0.0",
      "model_name": "HTMLStyleModel",
      "state": {
       "description_width": "",
       "font_size": null,
       "text_color": null
      }
     },
     "c44361c6e34e4a8cbb09ef8f349de8ab": {
      "model_module": "@jupyter-widgets/controls",
      "model_module_version": "2.0.0",
      "model_name": "ProgressStyleModel",
      "state": {
       "description_width": ""
      }
     },
     "c5e2731cae66451db78f9eb539250679": {
      "model_module": "@jupyter-widgets/base",
      "model_module_version": "2.0.0",
      "model_name": "LayoutModel",
      "state": {}
     },
     "c8116e01653c4e8e981b8e7b12a094da": {
      "model_module": "@jupyter-widgets/controls",
      "model_module_version": "2.0.0",
      "model_name": "HTMLModel",
      "state": {
       "layout": "IPY_MODEL_f5a7247761754e1488c07072b5c5577f",
       "style": "IPY_MODEL_eceb06466e454eafb1c9d87d06b46545",
       "value": " 30/30 [00:20&lt;00:00,  1.31it/s]"
      }
     },
     "c8f4707e8ab54a00a0ea31a358b0f3c4": {
      "model_module": "@jupyter-widgets/controls",
      "model_module_version": "2.0.0",
      "model_name": "HBoxModel",
      "state": {
       "children": [
        "IPY_MODEL_646066f211f045d99e7492a13b60f56a",
        "IPY_MODEL_807d8bcdb01a48629f720a5346d34a4f",
        "IPY_MODEL_ea6f65d0dcba4b4a9480b7059ab3ce2c"
       ],
       "layout": "IPY_MODEL_86cbe57aa23b4be49bac1cad945d89f4"
      }
     },
     "cc79fd39b0884a4595510855cc3c2af3": {
      "model_module": "@jupyter-widgets/controls",
      "model_module_version": "2.0.0",
      "model_name": "FloatProgressModel",
      "state": {
       "bar_style": "success",
       "layout": "IPY_MODEL_6f94d8c447da4971bc67e024ec4c7966",
       "max": 35,
       "style": "IPY_MODEL_2dbfd346427b40bc99de7e34abaa5767",
       "value": 35
      }
     },
     "ccd6d1fc519a4b02acdbdb2985d2be5b": {
      "model_module": "@jupyter-widgets/controls",
      "model_module_version": "2.0.0",
      "model_name": "HTMLStyleModel",
      "state": {
       "description_width": "",
       "font_size": null,
       "text_color": null
      }
     },
     "cd343dee3f4f43ff8e9a4c69010c2d53": {
      "model_module": "@jupyter-widgets/controls",
      "model_module_version": "2.0.0",
      "model_name": "HTMLStyleModel",
      "state": {
       "description_width": "",
       "font_size": null,
       "text_color": null
      }
     },
     "d379297b135642f98c1d55f9ada8c07f": {
      "model_module": "@jupyter-widgets/controls",
      "model_module_version": "2.0.0",
      "model_name": "HTMLStyleModel",
      "state": {
       "description_width": "",
       "font_size": null,
       "text_color": null
      }
     },
     "d413e4dbe99d47bf82cc816c37a62690": {
      "model_module": "@jupyter-widgets/controls",
      "model_module_version": "2.0.0",
      "model_name": "ProgressStyleModel",
      "state": {
       "description_width": ""
      }
     },
     "d4ed2d44efcd4d5b97f945233f0b0515": {
      "model_module": "@jupyter-widgets/controls",
      "model_module_version": "2.0.0",
      "model_name": "HTMLStyleModel",
      "state": {
       "description_width": "",
       "font_size": null,
       "text_color": null
      }
     },
     "d77f0024a57d4eba93670949d60b8807": {
      "model_module": "@jupyter-widgets/controls",
      "model_module_version": "2.0.0",
      "model_name": "HTMLModel",
      "state": {
       "layout": "IPY_MODEL_aeaa2c67a1214fa29ee760ac36c019a8",
       "style": "IPY_MODEL_61b3800006e54bf09c43549cf21b704a",
       "value": "Analyzing the &#x27;part-00034-fb7b538f-cc34-4aa2-b45d-71662ef4bbc4-c000.snappy.parquet&#x27; parquet file (35/35)...: 100%"
      }
     },
     "d9d8b594f124497283cfaab1261db56a": {
      "model_module": "@jupyter-widgets/controls",
      "model_module_version": "2.0.0",
      "model_name": "HTMLStyleModel",
      "state": {
       "description_width": "",
       "font_size": null,
       "text_color": null
      }
     },
     "da0e2207b6a34587b7b45964eaf95b7d": {
      "model_module": "@jupyter-widgets/controls",
      "model_module_version": "2.0.0",
      "model_name": "FloatProgressModel",
      "state": {
       "bar_style": "success",
       "layout": "IPY_MODEL_1debd67533864320a65829024aebdde1",
       "max": 30,
       "style": "IPY_MODEL_c44361c6e34e4a8cbb09ef8f349de8ab",
       "value": 30
      }
     },
     "ddd1fe9bcba449fc9855d8da805e8e85": {
      "model_module": "@jupyter-widgets/controls",
      "model_module_version": "2.0.0",
      "model_name": "HTMLStyleModel",
      "state": {
       "description_width": "",
       "font_size": null,
       "text_color": null
      }
     },
     "e06f25cf6cf844e1be06af0db31c5c01": {
      "model_module": "@jupyter-widgets/controls",
      "model_module_version": "2.0.0",
      "model_name": "ProgressStyleModel",
      "state": {
       "description_width": ""
      }
     },
     "e0a825d5fe444585abc0c92d1255c2a6": {
      "model_module": "@jupyter-widgets/controls",
      "model_module_version": "2.0.0",
      "model_name": "HTMLModel",
      "state": {
       "layout": "IPY_MODEL_921dff5131984fe391a5e5a47f6d7af9",
       "style": "IPY_MODEL_c13c88362c04480d8e1f56ee713be29f",
       "value": " 35/35 [00:27&lt;00:00,  1.22it/s]"
      }
     },
     "e315f7b81e1246a9b1fb3493c4a49d00": {
      "model_module": "@jupyter-widgets/controls",
      "model_module_version": "2.0.0",
      "model_name": "HBoxModel",
      "state": {
       "children": [
        "IPY_MODEL_b6847302e42d4d25ab98cfc59ba849c9",
        "IPY_MODEL_35c08b25b3cc459793949ecbcb44b2bb",
        "IPY_MODEL_2989a3acda7c449bb2d26a9ac08cf9ca"
       ],
       "layout": "IPY_MODEL_9e707145a5764f58a7b34da8594c6b1c"
      }
     },
     "e79f1f7465c6459c94d446742270de6a": {
      "model_module": "@jupyter-widgets/controls",
      "model_module_version": "2.0.0",
      "model_name": "FloatProgressModel",
      "state": {
       "bar_style": "success",
       "layout": "IPY_MODEL_016997b758dc40aca5a88ab2a0396ee5",
       "max": 30,
       "style": "IPY_MODEL_39a4157acfe942b4895815a62c63cae0",
       "value": 30
      }
     },
     "ea6f65d0dcba4b4a9480b7059ab3ce2c": {
      "model_module": "@jupyter-widgets/controls",
      "model_module_version": "2.0.0",
      "model_name": "HTMLModel",
      "state": {
       "layout": "IPY_MODEL_9199228be6894ee79fbbb51977a87739",
       "style": "IPY_MODEL_53327c0537194ab3aa83b5c48326ce38",
       "value": " 35/35 [00:25&lt;00:00,  1.30it/s]"
      }
     },
     "ea97e6e545da46d8a91b09bccf62f287": {
      "model_module": "@jupyter-widgets/base",
      "model_module_version": "2.0.0",
      "model_name": "LayoutModel",
      "state": {}
     },
     "eceb06466e454eafb1c9d87d06b46545": {
      "model_module": "@jupyter-widgets/controls",
      "model_module_version": "2.0.0",
      "model_name": "HTMLStyleModel",
      "state": {
       "description_width": "",
       "font_size": null,
       "text_color": null
      }
     },
     "f30437de911c464ba5312b5f92464965": {
      "model_module": "@jupyter-widgets/base",
      "model_module_version": "2.0.0",
      "model_name": "LayoutModel",
      "state": {}
     },
     "f3960e09753442b5812d77c366e6ff6a": {
      "model_module": "@jupyter-widgets/controls",
      "model_module_version": "2.0.0",
      "model_name": "HBoxModel",
      "state": {
       "children": [
        "IPY_MODEL_a488c816eec74eb2b2120c069d602e93",
        "IPY_MODEL_68a542aa0ccf456892985fbe0f18f46b",
        "IPY_MODEL_3ea9ca4a28934456a4f0b704e6aa6263"
       ],
       "layout": "IPY_MODEL_b48f176fde054739b4c5ea543887dff0"
      }
     },
     "f4393cf0bcac40dcadc65f89dc60ecec": {
      "model_module": "@jupyter-widgets/base",
      "model_module_version": "2.0.0",
      "model_name": "LayoutModel",
      "state": {}
     },
     "f49b4e78f0b54d48824dbb920b238352": {
      "model_module": "@jupyter-widgets/controls",
      "model_module_version": "2.0.0",
      "model_name": "HTMLStyleModel",
      "state": {
       "description_width": "",
       "font_size": null,
       "text_color": null
      }
     },
     "f49cc2be58f94a3aa6be29e71433134b": {
      "model_module": "@jupyter-widgets/base",
      "model_module_version": "2.0.0",
      "model_name": "LayoutModel",
      "state": {}
     },
     "f5a7247761754e1488c07072b5c5577f": {
      "model_module": "@jupyter-widgets/base",
      "model_module_version": "2.0.0",
      "model_name": "LayoutModel",
      "state": {}
     },
     "f68d9f3f3c794c7c920d14f3dbb93efd": {
      "model_module": "@jupyter-widgets/base",
      "model_module_version": "2.0.0",
      "model_name": "LayoutModel",
      "state": {}
     },
     "f8cdbefe299849d8aac9f6db20fec54f": {
      "model_module": "@jupyter-widgets/controls",
      "model_module_version": "2.0.0",
      "model_name": "HTMLModel",
      "state": {
       "layout": "IPY_MODEL_92c33ee015d445d7accb93da5b3aedb4",
       "style": "IPY_MODEL_b7d5bf4207fc44a8ac7cde278f5c0923",
       "value": " 30/30 [00:20&lt;00:00,  1.31it/s]"
      }
     },
     "f9f2e170a4514a959438b76f39238f9a": {
      "model_module": "@jupyter-widgets/controls",
      "model_module_version": "2.0.0",
      "model_name": "FloatProgressModel",
      "state": {
       "bar_style": "success",
       "layout": "IPY_MODEL_16fb84c8aa754be9bd5c5ef2106142da",
       "max": 35,
       "style": "IPY_MODEL_e06f25cf6cf844e1be06af0db31c5c01",
       "value": 35
      }
     },
     "fd938612036241d8933a5c3c0358ff00": {
      "model_module": "@jupyter-widgets/base",
      "model_module_version": "2.0.0",
      "model_name": "LayoutModel",
      "state": {}
     }
    },
    "version_major": 2,
    "version_minor": 0
   }
  }
 },
 "nbformat": 4,
 "nbformat_minor": 5
}
