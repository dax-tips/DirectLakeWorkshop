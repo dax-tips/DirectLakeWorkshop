{
 "cells": [
  {
   "cell_type": "markdown",
   "id": "3061fb6e-1484-4072-af99-c85b1dd9ae60",
   "metadata": {
    "microsoft": {
     "language": "python",
     "language_group": "synapse_pyspark"
    },
    "nteract": {
     "transient": {
      "deleting": false
     }
    }
   },
   "source": [
    "# Lab 4: Direct Lake Fallback Behaviour\n",
    "\n",
    "## Overview\n",
    "\n",
    "This lab explores **Direct Lake fallback mechanisms** - understanding when, why, and how Direct Lake automatically switches to SQL Endpoint mode for system protection and query reliability.\n",
    "\n",
    "## What You'll Learn\n",
    "\n",
    "- **Fallback Triggers**: Understanding conditions that cause fallback to SQL Endpoint\n",
    "- **Execution Modes**: Exploring Automatic, DirectLakeOnly, and DirectQueryOnly behaviors  \n",
    "- **Performance Comparison**: Analyzing execution time and resource usage differences\n",
    "- **Troubleshooting Techniques**: Identifying and resolving fallback scenarios\n",
    "- **Production Strategies**: Configuring appropriate fallback behavior for enterprise use\n",
    "\n",
    "## Prerequisites\n",
    "\n",
    "- **Lab 2 Completion**: BigData lakehouse with billion-row tables and semantic model\n",
    "- **Direct Lake Understanding**: Basic concepts from Labs 1-3\n",
    "- **Performance Monitoring**: Familiarity with tracing and DMV analysis\n",
    "\n",
    "## Architecture Overview\n",
    "\n",
    "**Direct Lake Fallback Protection Flow:**\n",
    "```\n",
    "User Query → Direct Lake Attempt → Guardrail Check → Mode Decision\n",
    "     ↓              ↓                   ↓              ↓\n",
    "DAX Request → Memory Available? → Within Limits? → Execute/Fallback\n",
    "     ↓              ↓                   ↓              ↓\n",
    "Processing  → Column Loading    → Success/Fail  → Direct Lake/SQL\n",
    "     ↓              ↓                   ↓              ↓\n",
    "Results     → Performance       → Protection    → Reliable Results\n",
    "```\n",
    "\n",
    "## Lab Workflow\n",
    "\n",
    "1. **Environment Setup**: Configure BigData lakehouse and semantic model access\n",
    "2. **Fallback Analysis**: Explore different fallback trigger scenarios\n",
    "3. **Mode Configuration**: Test Automatic, DirectLakeOnly, and DirectQueryOnly modes\n",
    "4. **Performance Comparison**: Measure execution differences across modes\n",
    "5. **Troubleshooting**: Identify and resolve common fallback issues\n",
    "6. **Production Configuration**: Implement optimal fallback strategies\n",
    "\n",
    "## Expected Outcomes\n",
    "\n",
    "By completing this lab, you will master Direct Lake's protection mechanisms:\n",
    "\n",
    "- ✅ **Fallback Understanding**: Complete knowledge of when and why fallback occurs\n",
    "- ✅ **Mode Configuration**: Expert ability to configure optimal fallback behavior\n",
    "- ✅ **Performance Analysis**: Skills to measure and optimize fallback scenarios\n",
    "- ✅ **Troubleshooting Mastery**: Ability to diagnose and resolve fallback issues\n",
    "- ✅ **Production Readiness**: Confidence in deploying Direct Lake with appropriate safeguards"
   ]
  },
  {
   "cell_type": "markdown",
   "id": "6f49793d-8e6c-4850-bdd3-7ed9a85ea337",
   "metadata": {
    "microsoft": {
     "language": "python",
     "language_group": "synapse_pyspark"
    },
    "nteract": {
     "transient": {
      "deleting": false
     }
    }
   },
   "source": [
    "### Prerequisites and Lab Dependencies\n",
    "\n",
    "This lab builds directly on **Lab 2's infrastructure** to demonstrate fallback behavior with real billion-row scenarios:\n",
    "\n",
    "#### Required Artifacts from Lab 2:\n",
    "- **BigData lakehouse**: With OneLake shortcuts to billion-row tables\n",
    "- **BigData_model semantic model**: Configured with relationships and measures\n",
    "- **Billion-row tables**: fact_myevents_1bln and fact_myevents_2bln for stress testing\n",
    "- **Performance monitoring setup**: Tracing and DMV capabilities established\n",
    "\n",
    "#### Why Lab 2 is Essential:\n",
    "- **Realistic scale**: Billion-row tables naturally trigger fallback scenarios\n",
    "- **Performance stress**: Large datasets push Direct Lake to its limits\n",
    "- **Comparative analysis**: Compare fallback vs. Direct Lake performance\n",
    "- **Production relevance**: Real-world scale scenarios for enterprise learning\n",
    "\n",
    "#### Fallback Learning Strategy:\n",
    "1. **Baseline establishment**: Document normal Direct Lake behavior\n",
    "2. **Fallback triggering**: Intentionally exceed limits to observe fallback\n",
    "3. **Mode configuration**: Explore different fallback behavior settings\n",
    "4. **Performance analysis**: Compare execution paths and timing\n",
    "5. **Troubleshooting**: Identify and resolve fallback causes"
   ]
  },
  {
   "cell_type": "markdown",
   "id": "ab5e5ade-d660-4f81-ad51-3389bfdff8e1",
   "metadata": {
    "jp-MarkdownHeadingCollapsed": true,
    "microsoft": {
     "language": "python",
     "language_group": "synapse_pyspark"
    },
    "nteract": {
     "transient": {
      "deleting": false
     }
    }
   },
   "source": [
    "## 1. Install Semantic Link Labs Python Library\n",
    "\n",
    "Installs required libraries for fallback behavior analysis and semantic model configuration."
   ]
  },
  {
   "cell_type": "code",
   "execution_count": null,
   "id": "05b8ffa9-7858-421b-b9c4-e0ea54e6e8f1",
   "metadata": {
    "microsoft": {
     "language": "python",
     "language_group": "synapse_pyspark"
    }
   },
   "outputs": [],
   "source": [
    "%pip install -q --upgrade pip\n",
    "%pip install -q semantic-link-labs azure-core==1.31.0 PyJWT==2.6.0"
   ]
  },
  {
   "cell_type": "markdown",
   "id": "c2882579-4bac-4b21-99f6-f7b1bb020235",
   "metadata": {
    "jp-MarkdownHeadingCollapsed": true,
    "microsoft": {
     "language": "python",
     "language_group": "synapse_pyspark"
    },
    "nteract": {
     "transient": {
      "deleting": false
     }
    }
   },
   "source": [
    "## 2. Configure Environment for Fallback Behavior Testing\n",
    "\n",
    "Establishes connection to BigData lakehouse and prepares semantic model for fallback analysis.\n",
    "- **Troubleshooting context**: Environment details for debugging fallback issues\n",
    "- **Performance baseline**: Established context for before/after comparisons\n",
    "\n",
    "**Expected outcome**: Validated environment with access to Lab 2's billion-row infrastructure, ready for systematic fallback behavior testing and analysis."
   ]
  },
  {
   "cell_type": "code",
   "execution_count": null,
   "id": "7f3dc908-415a-4f5a-83c9-7d15693fb363",
   "metadata": {
    "microsoft": {
     "language": "python",
     "language_group": "synapse_pyspark"
    }
   },
   "outputs": [],
   "source": [
    "import sempy_labs as labs\n",
    "from sempy import fabric\n",
    "import sempy\n",
    "\n",
    "LakehouseName = \"BigData\"\n",
    "lakehouses = labs.list_lakehouses()[\"Lakehouse Name\"]\n",
    "for l in lakehouses:\n",
    "    if l.startswith(\"Big\"):\n",
    "        LakehouseName = l\n",
    "\n",
    "SemanticModelName = f\"{LakehouseName}_model\"\n",
    "\n",
    "lakehouses=labs.list_lakehouses()[\"Lakehouse Name\"]\n",
    "if LakehouseName in lakehouses.values:\n",
    "    lakehouseId = notebookutils.lakehouse.getWithProperties(LakehouseName)[\"id\"]\n",
    "else:\n",
    "    print(\"You need to complete Lab 2 to create the required lakehouse for this lab\")\n",
    "\n",
    "workspaceId = notebookutils.lakehouse.getWithProperties(LakehouseName)[\"workspaceId\"]\n",
    "workspaceName = sempy.fabric.resolve_workspace_name(workspaceId)\n",
    "print(f\"WorkspaceId = {workspaceId}, LakehouseID = {lakehouseId}, Workspace Name = {workspaceName}\")\n",
    "\n"
   ]
  },
  {
   "cell_type": "markdown",
   "id": "2215d098-a518-442e-9f42-ff0bfac5c586",
   "metadata": {
    "jp-MarkdownHeadingCollapsed": true,
    "microsoft": {
     "language": "python",
     "language_group": "synapse_pyspark"
    },
    "nteract": {
     "transient": {
      "deleting": false
     }
    }
   },
   "source": [
    "## 3. Enhanced Trace Function for Fallback Analysis\n",
    "\n",
    "Defines comprehensive tracing function to monitor Direct Lake execution and fallback behavior patterns."
   ]
  },
  {
   "cell_type": "code",
   "execution_count": null,
   "id": "39653352-568d-4144-88d4-9393f8e4a6b3",
   "metadata": {
    "microsoft": {
     "language": "python",
     "language_group": "synapse_pyspark"
    }
   },
   "outputs": [],
   "source": [
    "import warnings\n",
    "import time\n",
    "from Microsoft.AnalysisServices.Tabular import TraceEventArgs\n",
    "from typing import Dict, List, Optional, Callable\n",
    "import pandas\n",
    "\n",
    "def runDMV():\n",
    "    df = sempy.fabric.evaluate_dax(\n",
    "        dataset=SemanticModelName, \n",
    "        dax_string=\"\"\"\n",
    "        \n",
    "        SELECT \n",
    "            MEASURE_GROUP_NAME AS [TABLE],\n",
    "            ATTRIBUTE_NAME AS [COLUMN],\n",
    "            DATATYPE ,\n",
    "            DICTIONARY_SIZE \t\t    AS SIZE ,\n",
    "            DICTIONARY_ISPAGEABLE \t\tAS PAGEABLE ,\n",
    "            DICTIONARY_ISRESIDENT\t\tAS RESIDENT ,\n",
    "            DICTIONARY_TEMPERATURE\t\tAS TEMPERATURE,\n",
    "            DICTIONARY_LAST_ACCESSED\tAS LASTACCESSED \n",
    "        FROM $SYSTEM.DISCOVER_STORAGE_TABLE_COLUMNS \n",
    "        ORDER BY \n",
    "            [DICTIONARY_TEMPERATURE] DESC\n",
    "        \n",
    "        \"\"\")\n",
    "    display(df)\n",
    "\n",
    "def filter_func(e):\n",
    "    retVal:bool=True\n",
    "    if e.EventSubclass.ToString() == \"VertiPaqScanInternal\":\n",
    "        retVal=False      \n",
    "    #     #if e.EventSubClass.ToString() == \"VertiPaqScanInternal\":\n",
    "    #     retVal=False\n",
    "    return retVal\n",
    "\n",
    "# define events to trace and their corresponding columns\n",
    "def runQueryWithTrace (expr:str,workspaceName:str,SemanticModelName:str,Result:Optional[bool]=True,Trace:Optional[bool]=True,DMV:Optional[bool]=True,ClearCache:Optional[bool]=True) -> pandas.DataFrame :\n",
    "    event_schema = fabric.Trace.get_default_query_trace_schema()\n",
    "    event_schema.update({\"ExecutionMetrics\":[\"EventClass\",\"TextData\"]})\n",
    "    del event_schema['VertiPaqSEQueryBegin']\n",
    "    del event_schema['VertiPaqSEQueryCacheMatch']\n",
    "    del event_schema['DirectQueryBegin']\n",
    "\n",
    "    warnings.filterwarnings(\"ignore\")\n",
    "\n",
    "    WorkspaceName = workspaceName\n",
    "    SemanticModelName = SemanticModelName\n",
    "\n",
    "    if ClearCache:\n",
    "        labs.clear_cache(SemanticModelName)\n",
    "\n",
    "    with fabric.create_trace_connection(SemanticModelName,WorkspaceName) as trace_connection:\n",
    "        # create trace on server with specified events\n",
    "        with trace_connection.create_trace(\n",
    "            event_schema=event_schema, \n",
    "            name=\"Simple Query Trace\",\n",
    "            filter_predicate=filter_func,\n",
    "            stop_event=\"QueryEnd\"\n",
    "            ) as trace:\n",
    "\n",
    "            trace.start()\n",
    "\n",
    "            df=sempy.fabric.evaluate_dax(\n",
    "                dataset=SemanticModelName, \n",
    "                dax_string=expr)\n",
    "\n",
    "            if Result:\n",
    "                displayHTML(f\"<H2>####### DAX QUERY RESULT #######</H2>\")\n",
    "                display(df)\n",
    "\n",
    "            # Wait 5 seconds for trace data to arrive\n",
    "            time.sleep(5)\n",
    "\n",
    "            # stop Trace and collect logs\n",
    "            final_trace_logs = trace.stop()\n",
    "\n",
    "    if Trace:\n",
    "        displayHTML(f\"<H2>####### SERVER TIMINGS #######</H2>\")\n",
    "        display(final_trace_logs)\n",
    "    \n",
    "    if DMV:\n",
    "        displayHTML(f\"<H2>####### SHOW DMV RESULTS #######</H2>\")\n",
    "        runDMV()\n",
    "\n",
    "    return final_trace_logs\n"
   ]
  },
  {
   "cell_type": "code",
   "execution_count": null,
   "id": "c4343642-bc69-4bcb-98f8-a5b3305cf1dd",
   "metadata": {
    "collapsed": false,
    "microsoft": {
     "language": "python",
     "language_group": "synapse_pyspark"
    }
   },
   "outputs": [],
   "source": [
    "runDMV()"
   ]
  },
  {
   "cell_type": "markdown",
   "id": "d4c5dad7-c8b4-4b96-8974-63ba5f5adfbd",
   "metadata": {
    "jp-MarkdownHeadingCollapsed": true,
    "microsoft": {
     "language": "python",
     "language_group": "synapse_pyspark"
    },
    "nteract": {
     "transient": {
      "deleting": false
     }
    }
   },
   "source": [
    "## 4. Demonstrate Natural Fallback Scenario (Automatic Mode)\n",
    "\n",
    "Executes billion-row query in Automatic mode to demonstrate intelligent fallback to SQL Endpoint."
   ]
  },
  {
   "cell_type": "code",
   "execution_count": null,
   "id": "dd98a66e-a7e3-4300-b094-b69405ac01f3",
   "metadata": {
    "collapsed": false,
    "microsoft": {
     "language": "python",
     "language_group": "synapse_pyspark"
    }
   },
   "outputs": [],
   "source": [
    "trace1 = runQueryWithTrace(\n",
    "    \"\"\"\n",
    "    EVALUATE\n",
    "        SUMMARIZECOLUMNS(\n",
    "                dim_Date[FirstDateofMonth] ,\n",
    "                \"Count of Transactions\" , COUNTROWS(fact_myevents_1bln) ,\n",
    "                \"Sum of Sales (1bln)\" , [Sum of Sales (1bln)] ,\n",
    "                \"Sum of Sales (2bln)\" , [Sum of Sales (2bln)]\n",
    "        )\n",
    "        ORDER BY [FirstDateofMonth]\n",
    "    \"\"\" , workspaceName , SemanticModelName\n",
    ")"
   ]
  },
  {
   "cell_type": "markdown",
   "id": "bb53a945-6d3d-4fda-b69e-f6b8cd897b1d",
   "metadata": {
    "jp-MarkdownHeadingCollapsed": true,
    "microsoft": {
     "language": "python",
     "language_group": "synapse_pyspark"
    },
    "nteract": {
     "transient": {
      "deleting": false
     }
    }
   },
   "source": [
    "## 5. Configure DirectLakeOnly Mode for Strict Testing\n",
    "\n",
    "Configures DirectLakeOnly mode to test Direct Lake limits without SQL Endpoint fallback protection."
   ]
  },
  {
   "cell_type": "code",
   "execution_count": null,
   "id": "4ec808ab-a554-4d3c-a28d-56238929e7ad",
   "metadata": {
    "microsoft": {
     "language": "python",
     "language_group": "synapse_pyspark"
    }
   },
   "outputs": [],
   "source": [
    "tom = labs.tom.TOMWrapper(dataset=SemanticModelName, workspace=workspaceName, readonly=False)\n",
    "tom.set_direct_lake_behavior(\"DirectLakeOnly\") ##  Can be set to any of ['Automatic', 'DirectLakeOnly', 'DirectQueryOnly'].\n",
    "tom.model.SaveChanges()\n",
    "print(\"Model changed\")\n",
    "fabric.refresh_dataset(refresh_type=\"calculate\",dataset=SemanticModelName)\n",
    "print(\"Model recalculated\")"
   ]
  },
  {
   "cell_type": "markdown",
   "id": "f661bdb2-1903-4ef6-b766-30b73811d726",
   "metadata": {
    "jp-MarkdownHeadingCollapsed": true,
    "microsoft": {
     "language": "python",
     "language_group": "synapse_pyspark"
    },
    "nteract": {
     "transient": {
      "deleting": false
     }
    }
   },
   "source": [
    "## 6. Test Query Failure in DirectLakeOnly Mode\n",
    "\n",
    "Attempts same billion-row query in DirectLakeOnly mode to demonstrate memory limit protection."
   ]
  },
  {
   "cell_type": "code",
   "execution_count": null,
   "id": "9dc20540-3924-43b4-944e-c93e93c43452",
   "metadata": {
    "collapsed": false,
    "microsoft": {
     "language": "python",
     "language_group": "synapse_pyspark"
    }
   },
   "outputs": [],
   "source": [
    "from sempy import fabric\n",
    "x = sempy.fabric._client._adomd_connection.FabricAdomdException\n",
    "try:\n",
    "    runQueryWithTrace(\n",
    "        \"\"\"\n",
    "        EVALUATE\n",
    "            SUMMARIZECOLUMNS(\n",
    "                    dim_Date[FirstDateofMonth] ,\n",
    "                    \"Count of Transactions\" , COUNTROWS(fact_myevents_1bln) ,\n",
    "                    \"Sum of Sales (1bln)\" , [Sum of Sales (1bln)] ,\n",
    "                    \"Sum of Sales (2bln)\" , [Sum of Sales (2bln)]\n",
    "            )\n",
    "            ORDER BY [FirstDateofMonth]\n",
    "        \"\"\" , workspaceName , SemanticModelName\n",
    "    )\n",
    "except sempy.fabric._client._adomd_connection.FabricAdomdException as f:\n",
    "    print(f)\n",
    "except Exception as e:\n",
    "    print(e)"
   ]
  },
  {
   "cell_type": "markdown",
   "id": "a643db15-d7a7-4327-b561-e4fac6be6b1c",
   "metadata": {
    "jp-MarkdownHeadingCollapsed": true,
    "microsoft": {
     "language": "python",
     "language_group": "synapse_pyspark"
    },
    "nteract": {
     "transient": {
      "deleting": false
     }
    }
   },
   "source": [
    "## 7. Restore Automatic Mode for Production-Ready Behavior\n",
    "\n",
    "Restores Automatic mode configuration for optimal production deployment with intelligent fallback."
   ]
  },
  {
   "cell_type": "code",
   "execution_count": null,
   "id": "21878901-92d5-4942-93d6-8f4a32bb1f95",
   "metadata": {
    "microsoft": {
     "language": "python",
     "language_group": "synapse_pyspark"
    }
   },
   "outputs": [],
   "source": [
    "tom = labs.tom.TOMWrapper(dataset=SemanticModelName, workspace=workspaceName, readonly=False)\n",
    "tom.set_direct_lake_behavior(\"Automatic\") ##  ['Automatic', 'DirectLakeOnly', 'DirectQueryOnly'].\n",
    "tom.model.SaveChanges()\n",
    "print(\"Model changed\")\n",
    "fabric.refresh_dataset(refresh_type=\"calculate\",dataset=SemanticModelName)\n",
    "print(\"Model recalculated\")"
   ]
  },
  {
   "cell_type": "markdown",
   "id": "cb1439dd-d98e-4ec9-92c8-d553c94091b6",
   "metadata": {
    "jp-MarkdownHeadingCollapsed": true,
    "microsoft": {
     "language": "python",
     "language_group": "synapse_pyspark"
    },
    "nteract": {
     "transient": {
      "deleting": false
     }
    }
   },
   "source": [
    "## 8. Comparative Analysis: Automatic vs. DirectLakeOnly Performance\n",
    "\n",
    "Analyzes performance differences and operational benefits between fallback modes for production optimization.\n",
    "| **Third run** | Automatic | Consistent with first run | Behavior stability |\n",
    "\n",
    "#### Key Performance Metrics:\n",
    "- **Execution time**: Consistency across automatic mode executions\n",
    "- **Resource usage**: Memory allocation patterns\n",
    "- **Result accuracy**: Identical analytical outputs regardless of execution mode\n",
    "- **System stability**: Reliable performance after mode switching\n",
    "\n",
    "### Fallback Behavior Mastery Summary\n",
    "\n",
    "#### Production Insights Gained:\n",
    "- ✅ **Fallback triggers**: Understanding conditions that cause SQL Endpoint fallback\n",
    "- ✅ **Performance impact**: Comparing Direct Lake vs. SQL Endpoint execution characteristics\n",
    "- ✅ **Resource limits**: Exact boundaries of Direct Lake memory and performance constraints\n",
    "- ✅ **Configuration strategies**: Appropriate fallback mode selection for different scenarios\n",
    "- ✅ **Troubleshooting skills**: Identifying and resolving fallback-related issues\n",
    "\n",
    "**Expected outcome**: Comprehensive understanding of Direct Lake fallback behavior with practical insights for production deployment and optimization strategies."
   ]
  },
  {
   "cell_type": "code",
   "execution_count": null,
   "id": "7a2e727b-ebbe-481d-91be-893593089cc0",
   "metadata": {
    "collapsed": false,
    "microsoft": {
     "language": "python",
     "language_group": "synapse_pyspark"
    }
   },
   "outputs": [],
   "source": [
    "trace2 = runQueryWithTrace(\n",
    "    \"\"\"\n",
    "    EVALUATE\n",
    "        SUMMARIZECOLUMNS(\n",
    "                dim_Date[FirstDateofMonth] ,\n",
    "                \"Count of Transactions\" , COUNTROWS(fact_myevents_1bln) ,\n",
    "                \"Sum of Sales (1bln)\" , [Sum of Sales (1bln)] ,\n",
    "                \"Sum of Sales (2bln)\" , [Sum of Sales (2bln)]\n",
    "        )\n",
    "        ORDER BY [FirstDateofMonth]\n",
    "    \"\"\" , workspaceName , SemanticModelName, Trace=True, DMV=False\n",
    ")"
   ]
  },
  {
   "cell_type": "markdown",
   "id": "4fca18ae",
   "metadata": {},
   "source": [
    "🎯 **Ready for the next lab?** Let's explore advanced framing and refresh strategies!\n",
    "\n",
    "---\n",
    "\n",
    "## Lab Summary\n",
    "\n",
    "### What You Accomplished\n",
    "In this lab, you mastered **Direct Lake fallback mechanisms** and protection strategies:\n",
    "\n",
    "- ✅ **Fallback Understanding**: Comprehensive knowledge of when and why fallback occurs\n",
    "- ✅ **Mode Configuration**: Expert configuration of Automatic, DirectLakeOnly, and DirectQueryOnly modes\n",
    "- ✅ **Protection Validation**: Demonstrated system protection against memory exhaustion scenarios\n",
    "- ✅ **Performance Analysis**: Measured execution differences between Direct Lake and SQL Endpoint modes\n",
    "- ✅ **Troubleshooting Skills**: Developed ability to diagnose and resolve fallback issues\n",
    "- ✅ **Production Strategy**: Established optimal fallback configuration for enterprise deployment\n",
    "\n",
    "### Architecture Overview\n",
    "\n",
    "**Direct Lake Fallback Protection System:**\n",
    "```\n",
    "Query Execution → Guardrail Check → Mode Decision → Reliable Results\n",
    "       ↓               ↓              ↓              ↓\n",
    "User Request   → Memory Available? → Execute/Fallback → Success\n",
    "Complex Query  → Within Limits?    → Direct Lake     → Fast Response\n",
    "Heavy Load     → Resource Check    → SQL Endpoint    → Guaranteed Results\n",
    "       ↓               ↓              ↓              ↓\n",
    "Protection     → System Health     → Smart Execution → Business Value\n",
    "```\n",
    "\n",
    "### Key Takeaways\n",
    "\n",
    "- **Intelligent Protection**: Direct Lake automatically protects against memory exhaustion and system failures\n",
    "- **Transparent Fallback**: Users always receive results regardless of execution mode complexity\n",
    "- **Mode Configuration**: Automatic mode provides optimal balance of performance and reliability\n",
    "- **Performance Monitoring**: Tracing reveals execution mode decisions and performance characteristics\n",
    "- **Production Readiness**: Fallback mechanisms ensure reliable operation in enterprise environments\n",
    "\n",
    "### Performance Results\n",
    "\n",
    "- **Automatic Mode**: Optimal balance of performance and reliability with intelligent fallback\n",
    "- **DirectLakeOnly**: Maximum performance when within limits, protective failure when exceeded\n",
    "- **SQL Endpoint Fallback**: Guaranteed query completion with acceptable performance for complex scenarios\n",
    "- **System Protection**: Zero system failures or memory exhaustion incidents\n",
    "\n",
    "### Technical Skills Gained\n",
    "\n",
    "- **Fallback Configuration**: Expert ability to configure appropriate fallback behavior for different scenarios\n",
    "- **Performance Monitoring**: Advanced tracing and analysis of execution mode decisions\n",
    "- **Troubleshooting Mastery**: Diagnostic skills for identifying and resolving fallback-related issues\n",
    "- **Production Planning**: Strategic planning for fallback behavior in enterprise deployments\n",
    "- **System Protection**: Understanding of Direct Lake's built-in protection mechanisms\n",
    "\n",
    "### Next Steps\n",
    "\n",
    "**Continue to Lab 5** to learn about:\n",
    "- Advanced framing and refresh optimization strategies\n",
    "- Intelligent refresh scheduling and coordination\n",
    "- Performance optimization through strategic refresh patterns\n",
    "- Enterprise-grade refresh automation and monitoring\n",
    "\n",
    "**For Production Fallback Management:**\n",
    "- Implement monitoring and alerting for fallback frequency\n",
    "- Establish baselines for acceptable fallback scenarios\n",
    "- Configure optimal fallback modes for different use cases\n",
    "- Document troubleshooting procedures for fallback issues\n",
    "\n",
    "---\n",
    "\n",
    "### Comprehensive Learning Achievement Summary\n",
    "\n",
    "Congratulations! 🎉 You have successfully completed the **Direct Lake Fallback Behaviour Workshop**, gaining essential skills for **production deployment** and **performance optimization** of Direct Lake solutions.\n",
    "\n",
    "### Core Competencies Developed\n",
    "\n",
    "#### 🔍 **1. Fallback Mechanism Understanding**\n",
    "- **Automatic mode benefits**: Intelligent fallback providing reliability and performance optimization\n",
    "- **DirectLakeOnly constraints**: Understanding exact limitations and appropriate use cases\n",
    "- **Trigger identification**: Recognizing conditions that cause SQL Endpoint fallback\n",
    "- **Performance implications**: Comparing execution characteristics across different modes\n",
    "\n",
    "#### ⚡ **2. Performance Analysis Expertise**\n",
    "- **DMV interpretation**: Reading and understanding DirectQuery performance metrics\n",
    "- **Trace analysis**: Identifying performance bottlenecks and optimization opportunities\n",
    "- **Comparative benchmarking**: Evaluating relative performance across fallback modes\n",
    "- **Resource monitoring**: Understanding memory, CPU, and I/O impacts\n",
    "\n",
    "#### 🎯 **3. Production Optimization Strategies**\n",
    "- **Configuration selection**: Choosing appropriate fallback modes for different scenarios\n",
    "- **Capacity planning**: Understanding resource requirements and limitations\n",
    "- **Troubleshooting workflows**: Systematic approaches to fallback-related issues\n",
    "- **Performance tuning**: Optimizing queries and models for Direct Lake efficiency\n",
    "\n",
    "### Practical Production Applications\n",
    "\n",
    "#### **Scenario-Based Decision Making:**\n",
    "\n",
    "| Business Scenario | Recommended Mode | Rationale |\n",
    "|-------------------|------------------|-----------|\n",
    "| **Real-time dashboards** | Automatic | Balance performance with reliability |\n",
    "| **Critical reporting** | Automatic | Ensure queries complete successfully |\n",
    "| **Performance testing** | DirectLakeOnly | Identify exact Direct Lake capabilities |\n",
    "| **Resource validation** | DirectLakeOnly | Test system boundaries and limits |\n",
    "\n",
    "#### **Troubleshooting Workflow Mastery:**\n",
    "1. **Identify**: Use DMVs to detect fallback occurrences\n",
    "2. **Analyze**: Examine traces to understand why fallback occurred\n",
    "3. **Optimize**: Modify queries or model to improve Direct Lake compatibility\n",
    "4. **Validate**: Test with DirectLakeOnly mode to confirm improvements\n",
    "5. **Deploy**: Use Automatic mode for production reliability\n",
    "\n",
    "### Advanced Insights Achieved\n",
    "\n",
    "#### **Performance Characteristics Understanding:**\n",
    "- ✅ **Memory boundaries**: Exact limits where Direct Lake falls back to SQL Endpoint\n",
    "- ✅ **Query complexity factors**: Identifying operations that trigger fallback\n",
    "- ✅ **Data volume impacts**: Understanding how table size affects performance mode\n",
    "- ✅ **Concurrency effects**: Recognizing how multiple users impact fallback behavior\n",
    "\n",
    "#### **Enterprise Deployment Readiness:**\n",
    "- ✅ **Monitoring strategies**: Implementing fallback detection in production\n",
    "- ✅ **Capacity planning**: Estimating resource requirements for optimal performance\n",
    "- ✅ **User communication**: Explaining performance variations to business stakeholders\n",
    "- ✅ **Optimization roadmaps**: Creating systematic improvement plans\n",
    "\n",
    "### Next Steps for Continued Learning\n",
    "\n",
    "#### **Immediate Applications:**\n",
    "1. **Apply learnings** to your production Direct Lake models\n",
    "2. **Implement monitoring** using the DMV queries learned today\n",
    "3. **Optimize existing queries** based on fallback behavior insights\n",
    "4. **Share knowledge** with your team about appropriate mode selection\n",
    "\n",
    "#### **Advanced Workshop Preparation:**\n",
    "- **Lab 5 - Framing**: Advanced refresh strategies and optimization techniques\n",
    "- **Lab 6 - Column Partitioning**: Performance optimization through strategic partitioning\n",
    "- **Lab 7 - High Cardinality Optimization**: Specialized techniques for complex data scenarios\n",
    "- **Lab 8 - Hybrid Scenarios**: Combining Direct Lake with Import mode effectively\n",
    "\n",
    "### Final Technical Validation\n",
    "\n",
    "Your completion of this workshop demonstrates:\n",
    "- 🎯 **Expert-level understanding** of Direct Lake fallback mechanisms\n",
    "- 🚀 **Production-ready skills** for enterprise deployment\n",
    "- 🔧 **Advanced troubleshooting capabilities** for complex scenarios\n",
    "- 📊 **Performance optimization expertise** for maximum efficiency\n",
    "\n",
    "**Congratulations on achieving Direct Lake Fallback Behaviour mastery!** You are now equipped with essential skills for successful enterprise deployment and optimization of Microsoft Fabric Direct Lake solutions."
   ]
  },
  {
   "cell_type": "code",
   "execution_count": null,
   "id": "96cb4280",
   "metadata": {},
   "outputs": [],
   "source": [
    "mssparkutils.session.stop()"
   ]
  }
 ],
 "metadata": {
  "dependencies": {
   "environment": {}
  },
  "kernel_info": {
   "name": "synapse_pyspark"
  },
  "kernelspec": {
   "display_name": "Synapse PySpark",
   "language": "Python",
   "name": "synapse_pyspark"
  },
  "language_info": {
   "name": "python"
  },
  "microsoft": {
   "language": "python",
   "language_group": "synapse_pyspark",
   "ms_spell_check": {
    "ms_spell_check_language": "en"
   }
  },
  "nteract": {
   "version": "nteract-front-end@1.0.0"
  },
  "spark_compute": {
   "compute_id": "/trident/default",
   "session_options": {
    "conf": {
     "spark.synapse.nbs.session.timeout": "1200000"
    }
   }
  },
  "synapse_widget": {
   "state": {},
   "version": "0.1"
  }
 },
 "nbformat": 4,
 "nbformat_minor": 5
}
