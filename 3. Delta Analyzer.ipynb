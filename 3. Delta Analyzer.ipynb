{
 "cells": [
  {
   "cell_type": "markdown",
   "id": "192c8184-1a54-4d1e-a3aa-aba6cac4d257",
   "metadata": {
    "microsoft": {
     "language": "python",
     "language_group": "synapse_pyspark"
    },
    "nteract": {
     "transient": {
      "deleting": false
     }
    }
   },
   "source": [
    "# Lab 3: Delta Table Analysis and Optimization\n",
    "\n",
    "## Lab Overview\n",
    "\n",
    "This lab explores the **Delta Analyzer** tool for deep insights into Delta Lake table structure and optimization. You'll analyze billion-row tables to understand how different storage configurations impact Direct Lake performance and discover optimization opportunities.\n",
    "\n",
    "### What You'll Build\n",
    "\n",
    "**Workshop Flow:**\n",
    "```\n",
    "1. Setup Analysis Environment\n",
    "   ↓\n",
    "2. Analyze Small Dimension Tables\n",
    "   ↓\n",
    "3. Compare V-Order vs Standard Storage\n",
    "   ↓\n",
    "4. Examine Partitioned Tables\n",
    "   ↓\n",
    "5. Analyze Billion-Row Performance\n",
    "   ↓\n",
    "6. Generate Optimization Recommendations\n",
    "```\n",
    "\n",
    "### Key Concepts\n",
    "- **Delta Analyzer**: Tool for examining Delta Lake table internals\n",
    "- **V-Order Optimization**: Microsoft's columnar compression technology\n",
    "- **Row Group Analysis**: Understanding data clustering and organization\n",
    "- **Partitioning Impact**: How partitioning affects query performance\n",
    "\n",
    "### Learning Objectives\n",
    "By completing this lab, you'll be able to:\n",
    "- ✅ Use Delta Analyzer to examine table structure and optimization\n",
    "- ✅ Compare V-Order vs standard storage performance characteristics\n",
    "- ✅ Analyze partitioning benefits for large tables\n",
    "- ✅ Identify optimization opportunities for Direct Lake performance\n",
    "- ✅ Generate actionable recommendations for table improvements\n",
    "\n",
    "### Analysis Targets\n",
    "| Table | Rows | Features | Focus |\n",
    "|:------|:-----|:---------|:------|\n",
    "| **dim_Date** | ~3.6K | Small dimension | Baseline optimization |\n",
    "| **fact_myevents_1bln** | 1B | V-Order optimized | Standard optimization |\n",
    "| **fact_myevents_1bln_no_vorder** | 1B | No V-Order | Performance comparison |\n",
    "| **fact_myevents_1bln_partitioned_datekey** | 1B | Date partitioned | Partitioning benefits |\n",
    "| **fact_myevents_2bln** | 2B | Maximum scale | Scale impact analysis |\n",
    "\n",
    "**Estimated Time**: 45-60 minutes  \n",
    "**Prerequisites**: Lab 2 completion (BigData lakehouse with billion-row tables)\n",
    "\n",
    "---"
   ]
  },
  {
   "cell_type": "markdown",
   "id": "d72800c9-abc0-41b7-a651-b0dbaa9390c7",
   "metadata": {
    "microsoft": {
     "language": "python",
     "language_group": "synapse_pyspark"
    },
    "nteract": {
     "transient": {
      "deleting": false
     }
    }
   },
   "source": [
    "### Why Delta Analysis Matters for Direct Lake Performance\n",
    "\n",
    "Delta Analyzer reveals physical storage characteristics that directly impact Direct Lake performance and enables data-driven optimization decisions."
   ]
  },
  {
   "cell_type": "markdown",
   "id": "7c2a66dd-1c28-4d92-8f5d-18b710cac6dd",
   "metadata": {
    "jp-MarkdownHeadingCollapsed": true,
    "microsoft": {
     "language": "python",
     "language_group": "synapse_pyspark"
    },
    "nteract": {
     "transient": {
      "deleting": false
     }
    }
   },
   "source": [
    "## 1. Install Required Libraries\n",
    "\n",
    "Install Semantic Link Labs with specialized Delta Analyzer capabilities for examining table structure and optimization opportunities."
   ]
  },
  {
   "cell_type": "code",
   "execution_count": null,
   "id": "b3ce9b30-42f4-47f7-84fc-d843787fe34c",
   "metadata": {
    "microsoft": {
     "language": "python",
     "language_group": "synapse_pyspark"
    }
   },
   "outputs": [],
   "source": [
    "%pip install -q --disable-pip-version-check semantic-link-labs"
   ]
  },
  {
   "cell_type": "markdown",
   "id": "e41d6936-9834-4488-93db-d98814084742",
   "metadata": {
    "jp-MarkdownHeadingCollapsed": true,
    "microsoft": {
     "language": "python",
     "language_group": "synapse_pyspark"
    },
    "nteract": {
     "transient": {
      "deleting": false
     }
    }
   },
   "source": [
    "## 2. Configure Libraries and Delta Analysis Environment\n",
    "\n",
    "Import required libraries and setup custom Delta Analyzer function for comprehensive table analysis."
   ]
  },
  {
   "cell_type": "code",
   "execution_count": null,
   "id": "b1a32df6-2a2f-488a-9f20-241130235306",
   "metadata": {
    "microsoft": {
     "language": "python",
     "language_group": "synapse_pyspark"
    }
   },
   "outputs": [],
   "source": [
    "import sempy_labs as labs\n",
    "from sempy import fabric\n",
    "import sempy\n",
    "import pandas\n",
    "import time\n",
    "\n",
    "LakehouseName = \"BigData\"\n",
    "lakehouses = labs.list_lakehouses()[\"Lakehouse Name\"]\n",
    "for l in lakehouses:\n",
    "    if l.startswith(\"Big\"):\n",
    "        LakehouseName = l\n",
    "\n",
    "SemanticModelName = f\"{LakehouseName}_model\"\n",
    "\n",
    "def myDeltaAnalyzer(table_name:str,skip_cardinality:bool = True) -> dict:\n",
    "    # Run Delta Analyzer\n",
    "    analyzer:dict = labs.delta_analyzer(lakehouse=LakehouseName, table_name=table_name, skip_cardinality=skip_cardinality)\n",
    "    for key , value in analyzer.items():\n",
    "        displayHTML(f\"<H2>#### {key} ({table_name}) ####</H2>\")\n",
    "        display(value)\n",
    "    return analyzer"
   ]
  },
  {
   "cell_type": "markdown",
   "id": "f85810b9-1a0f-4af6-aa64-c8d8ff4d1b8f",
   "metadata": {
    "jp-MarkdownHeadingCollapsed": true,
    "microsoft": {
     "language": "python",
     "language_group": "synapse_pyspark"
    },
    "nteract": {
     "transient": {
      "deleting": false
     }
    }
   },
   "source": [
    "## 3. Validate Lakehouse Environment and Prerequisites\n",
    "\n",
    "Validates Lab 2 completion and confirms access to big data lakehouse for Delta analysis."
   ]
  },
  {
   "cell_type": "code",
   "execution_count": null,
   "id": "62f4fd77-5514-42a7-9715-c25b83a161d4",
   "metadata": {
    "microsoft": {
     "language": "python",
     "language_group": "synapse_pyspark"
    }
   },
   "outputs": [],
   "source": [
    "lakehouses=labs.list_lakehouses()[\"Lakehouse Name\"]\n",
    "if LakehouseName in lakehouses.values:\n",
    "    lakehouseId = notebookutils.lakehouse.getWithProperties(LakehouseName)[\"id\"]\n",
    "else:\n",
    "    print(\"You need to complete Lab 2 to create the required lakehouse for this lab\")\n",
    "\n",
    "workspaceId = notebookutils.lakehouse.getWithProperties(LakehouseName)[\"workspaceId\"]\n",
    "workspaceName = sempy.fabric.resolve_workspace_name(workspaceId)\n",
    "print(f\"WorkspaceId = {workspaceId}, LakehouseID = {lakehouseId}, Workspace Name = {workspaceName}\")"
   ]
  },
  {
   "cell_type": "markdown",
   "id": "c93d2cb2-54ec-40ac-a3bd-9ee59df2d0e5",
   "metadata": {
    "jp-MarkdownHeadingCollapsed": true,
    "microsoft": {
     "language": "python",
     "language_group": "synapse_pyspark"
    },
    "nteract": {
     "transient": {
      "deleting": false
     }
    }
   },
   "source": [
    "## 4. Inventory Available Tables for Delta Analysis\n",
    "\n",
    "Lists all available tables in the big data lakehouse to catalog analysis targets."
   ]
  },
  {
   "cell_type": "code",
   "execution_count": null,
   "id": "48a8166e-95dd-47c3-89d2-6c545faad6d0",
   "metadata": {
    "microsoft": {
     "language": "python",
     "language_group": "synapse_pyspark"
    }
   },
   "outputs": [],
   "source": [
    "labs.lakehouse.get_lakehouse_tables(lakehouse=LakehouseName)"
   ]
  },
  {
   "cell_type": "markdown",
   "id": "81e45cdb-6613-4625-a999-dcd6de196a4d",
   "metadata": {
    "jp-MarkdownHeadingCollapsed": true,
    "microsoft": {
     "language": "python",
     "language_group": "synapse_pyspark"
    },
    "nteract": {
     "transient": {
      "deleting": false
     }
    }
   },
   "source": [
    "## 5. Baseline Analysis: Small Dimension Table (dim_Date)\n",
    "\n",
    "Analyzes optimized dimension table structure to establish baseline for Delta Lake optimization patterns."
   ]
  },
  {
   "cell_type": "code",
   "execution_count": null,
   "id": "6c9f846f-71b7-4c5f-94c1-dc1bdb42e662",
   "metadata": {
    "collapsed": false,
    "microsoft": {
     "language": "python",
     "language_group": "synapse_pyspark"
    }
   },
   "outputs": [],
   "source": [
    "df1:dict[str, pandas.DataFrame] = myDeltaAnalyzer (\"dim_Date\",False)"
   ]
  },
  {
   "cell_type": "markdown",
   "id": "158de446-24ec-4571-8b7d-1fa8c88a1887",
   "metadata": {
    "jp-MarkdownHeadingCollapsed": true,
    "microsoft": {
     "language": "python",
     "language_group": "synapse_pyspark"
    },
    "nteract": {
     "transient": {
      "deleting": false
     }
    }
   },
   "source": [
    "## 6. V-Order Optimization Analysis: 1 Billion Row Table\n",
    "\n",
    "Analyzes V-Order optimization effectiveness on billion-row table for performance and compression benefits."
   ]
  },
  {
   "cell_type": "code",
   "execution_count": null,
   "id": "dfebbf56-572a-4313-a3d2-74cea2e40028",
   "metadata": {
    "collapsed": false,
    "microsoft": {
     "language": "python",
     "language_group": "synapse_pyspark"
    }
   },
   "outputs": [],
   "source": [
    "df2:dict[str, pandas.DataFrame] = myDeltaAnalyzer (\"fact_myevents_1bln\")"
   ]
  },
  {
   "cell_type": "markdown",
   "id": "e8b2ffc4-b0a0-4016-9b9f-0d9555df950f",
   "metadata": {
    "jp-MarkdownHeadingCollapsed": true,
    "microsoft": {
     "language": "python",
     "language_group": "synapse_pyspark"
    },
    "nteract": {
     "transient": {
      "deleting": false
     }
    }
   },
   "source": [
    "## 7. Performance Comparison: 1 Billion Rows Without V-Order\n",
    "\n",
    "Compares performance characteristics of billion-row table without V-Order optimization for impact analysis."
   ]
  },
  {
   "cell_type": "code",
   "execution_count": null,
   "id": "ef8b65e0-c090-42c2-819f-6f6aadcd5bd1",
   "metadata": {
    "collapsed": false,
    "microsoft": {
     "language": "python",
     "language_group": "synapse_pyspark"
    }
   },
   "outputs": [],
   "source": [
    "df3:dict[str, pandas.DataFrame] = myDeltaAnalyzer (\"fact_myevents_1bln_no_vorder\")"
   ]
  },
  {
   "cell_type": "markdown",
   "id": "b7e827f6-a8bb-430c-b702-c197298d2351",
   "metadata": {
    "jp-MarkdownHeadingCollapsed": true,
    "microsoft": {
     "language": "python",
     "language_group": "synapse_pyspark"
    },
    "nteract": {
     "transient": {
      "deleting": false
     }
    }
   },
   "source": [
    "## 8. Partitioning Strategy Analysis: Date-Key Organization Benefits\n",
    "\n",
    "Examines billion-row table partitioned by DateKey to understand partitioning impact on Direct Lake performance.\n",
    "\n",
    "### Date-Key Partitioning Analysis\n",
    "```python\n",
    "myDeltaAnalyzer(\"fact_myevents_1bln_partitioned_datekey\")\n",
    "```\n",
    "\n",
    "#### Partitioning Strategy Examination:\n",
    "\n",
    "##### **File Organization by Date**:\n",
    "- **Partition structure**: Files organized by DateKey values\n",
    "- **File distribution**: How billion rows are distributed across date partitions\n",
    "- **Size consistency**: Whether partitions have similar sizes\n",
    "- **Storage efficiency**: Impact of partitioning on compression\n",
    "\n",
    "##### **Performance Optimization Opportunities**:\n",
    "- **Query patterns**: How date-based filters benefit from partitioning\n",
    "- **Memory loading**: Selective partition loading for Direct Lake\n",
    "- **Parallel processing**: Concurrent partition access capabilities\n",
    "\n",
    "### Expected Partitioning Insights\n",
    "\n",
    "#### Structural Analysis:\n",
    "| Aspect | Partitioned Table | Non-Partitioned | Benefit |\n",
    "|--------|------------------|------------------|---------|\n",
    "| **File count** | Many small files per partition | Fewer large files | Better granularity |\n",
    "| **Query filtering** | Partition elimination | Full table scan | Faster queries |\n",
    "| **Memory loading** | Selective partition loading | Entire columns | Reduced memory |\n",
    "| **Parallel processing** | Per-partition processing | Limited parallelism | Better throughput |\n",
    "\n",
    "#### Direct Lake Performance Impact:\n",
    "- **Memory management**: Load only relevant date ranges\n",
    "- **Query optimization**: Skip irrelevant partitions automatically\n",
    "- **Fallback avoidance**: Reduced memory pressure through selective loading\n",
    "- **User experience**: Faster response times for date-filtered queries\n",
    "\n",
    "### Partitioning Trade-offs\n",
    "\n",
    "#### Advantages:\n",
    "- ✅ **Query performance**: Dramatic improvement for date-filtered queries\n",
    "- ✅ **Memory efficiency**: Selective data loading\n",
    "- ✅ **Parallel processing**: Better resource utilization\n",
    "- ✅ **Maintenance efficiency**: Easier data lifecycle management\n",
    "\n",
    "#### Considerations:\n",
    "- ⚠️ **Small file overhead**: Many small files can impact metadata operations\n",
    "- ⚠️ **Non-partition queries**: Cross-partition queries may be slower\n",
    "- ⚠️ **Storage overhead**: Slightly more metadata storage required\n",
    "\n",
    "### Analysis Validation\n",
    "The Delta analyzer will reveal:\n",
    "- **Partition distribution**: How evenly data is distributed across partitions\n",
    "- **File size patterns**: Whether partitions are appropriately sized\n",
    "- **Compression effectiveness**: How partitioning affects compression ratios\n",
    "- **Storage organization**: Physical layout optimization for query patterns\n",
    "\n",
    "**Expected outcome**: Comprehensive analysis of partitioning benefits for billion-row Direct Lake tables, demonstrating query performance optimization and memory efficiency gains."
   ]
  },
  {
   "cell_type": "code",
   "execution_count": null,
   "id": "5b38d467-2dd1-4912-ba5a-9eb8cd4d9c39",
   "metadata": {
    "collapsed": false,
    "microsoft": {
     "language": "python",
     "language_group": "synapse_pyspark"
    }
   },
   "outputs": [],
   "source": [
    "df4:dict[str, pandas.DataFrame] = myDeltaAnalyzer (\"fact_myevents_1bln_partitioned_datekey\")"
   ]
  },
  {
   "cell_type": "markdown",
   "id": "b9e3a176-8f74-4895-ad6d-56ea327c0c9c",
   "metadata": {
    "jp-MarkdownHeadingCollapsed": true,
    "microsoft": {
     "language": "python",
     "language_group": "synapse_pyspark"
    },
    "nteract": {
     "transient": {
      "deleting": false
     }
    }
   },
   "source": [
    "## 9. Maximum Scale Analysis: 2 Billion Row Table Limits\n",
    "\n",
    "Analyzes ultimate scale limits with 2 billion row table to understand Direct Lake boundary conditions.\n",
    "\n",
    "### 2 Billion Row Storage Analysis\n",
    "```python\n",
    "myDeltaAnalyzer(\"fact_myevents_2bln\")  # Maximum scale analysis\n",
    "```\n",
    "\n",
    "#### Critical Analysis Areas:\n",
    "\n",
    "##### **File Size Distribution at Scale**:\n",
    "- **Individual file sizes**: Whether files remain within 1GB Direct Lake limits\n",
    "- **File count scaling**: How doubling rows affects file organization\n",
    "- **Storage efficiency**: Compression effectiveness at maximum scale\n",
    "\n",
    "##### **Memory Impact Projection**:\n",
    "- **Dictionary sizes**: Column dictionary memory requirements\n",
    "- **Cardinality scaling**: How unique values scale with data volume\n",
    "- **Memory pressure indicators**: Signs of approaching Direct Lake limits\n",
    "\n",
    "### Expected Scale Impact Analysis\n",
    "\n",
    "#### Storage Scaling Patterns:\n",
    "| Metric | 1B Rows | 2B Rows | Scaling Factor |\n",
    "|--------|---------|---------|----------------|\n",
    "| **Total storage** | Baseline | ~2x | Linear scaling |\n",
    "| **File count** | Baseline | ~2x | Proportional increase |\n",
    "| **Individual file sizes** | <1GB | Monitor limits | Critical threshold |\n",
    "| **Compression ratio** | Optimized | Maintain efficiency | Consistency check |\n",
    "\n",
    "#### Direct Lake Guardrail Implications:\n",
    "- **Memory limits**: 2B-row columns may approach memory capacity\n",
    "- **File size limits**: Individual files must remain <1GB\n",
    "- **Cardinality limits**: Unique values may approach Direct Lake thresholds\n",
    "- **Performance thresholds**: Query execution time considerations\n",
    "\n",
    "### Extreme Scale Insights\n",
    "\n",
    "#### Performance Characteristics:\n",
    "- **Loading behavior**: How Direct Lake handles extremely large columns\n",
    "- **Fallback triggers**: Conditions that force SQL Endpoint fallback\n",
    "- **Memory optimization**: System memory management at scale\n",
    "- **Query patterns**: Which query types work efficiently at this scale\n",
    "\n",
    "#### Optimization Strategies:\n",
    "- **Partitioning necessity**: Whether extreme scale requires partitioning\n",
    "- **Compression critical**: Importance of V-Order at maximum scale\n",
    "- **Memory planning**: Capacity requirements for production deployment\n",
    "- **Fallback planning**: When to expect and plan for SQL Endpoint usage\n",
    "\n",
    "### Real-World Production Guidance\n",
    "This analysis provides practical insights for:\n",
    "- **Capacity planning**: Understanding hardware requirements for large datasets\n",
    "- **Architecture decisions**: When to partition, optimize, or plan for fallback\n",
    "- **Performance expectations**: Realistic performance goals for extreme-scale scenarios\n",
    "- **Cost planning**: Storage and compute costs for maximum-scale Direct Lake implementations\n",
    "\n",
    "**Expected outcome**: Comprehensive understanding of Direct Lake behavior at extreme scale, including storage optimization requirements and fallback scenario planning for production deployments."
   ]
  },
  {
   "cell_type": "code",
   "execution_count": null,
   "id": "77a4257d-f905-400f-82ff-aacd7d2e0ab1",
   "metadata": {
    "collapsed": false,
    "microsoft": {
     "language": "python",
     "language_group": "synapse_pyspark"
    }
   },
   "outputs": [],
   "source": [
    "df5:dict[str, pandas.DataFrame] = myDeltaAnalyzer (\"fact_myevents_2bln\")"
   ]
  },
  {
   "cell_type": "markdown",
   "id": "7ab2e5fc-16c9-4b7b-a8c4-1653e2194658",
   "metadata": {
    "jp-MarkdownHeadingCollapsed": true,
    "microsoft": {
     "language": "python",
     "language_group": "synapse_pyspark"
    },
    "nteract": {
     "transient": {
      "deleting": false
     }
    }
   },
   "source": [
    "## 10. Understanding Delta Analyzer Output Categories\n",
    "\n",
    "Interprets comprehensive Delta analyzer results to understand optimization opportunities and performance patterns.\n",
    "\n",
    "### Analysis Category Selection Strategy\n",
    "\n",
    "#### For Different Table Types:\n",
    "| Table Type | Primary Focus | Key Categories |\n",
    "|------------|---------------|----------------|\n",
    "| **Small dimensions** | Complete analysis | All categories including Columns |\n",
    "| **Large facts** | Structure and optimization | Summary, Parquet Files, Row Groups |\n",
    "| **Partitioned tables** | File distribution | Parquet Files, Row Groups |\n",
    "| **Optimization comparison** | Compression analysis | Summary, Column Chunks |\n",
    "\n",
    "#### Performance Considerations:\n",
    "- **Small tables**: All categories provide valuable insights without performance impact\n",
    "- **Billion-row tables**: Focus on structural analysis to avoid expensive operations\n",
    "- **Comparison studies**: Use consistent categories across tables for meaningful comparison\n",
    "\n",
    "**Expected outcome**: Clear understanding of each analysis category's purpose and value for different optimization scenarios."
   ]
  },
  {
   "cell_type": "code",
   "execution_count": null,
   "id": "c20ca0e4-82f9-4ab5-b38c-b3656f207b3b",
   "metadata": {
    "microsoft": {
     "language": "python",
     "language_group": "synapse_pyspark"
    }
   },
   "outputs": [],
   "source": [
    "for key , value in df1.items():\n",
    "    print(key)"
   ]
  },
  {
   "cell_type": "markdown",
   "id": "cb3f30bd-7faf-4187-95f7-966440e831bd",
   "metadata": {
    "jp-MarkdownHeadingCollapsed": true,
    "microsoft": {
     "language": "python",
     "language_group": "synapse_pyspark"
    },
    "nteract": {
     "transient": {
      "deleting": false
     }
    }
   },
   "source": [
    "## 11. Comparative Analysis: Cross-Table Optimization Study\n",
    "\n",
    "### Multi-Table Comparison Strategy\n",
    "Combining Delta Analyzer results from all five tables enables **comprehensive optimization comparison** across different storage strategies and scales:\n",
    "\n",
    "#### Comparison Dimensions:\n",
    "- **Scale impact**: How data volume affects optimization (1B vs 2B rows)\n",
    "- **V-Order benefits**: Quantifying optimization effectiveness\n",
    "- **Partitioning benefits**: Understanding partitioning impact on storage\n",
    "- **Size scaling**: How storage characteristics scale with data volume\n",
    "\n",
    "### Comparative Analysis Framework\n",
    "\n",
    "#### Table Comparison Matrix:\n",
    "| Table | Scale | V-Order | Partitioned | Analysis Focus |\n",
    "|-------|-------|---------|-------------|----------------|\n",
    "| **dim_Date** | Small | ✅ | ❌ | Baseline reference |\n",
    "| **fact_myevents_1bln** | 1B | ✅ | ❌ | Standard optimization |\n",
    "| **fact_myevents_1bln_no_vorder** | 1B | ❌ | ❌ | Optimization comparison |\n",
    "| **fact_myevents_1bln_partitioned_datekey** | 1B | ✅ | ✅ | Partitioning benefits |\n",
    "| **fact_myevents_2bln** | 2B | ✅ | ❌ | Maximum scale |\n",
    "\n",
    "#### Key Comparison Metrics:\n",
    "- **Storage efficiency**: Total storage size and compression ratios\n",
    "- **File organization**: File count and size distribution\n",
    "- **Performance indicators**: Metrics that predict Direct Lake performance\n",
    "- **Optimization impact**: Quantifiable benefits of different strategies"
   ]
  },
  {
   "cell_type": "markdown",
   "id": "25c8485e-22fb-4c7a-95b2-c789dbcadcf1",
   "metadata": {
    "microsoft": {
     "language": "python",
     "language_group": "synapse_pyspark"
    },
    "nteract": {
     "transient": {
      "deleting": false
     }
    }
   },
   "source": [
    "### Visualization and Insights Generation\n",
    "\n",
    "#### Summary Table Consolidation:\n",
    "The combined dataframe enables powerful comparative analysis:\n",
    "\n",
    "```python\n",
    "delta_analyzer_output_table = \"Summary\"  # Focus on high-level comparison\n",
    "```\n",
    "\n",
    "#### Why Start with Summary Analysis:\n",
    "- **Overview perspective**: High-level metrics across all tables\n",
    "- **Key performance indicators**: Critical metrics for Direct Lake optimization\n",
    "- **Trend identification**: Patterns across different optimization strategies\n",
    "- **Decision support**: Data-driven optimization recommendations\n",
    "\n",
    "#### Visualization Benefits:\n",
    "- **Side-by-side comparison**: Direct comparison of optimization strategies\n",
    "- **Scale impact visualization**: How data volume affects storage characteristics\n",
    "- **Optimization quantification**: Measurable benefits of V-Order and partitioning\n",
    "- **Performance prediction**: Indicators for Direct Lake behavior\n",
    "\n",
    "### Expected Comparative Insights\n",
    "\n",
    "#### V-Order Impact Quantification:\n",
    "- **Storage reduction**: Measurable compression improvement\n",
    "- **File efficiency**: Better file size distribution\n",
    "- **Performance prediction**: Indicators for faster Direct Lake loading\n",
    "\n",
    "#### Partitioning Benefits Analysis:\n",
    "- **File distribution**: How partitioning affects file organization\n",
    "- **Query optimization potential**: Partition elimination opportunities\n",
    "- **Memory efficiency**: Selective loading benefits\n",
    "\n",
    "#### Scale Impact Understanding:\n",
    "- **Linear scaling**: How storage scales with data volume\n",
    "- **Performance thresholds**: Where optimization becomes critical\n",
    "- **Guardrail proximity**: Approaching Direct Lake limits\n",
    "\n",
    "**Expected outcome**: Comprehensive comparative analysis revealing optimization strategies' effectiveness and providing data-driven guidance for Direct Lake performance tuning."
   ]
  },
  {
   "cell_type": "code",
   "execution_count": null,
   "id": "3218afa5-528a-435a-a2fa-ae9e42af0547",
   "metadata": {
    "collapsed": false,
    "microsoft": {
     "language": "python",
     "language_group": "synapse_pyspark"
    }
   },
   "outputs": [],
   "source": [
    "delta_analyzer_output_table = \"Summary\"  #  \"Summary\",\"Parquet Files\",\"Row Groups\",\"Column Chunks\",\"Columns\"\n",
    "\n",
    "df_combined = pandas.concat([\n",
    "        df1[delta_analyzer_output_table],\n",
    "        df2[delta_analyzer_output_table],\n",
    "        df3[delta_analyzer_output_table],\n",
    "        df4[delta_analyzer_output_table],\n",
    "        df5[delta_analyzer_output_table],\n",
    "        ]\n",
    "        ).drop_duplicates().reset_index(drop=True)\n",
    "display(df_combined)"
   ]
  },
  {
   "cell_type": "markdown",
   "id": "e22bd633",
   "metadata": {},
   "source": [
    "## 12. Lab 3 Completion: Delta Optimization Mastery\n",
    "\n",
    "### Congratulations! Delta Lake Analysis Expert 🎉\n",
    "\n",
    "You've successfully completed a comprehensive **Delta Lake optimization analysis**, gaining deep insights into storage patterns that directly impact Direct Lake performance.\n",
    "\n",
    "#### 🔍 **Analysis Achievements**:\n",
    "- ✅ **Multi-scale analysis**: From 3.6K to 2B row tables\n",
    "- ✅ **Optimization comparison**: V-Order vs. standard storage quantification\n",
    "- ✅ **Partitioning evaluation**: Understanding partitioning benefits and trade-offs\n",
    "- ✅ **Performance prediction**: Storage patterns that optimize Direct Lake behavior\n",
    "- ✅ **Comparative insights**: Data-driven optimization recommendations\n",
    "\n",
    "### Key Delta Lake Optimization Learnings\n",
    "\n",
    "#### 📊 **Storage Optimization Impact**:\n",
    "- **V-Order provides measurable benefits** with 20-40% storage reduction\n",
    "- **Partitioning enables selective loading** reducing memory requirements\n",
    "- **File organization directly impacts** Direct Lake loading performance\n",
    "- **Compression strategies become critical** at billion-row scale\n",
    "\n",
    "#### 🎯 **Direct Lake Performance Guidance**:\n",
    "- **File size distribution** affects memory loading efficiency\n",
    "- **Column compression ratios** predict memory requirements\n",
    "- **Row group organization** impacts query performance\n",
    "- **Storage patterns indicate** fallback probability\n",
    "\n",
    "#### 🛡️ **Production Optimization Strategy**:\n",
    "- **V-Order optimization** is essential for large-scale Direct Lake\n",
    "- **Partitioning strategies** should align with query patterns\n",
    "- **File size monitoring** prevents Direct Lake guardrail violations\n",
    "- **Compression analysis** guides memory capacity planning\n",
    "\n",
    "### Real-World Applications\n",
    "\n",
    "#### Enterprise Optimization Scenarios:\n",
    "- **📈 Performance tuning**: Use Delta analysis to optimize existing tables\n",
    "- **🏗️ Architecture planning**: Choose optimization strategies based on data characteristics\n",
    "- **💰 Cost optimization**: Balance storage costs with performance requirements\n",
    "- **🔄 Maintenance strategies**: Monitor storage patterns over time\n",
    "\n",
    "### Advanced Optimization Techniques Discovered\n",
    "\n",
    "#### V-Order Benefits Quantified:\n",
    "- **Storage efficiency**: Measurable compression improvements\n",
    "- **Memory optimization**: Reduced Direct Lake memory footprint\n",
    "- **Query acceleration**: Better predicate pushdown and filtering\n",
    "\n",
    "#### Partitioning Strategy Validation:\n",
    "- **Partition elimination**: Quantified benefits for date-filtered queries\n",
    "- **Memory efficiency**: Selective partition loading capabilities\n",
    "- **Performance trade-offs**: Understanding when partitioning helps vs. hurts\n",
    "\n",
    "### Next Steps in Your Direct Lake Journey\n",
    "\n",
    "#### 🚀 **Immediate Applications**:\n",
    "- Apply Delta analysis to your own datasets\n",
    "- Implement V-Order optimization on critical tables\n",
    "- Design partitioning strategies based on query patterns\n",
    "\n",
    "#### 📚 **Advanced Learning Path**:\n",
    "- **Lab 4**: Explore fallback behaviors and troubleshooting\n",
    "- **Lab 5**: Understand framing and refresh optimization\n",
    "- **Lab 6-7**: Advanced performance tuning techniques\n",
    "\n",
    "### Resource Cleanup and Best Practices\n",
    "Stopping the Spark session properly:\n",
    "- **💰 Releases analysis compute resources**\n",
    "- **🧹 Cleans up temporary analysis data**\n",
    "- **✅ Ensures proper resource management**\n",
    "\n",
    "### Delta Lake Optimization Certification 🏆\n",
    "You now master:\n",
    "- ✅ **Storage analysis**: Deep understanding of Delta Lake file organization\n",
    "- ✅ **Performance optimization**: V-Order and partitioning strategies\n",
    "- ✅ **Direct Lake tuning**: Storage patterns that optimize memory usage\n",
    "- ✅ **Comparative analysis**: Data-driven optimization decision making\n",
    "\n",
    "🎯 **Ready for the next lab?** Let's explore Direct Lake fallback behavior and protection mechanisms!\n",
    "\n",
    "---\n",
    "\n",
    "## Lab Summary\n",
    "\n",
    "### What You Accomplished\n",
    "In this lab, you mastered **Delta Lake table analysis and optimization** for Direct Lake performance:\n",
    "\n",
    "- ✅ **Comprehensive Analysis**: Analyzed Delta Lake table structures across billion-row datasets\n",
    "- ✅ **V-Order Optimization**: Understood compression and performance benefits of V-Order optimization\n",
    "- ✅ **Partitioning Strategy**: Evaluated partitioning effectiveness for query pruning and performance\n",
    "- ✅ **Scale Validation**: Tested Direct Lake limits with massive 2 billion row datasets\n",
    "- ✅ **Performance Comparison**: Compared optimization techniques across different table configurations\n",
    "- ✅ **Optimization Insights**: Identified key factors for Delta Lake table optimization\n",
    "\n",
    "### Architecture Overview\n",
    "\n",
    "**Delta Lake Analysis and Optimization Flow:**\n",
    "```\n",
    "Delta Tables → Structure Analysis → Optimization Assessment → Performance Insights\n",
    "     ↓              ↓                    ↓                    ↓\n",
    "Raw Data    → File Organization → V-Order Benefits → Compression Ratios\n",
    "Partitions  → Distribution Analysis → Query Pruning → Performance Gains\n",
    "Row Groups  → Column Chunks → Storage Efficiency → Memory Optimization\n",
    "     ↓              ↓                    ↓                    ↓\n",
    "Optimized Tables → Enhanced Performance → Efficient Queries → Business Value\n",
    "```\n",
    "\n",
    "### Key Takeaways\n",
    "\n",
    "- **V-Order Optimization**: Provides significant compression and query performance benefits for large tables\n",
    "- **Partitioning Strategy**: Date-based partitioning enables effective query pruning for time-series data\n",
    "- **File Organization**: Optimal file sizes and row group distribution improve Direct Lake performance\n",
    "- **Scale Understanding**: Billion-row tables operate effectively within Direct Lake guardrails\n",
    "- **Optimization Identification**: Delta analyzer reveals specific optimization opportunities\n",
    "\n",
    "### Technical Skills Gained\n",
    "\n",
    "- **Delta Analyzer Expertise**: Advanced skills in analyzing Delta Lake table structures\n",
    "- **Optimization Assessment**: Ability to evaluate and recommend table optimization strategies\n",
    "- **Performance Analysis**: Understanding of how table structure impacts Direct Lake performance\n",
    "- **Scale Planning**: Capability to plan and validate large-scale Delta Lake implementations\n",
    "\n",
    "### Next Steps\n",
    "\n",
    "**Continue to Lab 4** to learn about:\n",
    "- Direct Lake fallback behavior and protection mechanisms\n",
    "- Understanding when and why fallback to SQL Endpoint occurs\n",
    "- Configuring optimal fallback modes for production environments\n",
    "\n",
    "---\n",
    "\n",
    "Stops Spark session to clean up resources."
   ]
  },
  {
   "cell_type": "code",
   "execution_count": null,
   "id": "3e407420",
   "metadata": {},
   "outputs": [],
   "source": [
    "mssparkutils.session.stop()"
   ]
  }
 ],
 "metadata": {
  "dependencies": {},
  "kernel_info": {
   "name": "synapse_pyspark"
  },
  "kernelspec": {
   "display_name": "Synapse PySpark",
   "language": "Python",
   "name": "synapse_pyspark"
  },
  "language_info": {
   "name": "python"
  },
  "microsoft": {
   "language": "python",
   "language_group": "synapse_pyspark",
   "ms_spell_check": {
    "ms_spell_check_language": "en"
   }
  },
  "nteract": {
   "version": "nteract-front-end@1.0.0"
  },
  "spark_compute": {
   "compute_id": "/trident/default",
   "session_options": {
    "conf": {
     "spark.synapse.nbs.session.timeout": "1200000"
    }
   }
  },
  "synapse_widget": {
   "state": {},
   "version": "0.1"
  },
  "widgets": {
   "application/vnd.jupyter.widget-state+json": {
    "state": {
     "01210b8e0a1a43b4ba3808699783b2f8": {
      "model_module": "@jupyter-widgets/base",
      "model_module_version": "2.0.0",
      "model_name": "LayoutModel",
      "state": {}
     },
     "038abeb09ce3447baa7f7d6da4eaa479": {
      "model_module": "@jupyter-widgets/controls",
      "model_module_version": "2.0.0",
      "model_name": "FloatProgressModel",
      "state": {
       "bar_style": "success",
       "layout": "IPY_MODEL_136c0905a4c446bcb00f502cf08dc864",
       "max": 1,
       "style": "IPY_MODEL_50793ad896b14896bb8177f7abf395eb",
       "value": 1
      }
     },
     "05e025ff01974892ab5055da4c96b3e4": {
      "model_module": "@jupyter-widgets/controls",
      "model_module_version": "2.0.0",
      "model_name": "ProgressStyleModel",
      "state": {
       "description_width": ""
      }
     },
     "07af22c462094d28996c226ece799b8a": {
      "model_module": "@jupyter-widgets/controls",
      "model_module_version": "2.0.0",
      "model_name": "HTMLModel",
      "state": {
       "layout": "IPY_MODEL_74a851ab249744d2b09688361a8de913",
       "style": "IPY_MODEL_17a8b61e716f4af984283d82f74510e8",
       "value": "Analyzing the &#x27;part-00013-905f0f53-c1cc-4af1-ad70-b2ff284788d5-c000.snappy.parquet&#x27; parquet file (13/13)...: 100%"
      }
     },
     "08430e9de7b34c9ab94b65364efbfa56": {
      "model_module": "@jupyter-widgets/controls",
      "model_module_version": "2.0.0",
      "model_name": "HBoxModel",
      "state": {
       "children": [
        "IPY_MODEL_f5022e498f4741b0ac6cb016fc0c3127",
        "IPY_MODEL_9c80b16105ec4b0f892b304aa4044e50",
        "IPY_MODEL_dfe81af47eb74041a23b8f3cf95097c6"
       ],
       "layout": "IPY_MODEL_a2d6bce87e3745a5a3e875ee5fd78b1a"
      }
     },
     "08d092d1028046c9bffab4dce72f71b0": {
      "model_module": "@jupyter-widgets/base",
      "model_module_version": "2.0.0",
      "model_name": "LayoutModel",
      "state": {}
     },
     "0b5d147b10a6435f816abddd6bc9d823": {
      "model_module": "@jupyter-widgets/base",
      "model_module_version": "2.0.0",
      "model_name": "LayoutModel",
      "state": {}
     },
     "0e546b8eb464488994c5cf54f3ed728e": {
      "model_module": "@jupyter-widgets/base",
      "model_module_version": "2.0.0",
      "model_name": "LayoutModel",
      "state": {}
     },
     "0e5f8e8806844e7f8401ccac4cd2265c": {
      "model_module": "@jupyter-widgets/base",
      "model_module_version": "2.0.0",
      "model_name": "LayoutModel",
      "state": {}
     },
     "1180084d4a9b4cf6ad7ccde32d2070d3": {
      "model_module": "@jupyter-widgets/controls",
      "model_module_version": "2.0.0",
      "model_name": "ProgressStyleModel",
      "state": {
       "description_width": ""
      }
     },
     "136c0905a4c446bcb00f502cf08dc864": {
      "model_module": "@jupyter-widgets/base",
      "model_module_version": "2.0.0",
      "model_name": "LayoutModel",
      "state": {}
     },
     "13c8b71f6e794dc7a645f692e547c38c": {
      "model_module": "@jupyter-widgets/controls",
      "model_module_version": "2.0.0",
      "model_name": "HBoxModel",
      "state": {
       "children": [
        "IPY_MODEL_bc65be7e90c54be1879f6ca8c8289fb7",
        "IPY_MODEL_c2ddbfa340b7462ca6ca976ca18f34a0",
        "IPY_MODEL_dc4209fbe70046e1ae2110e5278adc6d"
       ],
       "layout": "IPY_MODEL_f4f103aecacd4d3cb3a43b3fed235080"
      }
     },
     "1442a2da2309449fbefa4b69951a185b": {
      "model_module": "@jupyter-widgets/base",
      "model_module_version": "2.0.0",
      "model_name": "LayoutModel",
      "state": {}
     },
     "150f6004d04749fa9e01cb95a0d77ca6": {
      "model_module": "@jupyter-widgets/controls",
      "model_module_version": "2.0.0",
      "model_name": "ProgressStyleModel",
      "state": {
       "description_width": ""
      }
     },
     "159b45614a2f4c2586a4ea7a64741fd2": {
      "model_module": "@jupyter-widgets/base",
      "model_module_version": "2.0.0",
      "model_name": "LayoutModel",
      "state": {}
     },
     "17a8b61e716f4af984283d82f74510e8": {
      "model_module": "@jupyter-widgets/controls",
      "model_module_version": "2.0.0",
      "model_name": "HTMLStyleModel",
      "state": {
       "description_width": "",
       "font_size": null,
       "text_color": null
      }
     },
     "183f4892efec47d4bcf4bbc94e447de4": {
      "model_module": "@jupyter-widgets/base",
      "model_module_version": "2.0.0",
      "model_name": "LayoutModel",
      "state": {}
     },
     "20be922de24e4f56bf4f37e04c86da72": {
      "model_module": "@jupyter-widgets/controls",
      "model_module_version": "2.0.0",
      "model_name": "FloatProgressModel",
      "state": {
       "bar_style": "success",
       "layout": "IPY_MODEL_e21502956de240608b355e7a1c3c8508",
       "max": 13,
       "style": "IPY_MODEL_b372eb148e3f48ac890bd5233094f814",
       "value": 13
      }
     },
     "213d93611c694f71bd465e582c77dbac": {
      "model_module": "@jupyter-widgets/base",
      "model_module_version": "2.0.0",
      "model_name": "LayoutModel",
      "state": {}
     },
     "21dee20d945b45e7a24ccbe7c98bf249": {
      "model_module": "@jupyter-widgets/controls",
      "model_module_version": "2.0.0",
      "model_name": "FloatProgressModel",
      "state": {
       "bar_style": "success",
       "layout": "IPY_MODEL_c3d98200e3624ff0adbccd729a6da11b",
       "max": 807,
       "style": "IPY_MODEL_36153ebd43614002ba3c8373f07fe690",
       "value": 807
      }
     },
     "22dbb40849ce47e183d8e245d7d4f282": {
      "model_module": "@jupyter-widgets/controls",
      "model_module_version": "2.0.0",
      "model_name": "HTMLModel",
      "state": {
       "layout": "IPY_MODEL_bd3a01ebe0e749c4af50d46f9e763f93",
       "style": "IPY_MODEL_38823f83f6b4439c9cfce90fca1719d1",
       "value": "Analyzing the &#x27;part-00000-9670e9cd-2e85-490e-92dc-d472b75d96f7-c000.snappy.parquet&#x27; parquet file (1/1)...: 100%"
      }
     },
     "252b708d3b9940bbaf02396b391441b9": {
      "model_module": "@jupyter-widgets/controls",
      "model_module_version": "2.0.0",
      "model_name": "HTMLStyleModel",
      "state": {
       "description_width": "",
       "font_size": null,
       "text_color": null
      }
     },
     "27302ebc524f41afa57cad92765fb6fe": {
      "model_module": "@jupyter-widgets/controls",
      "model_module_version": "2.0.0",
      "model_name": "HTMLModel",
      "state": {
       "layout": "IPY_MODEL_bf62b547b5de48beb4e99008bcc4467b",
       "style": "IPY_MODEL_3e5efd2f3ac44616bdae880f4c364087",
       "value": "Analyzing the &#x27;part-00000-9670e9cd-2e85-490e-92dc-d472b75d96f7-c000.snappy.parquet&#x27; parquet file (1/1)...: 100%"
      }
     },
     "29575de0a8e045a48aab33ecfe0e7a79": {
      "model_module": "@jupyter-widgets/controls",
      "model_module_version": "2.0.0",
      "model_name": "FloatProgressModel",
      "state": {
       "bar_style": "success",
       "layout": "IPY_MODEL_d557eef2745c478e96b7e2a278d4a9ba",
       "max": 28,
       "style": "IPY_MODEL_75b16d0bbb434e2f965c99ab0baec5e2",
       "value": 28
      }
     },
     "2b251d0b54684055b9f2f5576624b331": {
      "model_module": "@jupyter-widgets/base",
      "model_module_version": "2.0.0",
      "model_name": "LayoutModel",
      "state": {}
     },
     "2d65c70c29264bbeb56c74d8ad62a26d": {
      "model_module": "@jupyter-widgets/controls",
      "model_module_version": "2.0.0",
      "model_name": "FloatProgressModel",
      "state": {
       "bar_style": "success",
       "layout": "IPY_MODEL_4a5749e09f1b4a0e8bedebc04e288cd5",
       "max": 13,
       "style": "IPY_MODEL_6e0e5f6c262b45ab8d28a8ea383e59d0",
       "value": 13
      }
     },
     "306af816a0be4735a141857695c1a312": {
      "model_module": "@jupyter-widgets/controls",
      "model_module_version": "2.0.0",
      "model_name": "HTMLStyleModel",
      "state": {
       "description_width": "",
       "font_size": null,
       "text_color": null
      }
     },
     "32b8714b96e24885b220e1c285f5374a": {
      "model_module": "@jupyter-widgets/base",
      "model_module_version": "2.0.0",
      "model_name": "LayoutModel",
      "state": {}
     },
     "34a9bda8c46b4bb48e264582eb53980f": {
      "model_module": "@jupyter-widgets/base",
      "model_module_version": "2.0.0",
      "model_name": "LayoutModel",
      "state": {}
     },
     "3565b7d11906441cb3c69dcac1f4450a": {
      "model_module": "@jupyter-widgets/controls",
      "model_module_version": "2.0.0",
      "model_name": "HTMLStyleModel",
      "state": {
       "description_width": "",
       "font_size": null,
       "text_color": null
      }
     },
     "35894b60725f43e7907bc9ad3a2abd17": {
      "model_module": "@jupyter-widgets/controls",
      "model_module_version": "2.0.0",
      "model_name": "HTMLModel",
      "state": {
       "layout": "IPY_MODEL_56d4d83d07c946beb77abfd780dfef72",
       "style": "IPY_MODEL_252b708d3b9940bbaf02396b391441b9",
       "value": " 200/200 [01:14&lt;00:00,  2.79it/s]"
      }
     },
     "36153ebd43614002ba3c8373f07fe690": {
      "model_module": "@jupyter-widgets/controls",
      "model_module_version": "2.0.0",
      "model_name": "ProgressStyleModel",
      "state": {
       "description_width": ""
      }
     },
     "38823f83f6b4439c9cfce90fca1719d1": {
      "model_module": "@jupyter-widgets/controls",
      "model_module_version": "2.0.0",
      "model_name": "HTMLStyleModel",
      "state": {
       "description_width": "",
       "font_size": null,
       "text_color": null
      }
     },
     "3a1406769e414804887e11bd89d01d72": {
      "model_module": "@jupyter-widgets/controls",
      "model_module_version": "2.0.0",
      "model_name": "HTMLModel",
      "state": {
       "layout": "IPY_MODEL_75b8200f10344d908d82485a7adfe0bb",
       "style": "IPY_MODEL_3565b7d11906441cb3c69dcac1f4450a",
       "value": "Analyzing the &#x27;part-00199-d65dcc0f-a3f2-4b85-8646-6d1060241a41-c000.snappy.parquet&#x27; parquet file (200/200)...: 100%"
      }
     },
     "3a7e379a72ec46878d04b172b4f74f2e": {
      "model_module": "@jupyter-widgets/base",
      "model_module_version": "2.0.0",
      "model_name": "LayoutModel",
      "state": {}
     },
     "3ac4e8fd9c3e46d6820fc623a1d94308": {
      "model_module": "@jupyter-widgets/controls",
      "model_module_version": "2.0.0",
      "model_name": "HTMLStyleModel",
      "state": {
       "description_width": "",
       "font_size": null,
       "text_color": null
      }
     },
     "3b2a77b5371a4c69b5266eaf3de6bcc5": {
      "model_module": "@jupyter-widgets/controls",
      "model_module_version": "2.0.0",
      "model_name": "HBoxModel",
      "state": {
       "children": [
        "IPY_MODEL_22dbb40849ce47e183d8e245d7d4f282",
        "IPY_MODEL_038abeb09ce3447baa7f7d6da4eaa479",
        "IPY_MODEL_4f5b68409866493e978988a2c61dfaa7"
       ],
       "layout": "IPY_MODEL_a647ba5534e14ac692f002f02e50e320"
      }
     },
     "3e5efd2f3ac44616bdae880f4c364087": {
      "model_module": "@jupyter-widgets/controls",
      "model_module_version": "2.0.0",
      "model_name": "HTMLStyleModel",
      "state": {
       "description_width": "",
       "font_size": null,
       "text_color": null
      }
     },
     "411e6d20abcb48688e5d06d8f5b4b1f0": {
      "model_module": "@jupyter-widgets/controls",
      "model_module_version": "2.0.0",
      "model_name": "HTMLStyleModel",
      "state": {
       "description_width": "",
       "font_size": null,
       "text_color": null
      }
     },
     "41626f106eca4849ad1d9d95da719356": {
      "model_module": "@jupyter-widgets/base",
      "model_module_version": "2.0.0",
      "model_name": "LayoutModel",
      "state": {}
     },
     "424297958ddb4280a89987bf245872cb": {
      "model_module": "@jupyter-widgets/controls",
      "model_module_version": "2.0.0",
      "model_name": "HTMLStyleModel",
      "state": {
       "description_width": "",
       "font_size": null,
       "text_color": null
      }
     },
     "43a13a3d41c54a449e2effbc4ea7e2f4": {
      "model_module": "@jupyter-widgets/base",
      "model_module_version": "2.0.0",
      "model_name": "LayoutModel",
      "state": {}
     },
     "43b7803efefa4d228f488e2653749b2a": {
      "model_module": "@jupyter-widgets/controls",
      "model_module_version": "2.0.0",
      "model_name": "HBoxModel",
      "state": {
       "children": [
        "IPY_MODEL_d85a4d7d838a457983b8cf563643c085",
        "IPY_MODEL_ad0b90607c84424b8957abe669fc192e",
        "IPY_MODEL_53c4937e35c14f56ac4695b73ac52b63"
       ],
       "layout": "IPY_MODEL_32b8714b96e24885b220e1c285f5374a"
      }
     },
     "4a5749e09f1b4a0e8bedebc04e288cd5": {
      "model_module": "@jupyter-widgets/base",
      "model_module_version": "2.0.0",
      "model_name": "LayoutModel",
      "state": {}
     },
     "4e941d5017fd48a59128165556040aac": {
      "model_module": "@jupyter-widgets/controls",
      "model_module_version": "2.0.0",
      "model_name": "HTMLStyleModel",
      "state": {
       "description_width": "",
       "font_size": null,
       "text_color": null
      }
     },
     "4f5b68409866493e978988a2c61dfaa7": {
      "model_module": "@jupyter-widgets/controls",
      "model_module_version": "2.0.0",
      "model_name": "HTMLModel",
      "state": {
       "layout": "IPY_MODEL_01210b8e0a1a43b4ba3808699783b2f8",
       "style": "IPY_MODEL_6c4be2c0f9ba40fe98a1632c9df2a8e8",
       "value": " 1/1 [00:00&lt;00:00,  4.62it/s]"
      }
     },
     "50089fee181147fba9a06dc4f65a32b5": {
      "model_module": "@jupyter-widgets/base",
      "model_module_version": "2.0.0",
      "model_name": "LayoutModel",
      "state": {}
     },
     "50793ad896b14896bb8177f7abf395eb": {
      "model_module": "@jupyter-widgets/controls",
      "model_module_version": "2.0.0",
      "model_name": "ProgressStyleModel",
      "state": {
       "description_width": ""
      }
     },
     "53c4937e35c14f56ac4695b73ac52b63": {
      "model_module": "@jupyter-widgets/controls",
      "model_module_version": "2.0.0",
      "model_name": "HTMLModel",
      "state": {
       "layout": "IPY_MODEL_5f28d332f6444abd889ec2c2f8590a39",
       "style": "IPY_MODEL_af8313cd277548c4b4ab9c901572ce55",
       "value": " 1/1 [00:00&lt;00:00, 19.88it/s]"
      }
     },
     "542d6926404b4ee588937c352f039056": {
      "model_module": "@jupyter-widgets/base",
      "model_module_version": "2.0.0",
      "model_name": "LayoutModel",
      "state": {}
     },
     "5631a4561213495da745c3f450459d26": {
      "model_module": "@jupyter-widgets/controls",
      "model_module_version": "2.0.0",
      "model_name": "HTMLModel",
      "state": {
       "layout": "IPY_MODEL_ba378fdbf50940e498f5a934b3629d16",
       "style": "IPY_MODEL_fe0f6ad8a59e4373bf90068d5ab020d5",
       "value": " 13/13 [00:15&lt;00:00,  1.52s/it]"
      }
     },
     "569ecbe496b14c168263e6c820259eab": {
      "model_module": "@jupyter-widgets/controls",
      "model_module_version": "2.0.0",
      "model_name": "HTMLStyleModel",
      "state": {
       "description_width": "",
       "font_size": null,
       "text_color": null
      }
     },
     "56ba2d3adb694d8487ecccc25eed770e": {
      "model_module": "@jupyter-widgets/controls",
      "model_module_version": "2.0.0",
      "model_name": "HTMLModel",
      "state": {
       "layout": "IPY_MODEL_159b45614a2f4c2586a4ea7a64741fd2",
       "style": "IPY_MODEL_98b303bb66e84c6d95fa9a28c73bb026",
       "value": " 200/200 [01:18&lt;00:00,  2.71it/s]"
      }
     },
     "56d4d83d07c946beb77abfd780dfef72": {
      "model_module": "@jupyter-widgets/base",
      "model_module_version": "2.0.0",
      "model_name": "LayoutModel",
      "state": {}
     },
     "573e4d2a6d3a4637af7f709e805b1c31": {
      "model_module": "@jupyter-widgets/controls",
      "model_module_version": "2.0.0",
      "model_name": "HTMLModel",
      "state": {
       "layout": "IPY_MODEL_c06bf41232294406b8b52639a3926726",
       "style": "IPY_MODEL_a6986ea617794dbdb63f8e49d66af30e",
       "value": " 200/200 [01:18&lt;00:00,  2.59it/s]"
      }
     },
     "5a52aad5f736473395c97168160491c6": {
      "model_module": "@jupyter-widgets/controls",
      "model_module_version": "2.0.0",
      "model_name": "HTMLStyleModel",
      "state": {
       "description_width": "",
       "font_size": null,
       "text_color": null
      }
     },
     "5be7641333bb4170b12788e9a8234c31": {
      "model_module": "@jupyter-widgets/controls",
      "model_module_version": "2.0.0",
      "model_name": "HTMLStyleModel",
      "state": {
       "description_width": "",
       "font_size": null,
       "text_color": null
      }
     },
     "5de1f66838e24b9ea5d9b48d354b8dfa": {
      "model_module": "@jupyter-widgets/controls",
      "model_module_version": "2.0.0",
      "model_name": "HTMLStyleModel",
      "state": {
       "description_width": "",
       "font_size": null,
       "text_color": null
      }
     },
     "5f28d332f6444abd889ec2c2f8590a39": {
      "model_module": "@jupyter-widgets/base",
      "model_module_version": "2.0.0",
      "model_name": "LayoutModel",
      "state": {}
     },
     "5f95881c3d0f491587d7dbde8f3282c2": {
      "model_module": "@jupyter-widgets/controls",
      "model_module_version": "2.0.0",
      "model_name": "HTMLModel",
      "state": {
       "layout": "IPY_MODEL_d931862cfec946d0a5d1ae8e4a9280f2",
       "style": "IPY_MODEL_b9d0caf55e344d3a8558369e573f49ec",
       "value": " 807/807 [01:56&lt;00:00,  6.10it/s]"
      }
     },
     "5f9f39261fbe4931a1d69d0dbe17a4be": {
      "model_module": "@jupyter-widgets/controls",
      "model_module_version": "2.0.0",
      "model_name": "HBoxModel",
      "state": {
       "children": [
        "IPY_MODEL_686bddfe5fb54d13b5d6c6ddbf63f0c6",
        "IPY_MODEL_fd6f5f45595b40a8b604803d06070b18",
        "IPY_MODEL_8e95bd3f89a34246a8e812478d3cef5d"
       ],
       "layout": "IPY_MODEL_72d3dc60665c4f2b85c7be958e16d7bb"
      }
     },
     "5feb71caedee404286f585392d91dc77": {
      "model_module": "@jupyter-widgets/controls",
      "model_module_version": "2.0.0",
      "model_name": "HTMLStyleModel",
      "state": {
       "description_width": "",
       "font_size": null,
       "text_color": null
      }
     },
     "5feea6ab4cd7468dba0df222b7e2f161": {
      "model_module": "@jupyter-widgets/base",
      "model_module_version": "2.0.0",
      "model_name": "LayoutModel",
      "state": {}
     },
     "6043330cc6f44c3b85a26940235bd499": {
      "model_module": "@jupyter-widgets/controls",
      "model_module_version": "2.0.0",
      "model_name": "HBoxModel",
      "state": {
       "children": [
        "IPY_MODEL_c8ce2e33900f4aeb8d61602813f46a45",
        "IPY_MODEL_b8019ca9d23242699bb981edcca24269",
        "IPY_MODEL_d5114db9e35b43828b8eae0e5ac79e76"
       ],
       "layout": "IPY_MODEL_79efc5c745684821b01247d2c06e86d9"
      }
     },
     "6202c6c953234a9fa7c092711c8bc11a": {
      "model_module": "@jupyter-widgets/controls",
      "model_module_version": "2.0.0",
      "model_name": "ProgressStyleModel",
      "state": {
       "description_width": ""
      }
     },
     "639e235b0149430892b95a4784ccf2d1": {
      "model_module": "@jupyter-widgets/controls",
      "model_module_version": "2.0.0",
      "model_name": "HTMLStyleModel",
      "state": {
       "description_width": "",
       "font_size": null,
       "text_color": null
      }
     },
     "6450225a61254485990edf816645e2df": {
      "model_module": "@jupyter-widgets/base",
      "model_module_version": "2.0.0",
      "model_name": "LayoutModel",
      "state": {}
     },
     "652c27d0967a412d8791ffc431ad6373": {
      "model_module": "@jupyter-widgets/controls",
      "model_module_version": "2.0.0",
      "model_name": "HTMLModel",
      "state": {
       "layout": "IPY_MODEL_b69e07837fc04e63aaedb61b64471a9f",
       "style": "IPY_MODEL_a4e1dc9d4de64d04aa113343d76a3021",
       "value": "Analyzing the &#x27;part-00027-252493a6-a733-41f1-bf05-6da20f0adf37-c000.snappy.parquet&#x27; parquet file (28/28)...: 100%"
      }
     },
     "686bddfe5fb54d13b5d6c6ddbf63f0c6": {
      "model_module": "@jupyter-widgets/controls",
      "model_module_version": "2.0.0",
      "model_name": "HTMLModel",
      "state": {
       "layout": "IPY_MODEL_df0819c98a16437d934000d5898db824",
       "style": "IPY_MODEL_fb45cde633e94beabe52ba5160ddcdee",
       "value": "Analyzing the &#x27;part-00027-252493a6-a733-41f1-bf05-6da20f0adf37-c000.snappy.parquet&#x27; parquet file (28/28)...: 100%"
      }
     },
     "68729f997c73409d9278b13236a053a7": {
      "model_module": "@jupyter-widgets/controls",
      "model_module_version": "2.0.0",
      "model_name": "HBoxModel",
      "state": {
       "children": [
        "IPY_MODEL_79b3aaa8b90446bbbb8d686d5769c554",
        "IPY_MODEL_d007edf53a3e4f869940b72282668eea",
        "IPY_MODEL_35894b60725f43e7907bc9ad3a2abd17"
       ],
       "layout": "IPY_MODEL_08d092d1028046c9bffab4dce72f71b0"
      }
     },
     "6c4be2c0f9ba40fe98a1632c9df2a8e8": {
      "model_module": "@jupyter-widgets/controls",
      "model_module_version": "2.0.0",
      "model_name": "HTMLStyleModel",
      "state": {
       "description_width": "",
       "font_size": null,
       "text_color": null
      }
     },
     "6c75d2eb3fc54ea6a20d6d657c104111": {
      "model_module": "@jupyter-widgets/controls",
      "model_module_version": "2.0.0",
      "model_name": "ProgressStyleModel",
      "state": {
       "description_width": ""
      }
     },
     "6dbc0b53b9684ecdb8e43e39ca41004d": {
      "model_module": "@jupyter-widgets/base",
      "model_module_version": "2.0.0",
      "model_name": "LayoutModel",
      "state": {}
     },
     "6e0e5f6c262b45ab8d28a8ea383e59d0": {
      "model_module": "@jupyter-widgets/controls",
      "model_module_version": "2.0.0",
      "model_name": "ProgressStyleModel",
      "state": {
       "description_width": ""
      }
     },
     "6e4bac8e0ffc4be6837b44e4af5b4acc": {
      "model_module": "@jupyter-widgets/controls",
      "model_module_version": "2.0.0",
      "model_name": "HTMLStyleModel",
      "state": {
       "description_width": "",
       "font_size": null,
       "text_color": null
      }
     },
     "72d3dc60665c4f2b85c7be958e16d7bb": {
      "model_module": "@jupyter-widgets/base",
      "model_module_version": "2.0.0",
      "model_name": "LayoutModel",
      "state": {}
     },
     "734856b803b24241ac39421a9c6291ee": {
      "model_module": "@jupyter-widgets/controls",
      "model_module_version": "2.0.0",
      "model_name": "ProgressStyleModel",
      "state": {
       "description_width": ""
      }
     },
     "74a851ab249744d2b09688361a8de913": {
      "model_module": "@jupyter-widgets/base",
      "model_module_version": "2.0.0",
      "model_name": "LayoutModel",
      "state": {}
     },
     "7553cdcdb7df4b19b1702620613e65f7": {
      "model_module": "@jupyter-widgets/controls",
      "model_module_version": "2.0.0",
      "model_name": "HTMLStyleModel",
      "state": {
       "description_width": "",
       "font_size": null,
       "text_color": null
      }
     },
     "75b16d0bbb434e2f965c99ab0baec5e2": {
      "model_module": "@jupyter-widgets/controls",
      "model_module_version": "2.0.0",
      "model_name": "ProgressStyleModel",
      "state": {
       "description_width": ""
      }
     },
     "75b8200f10344d908d82485a7adfe0bb": {
      "model_module": "@jupyter-widgets/base",
      "model_module_version": "2.0.0",
      "model_name": "LayoutModel",
      "state": {}
     },
     "761704eddf7a471782a916ac5c731201": {
      "model_module": "@jupyter-widgets/controls",
      "model_module_version": "2.0.0",
      "model_name": "FloatProgressModel",
      "state": {
       "bar_style": "success",
       "layout": "IPY_MODEL_eaca2c3276204af2a4c72a96892f4190",
       "max": 807,
       "style": "IPY_MODEL_ae0e6974127c4afdbf7ba6e13636a5a7",
       "value": 807
      }
     },
     "79b3aaa8b90446bbbb8d686d5769c554": {
      "model_module": "@jupyter-widgets/controls",
      "model_module_version": "2.0.0",
      "model_name": "HTMLModel",
      "state": {
       "layout": "IPY_MODEL_bf0f171fc952455c9653addb1435beff",
       "style": "IPY_MODEL_5de1f66838e24b9ea5d9b48d354b8dfa",
       "value": "Analyzing the &#x27;part-00199-d65dcc0f-a3f2-4b85-8646-6d1060241a41-c000.snappy.parquet&#x27; parquet file (200/200)...: 100%"
      }
     },
     "79b512ec637249b09264523dc98ff51a": {
      "model_module": "@jupyter-widgets/base",
      "model_module_version": "2.0.0",
      "model_name": "LayoutModel",
      "state": {}
     },
     "79efc5c745684821b01247d2c06e86d9": {
      "model_module": "@jupyter-widgets/base",
      "model_module_version": "2.0.0",
      "model_name": "LayoutModel",
      "state": {}
     },
     "7bf18ca328b74c1a8462900973e339ce": {
      "model_module": "@jupyter-widgets/controls",
      "model_module_version": "2.0.0",
      "model_name": "HTMLModel",
      "state": {
       "layout": "IPY_MODEL_f57b19a8ea3a45dcb22ad2c2438301ae",
       "style": "IPY_MODEL_d9894a38911947ba952c31fb00c06256",
       "value": "Analyzing the &#x27;part-00013-905f0f53-c1cc-4af1-ad70-b2ff284788d5-c000.snappy.parquet&#x27; parquet file (13/13)...: 100%"
      }
     },
     "7bf752677cd84af88fb33d0a173a9456": {
      "model_module": "@jupyter-widgets/controls",
      "model_module_version": "2.0.0",
      "model_name": "HTMLModel",
      "state": {
       "layout": "IPY_MODEL_5feea6ab4cd7468dba0df222b7e2f161",
       "style": "IPY_MODEL_df734128b7a6465eb579cf09b8564872",
       "value": "Analyzing the &#x27;part-00199-d65dcc0f-a3f2-4b85-8646-6d1060241a41-c000.snappy.parquet&#x27; parquet file (200/200)...: 100%"
      }
     },
     "7cb6d678ef964ee291db47e28572a945": {
      "model_module": "@jupyter-widgets/controls",
      "model_module_version": "2.0.0",
      "model_name": "ProgressStyleModel",
      "state": {
       "description_width": ""
      }
     },
     "7f8b49f028c44d09b536001398f00584": {
      "model_module": "@jupyter-widgets/controls",
      "model_module_version": "2.0.0",
      "model_name": "HTMLStyleModel",
      "state": {
       "description_width": "",
       "font_size": null,
       "text_color": null
      }
     },
     "8439ad3aa448426ca37c38bedbb4200c": {
      "model_module": "@jupyter-widgets/controls",
      "model_module_version": "2.0.0",
      "model_name": "HTMLModel",
      "state": {
       "layout": "IPY_MODEL_0b5d147b10a6435f816abddd6bc9d823",
       "style": "IPY_MODEL_7f8b49f028c44d09b536001398f00584",
       "value": "Analyzing the &#x27;part-00153-54e9f989-add0-4285-ae14-37796e97a188.c000.snappy.parquet&#x27; parquet file (807/807)...: 100%"
      }
     },
     "8691be5610524016a8fd4cf092ee16c4": {
      "model_module": "@jupyter-widgets/controls",
      "model_module_version": "2.0.0",
      "model_name": "HTMLModel",
      "state": {
       "layout": "IPY_MODEL_d71a560cc349459eb06c4590398178dd",
       "style": "IPY_MODEL_411e6d20abcb48688e5d06d8f5b4b1f0",
       "value": " 1/1 [00:00&lt;00:00, 19.36it/s]"
      }
     },
     "89c25ae6bf8340a98acf812b5eb878f8": {
      "model_module": "@jupyter-widgets/controls",
      "model_module_version": "2.0.0",
      "model_name": "HTMLModel",
      "state": {
       "layout": "IPY_MODEL_79b512ec637249b09264523dc98ff51a",
       "style": "IPY_MODEL_5feb71caedee404286f585392d91dc77",
       "value": " 28/28 [00:41&lt;00:00,  1.54s/it]"
      }
     },
     "89ed03c899c640238d3af4be254015b7": {
      "model_module": "@jupyter-widgets/base",
      "model_module_version": "2.0.0",
      "model_name": "LayoutModel",
      "state": {}
     },
     "8a7bf4128b7445ef8150bad5fd05935f": {
      "model_module": "@jupyter-widgets/controls",
      "model_module_version": "2.0.0",
      "model_name": "HBoxModel",
      "state": {
       "children": [
        "IPY_MODEL_3a1406769e414804887e11bd89d01d72",
        "IPY_MODEL_ff9dfa29a7ef4359a06b2681d82b2f3a",
        "IPY_MODEL_56ba2d3adb694d8487ecccc25eed770e"
       ],
       "layout": "IPY_MODEL_50089fee181147fba9a06dc4f65a32b5"
      }
     },
     "8b019cb3859342fe8fd4e520bd73f1d5": {
      "model_module": "@jupyter-widgets/controls",
      "model_module_version": "2.0.0",
      "model_name": "ProgressStyleModel",
      "state": {
       "description_width": ""
      }
     },
     "8bcad465a4e04f7dbb829b166908328a": {
      "model_module": "@jupyter-widgets/base",
      "model_module_version": "2.0.0",
      "model_name": "LayoutModel",
      "state": {}
     },
     "8e95bd3f89a34246a8e812478d3cef5d": {
      "model_module": "@jupyter-widgets/controls",
      "model_module_version": "2.0.0",
      "model_name": "HTMLModel",
      "state": {
       "layout": "IPY_MODEL_542d6926404b4ee588937c352f039056",
       "style": "IPY_MODEL_9f2c7118a99a45dea7ec940d3ee1df97",
       "value": " 28/28 [00:38&lt;00:00,  1.65s/it]"
      }
     },
     "910345e3c6cc4157b5b4340faf52cda0": {
      "model_module": "@jupyter-widgets/base",
      "model_module_version": "2.0.0",
      "model_name": "LayoutModel",
      "state": {}
     },
     "9157bb411e634bef8e5feb804bb3f3f2": {
      "model_module": "@jupyter-widgets/base",
      "model_module_version": "2.0.0",
      "model_name": "LayoutModel",
      "state": {}
     },
     "94d2eb0dd57b49c285f79ca66d4465c3": {
      "model_module": "@jupyter-widgets/controls",
      "model_module_version": "2.0.0",
      "model_name": "HBoxModel",
      "state": {
       "children": [
        "IPY_MODEL_d00ba61ec2b74e22a718ecb881cb67b4",
        "IPY_MODEL_761704eddf7a471782a916ac5c731201",
        "IPY_MODEL_5f95881c3d0f491587d7dbde8f3282c2"
       ],
       "layout": "IPY_MODEL_910345e3c6cc4157b5b4340faf52cda0"
      }
     },
     "9658d2ad79c94b53a71c45e838cb0746": {
      "model_module": "@jupyter-widgets/base",
      "model_module_version": "2.0.0",
      "model_name": "LayoutModel",
      "state": {}
     },
     "98b303bb66e84c6d95fa9a28c73bb026": {
      "model_module": "@jupyter-widgets/controls",
      "model_module_version": "2.0.0",
      "model_name": "HTMLStyleModel",
      "state": {
       "description_width": "",
       "font_size": null,
       "text_color": null
      }
     },
     "9942d3d69e574899853b6595eb61fb56": {
      "model_module": "@jupyter-widgets/controls",
      "model_module_version": "2.0.0",
      "model_name": "HTMLModel",
      "state": {
       "layout": "IPY_MODEL_9157bb411e634bef8e5feb804bb3f3f2",
       "style": "IPY_MODEL_3ac4e8fd9c3e46d6820fc623a1d94308",
       "value": " 13/13 [00:12&lt;00:00,  1.24s/it]"
      }
     },
     "9aa1dc15305c4213ae50d9913f1d04cf": {
      "model_module": "@jupyter-widgets/base",
      "model_module_version": "2.0.0",
      "model_name": "LayoutModel",
      "state": {}
     },
     "9c80b16105ec4b0f892b304aa4044e50": {
      "model_module": "@jupyter-widgets/controls",
      "model_module_version": "2.0.0",
      "model_name": "FloatProgressModel",
      "state": {
       "bar_style": "success",
       "layout": "IPY_MODEL_0e546b8eb464488994c5cf54f3ed728e",
       "max": 807,
       "style": "IPY_MODEL_05e025ff01974892ab5055da4c96b3e4",
       "value": 807
      }
     },
     "9f2c7118a99a45dea7ec940d3ee1df97": {
      "model_module": "@jupyter-widgets/controls",
      "model_module_version": "2.0.0",
      "model_name": "HTMLStyleModel",
      "state": {
       "description_width": "",
       "font_size": null,
       "text_color": null
      }
     },
     "a047602bfd9343c6b422e758c3a5ce11": {
      "model_module": "@jupyter-widgets/base",
      "model_module_version": "2.0.0",
      "model_name": "LayoutModel",
      "state": {}
     },
     "a2d6bce87e3745a5a3e875ee5fd78b1a": {
      "model_module": "@jupyter-widgets/base",
      "model_module_version": "2.0.0",
      "model_name": "LayoutModel",
      "state": {}
     },
     "a4e1dc9d4de64d04aa113343d76a3021": {
      "model_module": "@jupyter-widgets/controls",
      "model_module_version": "2.0.0",
      "model_name": "HTMLStyleModel",
      "state": {
       "description_width": "",
       "font_size": null,
       "text_color": null
      }
     },
     "a647ba5534e14ac692f002f02e50e320": {
      "model_module": "@jupyter-widgets/base",
      "model_module_version": "2.0.0",
      "model_name": "LayoutModel",
      "state": {}
     },
     "a6986ea617794dbdb63f8e49d66af30e": {
      "model_module": "@jupyter-widgets/controls",
      "model_module_version": "2.0.0",
      "model_name": "HTMLStyleModel",
      "state": {
       "description_width": "",
       "font_size": null,
       "text_color": null
      }
     },
     "ad0b90607c84424b8957abe669fc192e": {
      "model_module": "@jupyter-widgets/controls",
      "model_module_version": "2.0.0",
      "model_name": "FloatProgressModel",
      "state": {
       "bar_style": "success",
       "layout": "IPY_MODEL_e144b561b6224ea2aec2aa3f8d7c6044",
       "max": 1,
       "style": "IPY_MODEL_7cb6d678ef964ee291db47e28572a945",
       "value": 1
      }
     },
     "ae0e6974127c4afdbf7ba6e13636a5a7": {
      "model_module": "@jupyter-widgets/controls",
      "model_module_version": "2.0.0",
      "model_name": "ProgressStyleModel",
      "state": {
       "description_width": ""
      }
     },
     "af8313cd277548c4b4ab9c901572ce55": {
      "model_module": "@jupyter-widgets/controls",
      "model_module_version": "2.0.0",
      "model_name": "HTMLStyleModel",
      "state": {
       "description_width": "",
       "font_size": null,
       "text_color": null
      }
     },
     "b372eb148e3f48ac890bd5233094f814": {
      "model_module": "@jupyter-widgets/controls",
      "model_module_version": "2.0.0",
      "model_name": "ProgressStyleModel",
      "state": {
       "description_width": ""
      }
     },
     "b4e005aef0854378b12d275d684fcc8f": {
      "model_module": "@jupyter-widgets/controls",
      "model_module_version": "2.0.0",
      "model_name": "HBoxModel",
      "state": {
       "children": [
        "IPY_MODEL_8439ad3aa448426ca37c38bedbb4200c",
        "IPY_MODEL_21dee20d945b45e7a24ccbe7c98bf249",
        "IPY_MODEL_f1ea246a5eaf4e2aa9eefd5075c86ea1"
       ],
       "layout": "IPY_MODEL_9658d2ad79c94b53a71c45e838cb0746"
      }
     },
     "b69e07837fc04e63aaedb61b64471a9f": {
      "model_module": "@jupyter-widgets/base",
      "model_module_version": "2.0.0",
      "model_name": "LayoutModel",
      "state": {}
     },
     "b8019ca9d23242699bb981edcca24269": {
      "model_module": "@jupyter-widgets/controls",
      "model_module_version": "2.0.0",
      "model_name": "FloatProgressModel",
      "state": {
       "bar_style": "success",
       "layout": "IPY_MODEL_fb9427ea289546bab677d03cb9a63576",
       "max": 1,
       "style": "IPY_MODEL_734856b803b24241ac39421a9c6291ee",
       "value": 1
      }
     },
     "b9d0caf55e344d3a8558369e573f49ec": {
      "model_module": "@jupyter-widgets/controls",
      "model_module_version": "2.0.0",
      "model_name": "HTMLStyleModel",
      "state": {
       "description_width": "",
       "font_size": null,
       "text_color": null
      }
     },
     "ba378fdbf50940e498f5a934b3629d16": {
      "model_module": "@jupyter-widgets/base",
      "model_module_version": "2.0.0",
      "model_name": "LayoutModel",
      "state": {}
     },
     "bbbbb5aed33c4885aee1079afd471a6c": {
      "model_module": "@jupyter-widgets/controls",
      "model_module_version": "2.0.0",
      "model_name": "ProgressStyleModel",
      "state": {
       "description_width": ""
      }
     },
     "bc65be7e90c54be1879f6ca8c8289fb7": {
      "model_module": "@jupyter-widgets/controls",
      "model_module_version": "2.0.0",
      "model_name": "HTMLModel",
      "state": {
       "layout": "IPY_MODEL_9aa1dc15305c4213ae50d9913f1d04cf",
       "style": "IPY_MODEL_5be7641333bb4170b12788e9a8234c31",
       "value": "Analyzing the &#x27;part-00013-905f0f53-c1cc-4af1-ad70-b2ff284788d5-c000.snappy.parquet&#x27; parquet file (13/13)...: 100%"
      }
     },
     "bd3a01ebe0e749c4af50d46f9e763f93": {
      "model_module": "@jupyter-widgets/base",
      "model_module_version": "2.0.0",
      "model_name": "LayoutModel",
      "state": {}
     },
     "bf0f171fc952455c9653addb1435beff": {
      "model_module": "@jupyter-widgets/base",
      "model_module_version": "2.0.0",
      "model_name": "LayoutModel",
      "state": {}
     },
     "bf11bfd0b6624bc2b256e552e8ef58cc": {
      "model_module": "@jupyter-widgets/controls",
      "model_module_version": "2.0.0",
      "model_name": "HBoxModel",
      "state": {
       "children": [
        "IPY_MODEL_7bf18ca328b74c1a8462900973e339ce",
        "IPY_MODEL_ce8daf173b374008bed1cf2387dfc888",
        "IPY_MODEL_5631a4561213495da745c3f450459d26"
       ],
       "layout": "IPY_MODEL_e7a3caf8622645128f5aa1c99d822eb6"
      }
     },
     "bf62b547b5de48beb4e99008bcc4467b": {
      "model_module": "@jupyter-widgets/base",
      "model_module_version": "2.0.0",
      "model_name": "LayoutModel",
      "state": {}
     },
     "c06bf41232294406b8b52639a3926726": {
      "model_module": "@jupyter-widgets/base",
      "model_module_version": "2.0.0",
      "model_name": "LayoutModel",
      "state": {}
     },
     "c2ddbfa340b7462ca6ca976ca18f34a0": {
      "model_module": "@jupyter-widgets/controls",
      "model_module_version": "2.0.0",
      "model_name": "FloatProgressModel",
      "state": {
       "bar_style": "success",
       "layout": "IPY_MODEL_a047602bfd9343c6b422e758c3a5ce11",
       "max": 13,
       "style": "IPY_MODEL_d56bfcf6acad40878de0910ed8ebf156",
       "value": 13
      }
     },
     "c300223312874ccca04141c50c7a2099": {
      "model_module": "@jupyter-widgets/base",
      "model_module_version": "2.0.0",
      "model_name": "LayoutModel",
      "state": {}
     },
     "c3d98200e3624ff0adbccd729a6da11b": {
      "model_module": "@jupyter-widgets/base",
      "model_module_version": "2.0.0",
      "model_name": "LayoutModel",
      "state": {}
     },
     "c555f95bcafd412b837d00cbe12e1445": {
      "model_module": "@jupyter-widgets/controls",
      "model_module_version": "2.0.0",
      "model_name": "HBoxModel",
      "state": {
       "children": [
        "IPY_MODEL_652c27d0967a412d8791ffc431ad6373",
        "IPY_MODEL_29575de0a8e045a48aab33ecfe0e7a79",
        "IPY_MODEL_89c25ae6bf8340a98acf812b5eb878f8"
       ],
       "layout": "IPY_MODEL_2b251d0b54684055b9f2f5576624b331"
      }
     },
     "c6671a8523d3483fb4ffa0ba582500f1": {
      "model_module": "@jupyter-widgets/controls",
      "model_module_version": "2.0.0",
      "model_name": "HBoxModel",
      "state": {
       "children": [
        "IPY_MODEL_7bf752677cd84af88fb33d0a173a9456",
        "IPY_MODEL_f469a37ff58e4f02bc124fd75f3f5fcc",
        "IPY_MODEL_573e4d2a6d3a4637af7f709e805b1c31"
       ],
       "layout": "IPY_MODEL_0e5f8e8806844e7f8401ccac4cd2265c"
      }
     },
     "c759448dc263487ca407ff910360af01": {
      "model_module": "@jupyter-widgets/controls",
      "model_module_version": "2.0.0",
      "model_name": "HTMLStyleModel",
      "state": {
       "description_width": "",
       "font_size": null,
       "text_color": null
      }
     },
     "c8ce2e33900f4aeb8d61602813f46a45": {
      "model_module": "@jupyter-widgets/controls",
      "model_module_version": "2.0.0",
      "model_name": "HTMLModel",
      "state": {
       "layout": "IPY_MODEL_fc3b6b50e10e4230849ac2702c755566",
       "style": "IPY_MODEL_569ecbe496b14c168263e6c820259eab",
       "value": "Analyzing the &#x27;part-00000-9670e9cd-2e85-490e-92dc-d472b75d96f7-c000.snappy.parquet&#x27; parquet file (1/1)...: 100%"
      }
     },
     "cadf7243a0e7491d98d57d2201cd50e9": {
      "model_module": "@jupyter-widgets/controls",
      "model_module_version": "2.0.0",
      "model_name": "HTMLModel",
      "state": {
       "layout": "IPY_MODEL_ea50cec8cdd74624aad704b333a86eb7",
       "style": "IPY_MODEL_639e235b0149430892b95a4784ccf2d1",
       "value": " 13/13 [00:14&lt;00:00,  1.28s/it]"
      }
     },
     "ce8daf173b374008bed1cf2387dfc888": {
      "model_module": "@jupyter-widgets/controls",
      "model_module_version": "2.0.0",
      "model_name": "FloatProgressModel",
      "state": {
       "bar_style": "success",
       "layout": "IPY_MODEL_213d93611c694f71bd465e582c77dbac",
       "max": 13,
       "style": "IPY_MODEL_8b019cb3859342fe8fd4e520bd73f1d5",
       "value": 13
      }
     },
     "d007edf53a3e4f869940b72282668eea": {
      "model_module": "@jupyter-widgets/controls",
      "model_module_version": "2.0.0",
      "model_name": "FloatProgressModel",
      "state": {
       "bar_style": "success",
       "layout": "IPY_MODEL_89ed03c899c640238d3af4be254015b7",
       "max": 200,
       "style": "IPY_MODEL_6c75d2eb3fc54ea6a20d6d657c104111",
       "value": 200
      }
     },
     "d00ba61ec2b74e22a718ecb881cb67b4": {
      "model_module": "@jupyter-widgets/controls",
      "model_module_version": "2.0.0",
      "model_name": "HTMLModel",
      "state": {
       "layout": "IPY_MODEL_ec90ba6936d04b27959f1feda64beb59",
       "style": "IPY_MODEL_424297958ddb4280a89987bf245872cb",
       "value": "Analyzing the &#x27;part-00153-54e9f989-add0-4285-ae14-37796e97a188.c000.snappy.parquet&#x27; parquet file (807/807)...: 100%"
      }
     },
     "d056d5995bf84b0998a0a901d6668cd5": {
      "model_module": "@jupyter-widgets/controls",
      "model_module_version": "2.0.0",
      "model_name": "HBoxModel",
      "state": {
       "children": [
        "IPY_MODEL_ffda8d4d89e74d21b0fba97d0fb5eca9",
        "IPY_MODEL_2d65c70c29264bbeb56c74d8ad62a26d",
        "IPY_MODEL_9942d3d69e574899853b6595eb61fb56"
       ],
       "layout": "IPY_MODEL_43a13a3d41c54a449e2effbc4ea7e2f4"
      }
     },
     "d0779a813336479d9a710cbefc1767c8": {
      "model_module": "@jupyter-widgets/controls",
      "model_module_version": "2.0.0",
      "model_name": "HBoxModel",
      "state": {
       "children": [
        "IPY_MODEL_27302ebc524f41afa57cad92765fb6fe",
        "IPY_MODEL_d97f530eb66d4376bf25e4fdaeab92c8",
        "IPY_MODEL_8691be5610524016a8fd4cf092ee16c4"
       ],
       "layout": "IPY_MODEL_8bcad465a4e04f7dbb829b166908328a"
      }
     },
     "d5114db9e35b43828b8eae0e5ac79e76": {
      "model_module": "@jupyter-widgets/controls",
      "model_module_version": "2.0.0",
      "model_name": "HTMLModel",
      "state": {
       "layout": "IPY_MODEL_1442a2da2309449fbefa4b69951a185b",
       "style": "IPY_MODEL_c759448dc263487ca407ff910360af01",
       "value": " 1/1 [00:00&lt;00:00, 22.34it/s]"
      }
     },
     "d557eef2745c478e96b7e2a278d4a9ba": {
      "model_module": "@jupyter-widgets/base",
      "model_module_version": "2.0.0",
      "model_name": "LayoutModel",
      "state": {}
     },
     "d56bfcf6acad40878de0910ed8ebf156": {
      "model_module": "@jupyter-widgets/controls",
      "model_module_version": "2.0.0",
      "model_name": "ProgressStyleModel",
      "state": {
       "description_width": ""
      }
     },
     "d703aa35c33641838de50317c2dd3d5e": {
      "model_module": "@jupyter-widgets/controls",
      "model_module_version": "2.0.0",
      "model_name": "HBoxModel",
      "state": {
       "children": [
        "IPY_MODEL_07af22c462094d28996c226ece799b8a",
        "IPY_MODEL_20be922de24e4f56bf4f37e04c86da72",
        "IPY_MODEL_cadf7243a0e7491d98d57d2201cd50e9"
       ],
       "layout": "IPY_MODEL_41626f106eca4849ad1d9d95da719356"
      }
     },
     "d71a560cc349459eb06c4590398178dd": {
      "model_module": "@jupyter-widgets/base",
      "model_module_version": "2.0.0",
      "model_name": "LayoutModel",
      "state": {}
     },
     "d85a4d7d838a457983b8cf563643c085": {
      "model_module": "@jupyter-widgets/controls",
      "model_module_version": "2.0.0",
      "model_name": "HTMLModel",
      "state": {
       "layout": "IPY_MODEL_f13c15e2594540f3990bf2b54ebad9e0",
       "style": "IPY_MODEL_4e941d5017fd48a59128165556040aac",
       "value": "Analyzing the &#x27;part-00000-9670e9cd-2e85-490e-92dc-d472b75d96f7-c000.snappy.parquet&#x27; parquet file (1/1)...: 100%"
      }
     },
     "d931862cfec946d0a5d1ae8e4a9280f2": {
      "model_module": "@jupyter-widgets/base",
      "model_module_version": "2.0.0",
      "model_name": "LayoutModel",
      "state": {}
     },
     "d97f530eb66d4376bf25e4fdaeab92c8": {
      "model_module": "@jupyter-widgets/controls",
      "model_module_version": "2.0.0",
      "model_name": "FloatProgressModel",
      "state": {
       "bar_style": "success",
       "layout": "IPY_MODEL_fa17addc1144433faaaf5c9d91bacb69",
       "max": 1,
       "style": "IPY_MODEL_bbbbb5aed33c4885aee1079afd471a6c",
       "value": 1
      }
     },
     "d9894a38911947ba952c31fb00c06256": {
      "model_module": "@jupyter-widgets/controls",
      "model_module_version": "2.0.0",
      "model_name": "HTMLStyleModel",
      "state": {
       "description_width": "",
       "font_size": null,
       "text_color": null
      }
     },
     "da42550dc38d45c89164dfe3f05932c3": {
      "model_module": "@jupyter-widgets/base",
      "model_module_version": "2.0.0",
      "model_name": "LayoutModel",
      "state": {}
     },
     "db982cae3cd64a9a85d05891a673bf72": {
      "model_module": "@jupyter-widgets/controls",
      "model_module_version": "2.0.0",
      "model_name": "HTMLStyleModel",
      "state": {
       "description_width": "",
       "font_size": null,
       "text_color": null
      }
     },
     "dc4209fbe70046e1ae2110e5278adc6d": {
      "model_module": "@jupyter-widgets/controls",
      "model_module_version": "2.0.0",
      "model_name": "HTMLModel",
      "state": {
       "layout": "IPY_MODEL_6450225a61254485990edf816645e2df",
       "style": "IPY_MODEL_6e4bac8e0ffc4be6837b44e4af5b4acc",
       "value": " 13/13 [00:13&lt;00:00,  1.23s/it]"
      }
     },
     "df0819c98a16437d934000d5898db824": {
      "model_module": "@jupyter-widgets/base",
      "model_module_version": "2.0.0",
      "model_name": "LayoutModel",
      "state": {}
     },
     "df734128b7a6465eb579cf09b8564872": {
      "model_module": "@jupyter-widgets/controls",
      "model_module_version": "2.0.0",
      "model_name": "HTMLStyleModel",
      "state": {
       "description_width": "",
       "font_size": null,
       "text_color": null
      }
     },
     "dfe81af47eb74041a23b8f3cf95097c6": {
      "model_module": "@jupyter-widgets/controls",
      "model_module_version": "2.0.0",
      "model_name": "HTMLModel",
      "state": {
       "layout": "IPY_MODEL_183f4892efec47d4bcf4bbc94e447de4",
       "style": "IPY_MODEL_db982cae3cd64a9a85d05891a673bf72",
       "value": " 807/807 [01:54&lt;00:00,  5.89it/s]"
      }
     },
     "e144b561b6224ea2aec2aa3f8d7c6044": {
      "model_module": "@jupyter-widgets/base",
      "model_module_version": "2.0.0",
      "model_name": "LayoutModel",
      "state": {}
     },
     "e21502956de240608b355e7a1c3c8508": {
      "model_module": "@jupyter-widgets/base",
      "model_module_version": "2.0.0",
      "model_name": "LayoutModel",
      "state": {}
     },
     "e40c90b157f349a0832b96cdc7345f30": {
      "model_module": "@jupyter-widgets/base",
      "model_module_version": "2.0.0",
      "model_name": "LayoutModel",
      "state": {}
     },
     "e7a3caf8622645128f5aa1c99d822eb6": {
      "model_module": "@jupyter-widgets/base",
      "model_module_version": "2.0.0",
      "model_name": "LayoutModel",
      "state": {}
     },
     "ea50cec8cdd74624aad704b333a86eb7": {
      "model_module": "@jupyter-widgets/base",
      "model_module_version": "2.0.0",
      "model_name": "LayoutModel",
      "state": {}
     },
     "eaca2c3276204af2a4c72a96892f4190": {
      "model_module": "@jupyter-widgets/base",
      "model_module_version": "2.0.0",
      "model_name": "LayoutModel",
      "state": {}
     },
     "ec90ba6936d04b27959f1feda64beb59": {
      "model_module": "@jupyter-widgets/base",
      "model_module_version": "2.0.0",
      "model_name": "LayoutModel",
      "state": {}
     },
     "f13c15e2594540f3990bf2b54ebad9e0": {
      "model_module": "@jupyter-widgets/base",
      "model_module_version": "2.0.0",
      "model_name": "LayoutModel",
      "state": {}
     },
     "f1ea246a5eaf4e2aa9eefd5075c86ea1": {
      "model_module": "@jupyter-widgets/controls",
      "model_module_version": "2.0.0",
      "model_name": "HTMLModel",
      "state": {
       "layout": "IPY_MODEL_3a7e379a72ec46878d04b172b4f74f2e",
       "style": "IPY_MODEL_306af816a0be4735a141857695c1a312",
       "value": " 807/807 [02:00&lt;00:00,  5.82it/s]"
      }
     },
     "f469a37ff58e4f02bc124fd75f3f5fcc": {
      "model_module": "@jupyter-widgets/controls",
      "model_module_version": "2.0.0",
      "model_name": "FloatProgressModel",
      "state": {
       "bar_style": "success",
       "layout": "IPY_MODEL_da42550dc38d45c89164dfe3f05932c3",
       "max": 200,
       "style": "IPY_MODEL_150f6004d04749fa9e01cb95a0d77ca6",
       "value": 200
      }
     },
     "f4f103aecacd4d3cb3a43b3fed235080": {
      "model_module": "@jupyter-widgets/base",
      "model_module_version": "2.0.0",
      "model_name": "LayoutModel",
      "state": {}
     },
     "f5022e498f4741b0ac6cb016fc0c3127": {
      "model_module": "@jupyter-widgets/controls",
      "model_module_version": "2.0.0",
      "model_name": "HTMLModel",
      "state": {
       "layout": "IPY_MODEL_34a9bda8c46b4bb48e264582eb53980f",
       "style": "IPY_MODEL_7553cdcdb7df4b19b1702620613e65f7",
       "value": "Analyzing the &#x27;part-00153-54e9f989-add0-4285-ae14-37796e97a188.c000.snappy.parquet&#x27; parquet file (807/807)...: 100%"
      }
     },
     "f57b19a8ea3a45dcb22ad2c2438301ae": {
      "model_module": "@jupyter-widgets/base",
      "model_module_version": "2.0.0",
      "model_name": "LayoutModel",
      "state": {}
     },
     "fa17addc1144433faaaf5c9d91bacb69": {
      "model_module": "@jupyter-widgets/base",
      "model_module_version": "2.0.0",
      "model_name": "LayoutModel",
      "state": {}
     },
     "fb45cde633e94beabe52ba5160ddcdee": {
      "model_module": "@jupyter-widgets/controls",
      "model_module_version": "2.0.0",
      "model_name": "HTMLStyleModel",
      "state": {
       "description_width": "",
       "font_size": null,
       "text_color": null
      }
     },
     "fb9427ea289546bab677d03cb9a63576": {
      "model_module": "@jupyter-widgets/base",
      "model_module_version": "2.0.0",
      "model_name": "LayoutModel",
      "state": {}
     },
     "fc3b6b50e10e4230849ac2702c755566": {
      "model_module": "@jupyter-widgets/base",
      "model_module_version": "2.0.0",
      "model_name": "LayoutModel",
      "state": {}
     },
     "fd6f5f45595b40a8b604803d06070b18": {
      "model_module": "@jupyter-widgets/controls",
      "model_module_version": "2.0.0",
      "model_name": "FloatProgressModel",
      "state": {
       "bar_style": "success",
       "layout": "IPY_MODEL_c300223312874ccca04141c50c7a2099",
       "max": 28,
       "style": "IPY_MODEL_6202c6c953234a9fa7c092711c8bc11a",
       "value": 28
      }
     },
     "fe0f6ad8a59e4373bf90068d5ab020d5": {
      "model_module": "@jupyter-widgets/controls",
      "model_module_version": "2.0.0",
      "model_name": "HTMLStyleModel",
      "state": {
       "description_width": "",
       "font_size": null,
       "text_color": null
      }
     },
     "ff9dfa29a7ef4359a06b2681d82b2f3a": {
      "model_module": "@jupyter-widgets/controls",
      "model_module_version": "2.0.0",
      "model_name": "FloatProgressModel",
      "state": {
       "bar_style": "success",
       "layout": "IPY_MODEL_e40c90b157f349a0832b96cdc7345f30",
       "max": 200,
       "style": "IPY_MODEL_1180084d4a9b4cf6ad7ccde32d2070d3",
       "value": 200
      }
     },
     "ffda8d4d89e74d21b0fba97d0fb5eca9": {
      "model_module": "@jupyter-widgets/controls",
      "model_module_version": "2.0.0",
      "model_name": "HTMLModel",
      "state": {
       "layout": "IPY_MODEL_6dbc0b53b9684ecdb8e43e39ca41004d",
       "style": "IPY_MODEL_5a52aad5f736473395c97168160491c6",
       "value": "Analyzing the &#x27;part-00013-905f0f53-c1cc-4af1-ad70-b2ff284788d5-c000.snappy.parquet&#x27; parquet file (13/13)...: 100%"
      }
     }
    },
    "version_major": 2,
    "version_minor": 0
   }
  }
 },
 "nbformat": 4,
 "nbformat_minor": 5
}
