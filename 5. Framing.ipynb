{
 "cells": [
  {
   "cell_type": "markdown",
   "id": "19aa87f5",
   "metadata": {},
   "source": [
    "# Lab 5: Framing"
   ]
  },
  {
   "cell_type": "markdown",
   "id": "ef57c0b5-52a1-4a68-816b-a2273b66e688",
   "metadata": {
    "jp-MarkdownHeadingCollapsed": true,
    "microsoft": {
     "language": "python",
     "language_group": "synapse_pyspark"
    },
    "nteract": {
     "transient": {
      "deleting": false
     }
    }
   },
   "source": [
    "## 1. Install Semantic Link Labs Python Library\n",
    "This step installs Semantic Link Library which is a Python library design for use in Microsoft Fabric Notebooks.  The library extends the capabilities of [Semantic Link](https://learn.microsoft.com/en-us/fabric/data-science/semantic-link-overview) offering additional functionalities to seamlessly integrate alongside it."
   ]
  },
  {
   "cell_type": "code",
   "execution_count": null,
   "id": "21cae2d1-1076-45ce-8653-885e75cb12f4",
   "metadata": {
    "microsoft": {
     "language": "python",
     "language_group": "synapse_pyspark"
    }
   },
   "outputs": [],
   "source": [
    "%pip install -q --disable-pip-version-check semantic-link-labs==0.10.1"
   ]
  },
  {
   "cell_type": "markdown",
   "id": "782cf5f0-e43b-4875-a665-f5b69e8858f2",
   "metadata": {
    "jp-MarkdownHeadingCollapsed": true,
    "microsoft": {
     "language": "python",
     "language_group": "synapse_pyspark"
    },
    "nteract": {
     "transient": {
      "deleting": false
     }
    }
   },
   "source": [
    "## 2. Install Python Libraries\n",
    "This step does the following:\n",
    "- Sets up libraries that will be used iater in the script for various functions related to data processing, manipulation and handling\n",
    "- Creates a populates the following variables\n",
    "    - LakehouseName - Used as the name for the Lakehouse that will be created later in this script\n",
    "    - SemanticModelName = Used as the  name for the Semantic Model that will be created later in this script"
   ]
  },
  {
   "cell_type": "code",
   "execution_count": null,
   "id": "cfe88dfa-77dc-4763-b330-40921e35ab32",
   "metadata": {
    "microsoft": {
     "language": "python",
     "language_group": "synapse_pyspark"
    }
   },
   "outputs": [],
   "source": [
    "import sempy_labs as labs\n",
    "import time\n",
    "import pandas\n",
    "\n",
    "LakehouseName = \"AdventureWorks\"\n",
    "lakehouses = labs.list_lakehouses()[\"Lakehouse Name\"]\n",
    "for l in lakehouses:\n",
    "    if l.startswith(\"Adventure\"):\n",
    "        LakehouseName = l\n",
    "\n",
    "SemanticModelName = f\"{LakehouseName}_model\"\n",
    "workspaceId = notebookutils.lakehouse.getWithProperties(LakehouseName)[\"workspaceId\"]\n",
    "lakehouseId = notebookutils.lakehouse.getWithProperties(LakehouseName)[\"id\"]"
   ]
  },
  {
   "cell_type": "markdown",
   "id": "be34fb9e",
   "metadata": {},
   "source": [
    "## 4. Load libraries to help generate a Power BI report"
   ]
  },
  {
   "cell_type": "code",
   "execution_count": null,
   "id": "1462661c",
   "metadata": {},
   "outputs": [],
   "source": [
    "from sempy_labs._helper_functions import (\n",
    "    resolve_report_id,\n",
    "    format_dax_object_name,\n",
    "    resolve_dataset_from_report,\n",
    "    _conv_b64,\n",
    "    _extract_json,\n",
    "    _add_part,\n",
    "    _decode_b64,\n",
    "    resolve_workspace_name_and_id,\n",
    "    _update_dataframe_datatypes,\n",
    "    _base_api,\n",
    "    _create_dataframe,\n",
    ")\n",
    "from typing import Optional, List\n",
    "import pandas as pd\n",
    "import json\n",
    "import base64\n",
    "from uuid import UUID\n",
    "from sempy._utils._log import log\n",
    "import sempy_labs._icons as icons\n",
    "import sempy_labs.report._report_helper as helper\n",
    "from sempy_labs._model_dependencies import get_measure_dependencies\n",
    "from jsonpath_ng.ext import parse\n",
    "import warnings\n",
    "import requests"
   ]
  },
  {
   "cell_type": "markdown",
   "id": "28a5e85a",
   "metadata": {},
   "source": [
    "## 5. Create Simple Power BI Report to show data modification changes "
   ]
  },
  {
   "cell_type": "code",
   "execution_count": null,
   "id": "4673d8bc",
   "metadata": {},
   "outputs": [],
   "source": [
    "report_name=\"Simple Report\"\n",
    "\n",
    "pbi_report:dict = {}\n",
    "pbi_report['config'] = \"\"\"{\n",
    "        \"version\": \"5.37\",\n",
    "        \"themeCollection\": {},\n",
    "        \"activeSectionIndex\": 0,\n",
    "        \"linguisticSchemaSyncVersion\": 0,\n",
    "        \"objects\": {\n",
    "            \"outspacePane\": [\n",
    "                {\n",
    "                    \"properties\": {\n",
    "                        \"expanded\": {\n",
    "                            \"expr\": {\n",
    "                                \"Literal\": {\n",
    "                                    \"Value\": \"false\"\n",
    "                                }\n",
    "                            }\n",
    "                        }\n",
    "                    }\n",
    "                }\n",
    "            ]\n",
    "        }\n",
    "    }\"\"\"\n",
    "pbi_report['layoutOptimization']=0\n",
    "pbi_report['resourcePackages'] = [{'resourcePackage': {'disabled': False, 'items': [{'name': 'CY24SU10', 'path': 'BaseThemes/CY24SU10.json', 'type': 202}], 'name': 'SharedResources', 'type': 2}}]\n",
    "pbi_report['sections'] = [\n",
    "    {'config': '{}', \n",
    "    'displayName': 'Page 1', \n",
    "    'displayOption': 1, \n",
    "    'filters': '[]', \n",
    "    'height': 300.0, \n",
    "    'width': 600.0,\n",
    "    'name': 'a4c1ed461808909ae820', \n",
    "    'visualContainers':\n",
    "        [\n",
    "            {'config': '''{\n",
    "                        \"name\": \"Matrix\",\n",
    "                        \"layouts\": [\n",
    "                            {\n",
    "                                \"id\": 0,\n",
    "                                \"position\": {\n",
    "                                    \"x\": 310,\n",
    "                                    \"y\": 30,\n",
    "                                    \"z\": 1000,\n",
    "                                    \"width\": 253,\n",
    "                                    \"height\": 202\n",
    "                                }\n",
    "                            }\n",
    "                        ],\n",
    "                        \"singleVisual\": {\n",
    "                            \"visualType\": \"tableEx\",\n",
    "                            \"projections\": {\n",
    "                                \"Values\": [\n",
    "                                    {\n",
    "                                        \"queryRef\": \"DimDate.Month\"\n",
    "                                    },\n",
    "                                    {\n",
    "                                        \"queryRef\": \"Sum(FactInternetSales.SalesAmount)\"\n",
    "                                    },\n",
    "                                    {\n",
    "                                        \"queryRef\": \"Sum(FactInternetSales.DiscountAmount)\"\n",
    "                                    }\n",
    "                                ]\n",
    "                            },\n",
    "                            \"prototypeQuery\": {\n",
    "                                \"Version\": 2,\n",
    "                                \"From\": [\n",
    "                                    {\n",
    "                                        \"Name\": \"d\",\n",
    "                                        \"Entity\": \"DimDate\",\n",
    "                                        \"Type\": 0\n",
    "                                    },\n",
    "                                    {\n",
    "                                        \"Name\": \"f\",\n",
    "                                        \"Entity\": \"FactInternetSales\",\n",
    "                                        \"Type\": 0\n",
    "                                    }\n",
    "                                ],\n",
    "                                \"Select\": [\n",
    "                                    {\n",
    "                                        \"Column\": {\n",
    "                                            \"Expression\": {\n",
    "                                                \"SourceRef\": {\n",
    "                                                    \"Source\": \"d\"\n",
    "                                                }\n",
    "                                            },\n",
    "                                            \"Property\": \"Month\"\n",
    "                                        },\n",
    "                                        \"Name\": \"DimDate.Month\",\n",
    "                                        \"NativeReferenceName\": \"Month\"\n",
    "                                    },\n",
    "                                    {\n",
    "                                        \"Aggregation\": {\n",
    "                                            \"Expression\": {\n",
    "                                                \"Column\": {\n",
    "                                                    \"Expression\": {\n",
    "                                                        \"SourceRef\": {\n",
    "                                                            \"Source\": \"f\"\n",
    "                                                        }\n",
    "                                                    },\n",
    "                                                    \"Property\": \"SalesAmount\"\n",
    "                                                }\n",
    "                                            },\n",
    "                                            \"Function\": 0\n",
    "                                        },\n",
    "                                        \"Name\": \"Sum(FactInternetSales.SalesAmount)\",\n",
    "                                        \"NativeReferenceName\": \"Sum of SalesAmount\"\n",
    "                                    },\n",
    "                                    {\n",
    "                                        \"Aggregation\": {\n",
    "                                            \"Expression\": {\n",
    "                                                \"Column\": {\n",
    "                                                    \"Expression\": {\n",
    "                                                        \"SourceRef\": {\n",
    "                                                            \"Source\": \"f\"\n",
    "                                                        }\n",
    "                                                    },\n",
    "                                                    \"Property\": \"DiscountAmount\"\n",
    "                                                }\n",
    "                                            },\n",
    "                                            \"Function\": 0\n",
    "                                        },\n",
    "                                        \"Name\": \"Sum(FactInternetSales.DiscountAmount)\",\n",
    "                                        \"NativeReferenceName\": \"Discount\"\n",
    "                                    }\n",
    "                                ]\n",
    "                            },\n",
    "                            \"columnProperties\": {\n",
    "                                \"Sum(FactInternetSales.DiscountAmount)\": {\n",
    "                                    \"displayName\": \"Discount\"\n",
    "                                }\n",
    "                            },\n",
    "                            \"drillFilterOtherVisuals\": true,\n",
    "                            \"vcObjects\": {\n",
    "                                \"dropShadow\": [\n",
    "                                    {\n",
    "                                        \"properties\": {\n",
    "                                            \"show\": {\n",
    "                                                \"expr\": {\n",
    "                                                    \"Literal\": {\n",
    "                                                        \"Value\": \"true\"\n",
    "                                                    }\n",
    "                                                }\n",
    "                                            }\n",
    "                                        }\n",
    "                                    }\n",
    "                                ]\n",
    "                            }\n",
    "                        }\n",
    "                    }''', 'filters': '[]', 'height': 202.46, 'width': 215.11, 'x': 319.67, 'y': 30.63, 'z': 1.0\n",
    "                },\n",
    "            {'config': \n",
    "                    '''{\n",
    "                        \"name\":\"Card\",\n",
    "                        \"layouts\":[\n",
    "                            {\n",
    "                            \"id\":0,\n",
    "                            \"position\":{\"x\":10,\"y\":30,\"z\":0,\"width\":238,\"height\":201}}\n",
    "                            ],\n",
    "                        \"singleVisual\":{\"visualType\":\"card\",\"projections\":{\"Values\":[{\"queryRef\":\"FactInternetSales.Count of Sales\"}]},\n",
    "\n",
    "\n",
    "                            \"prototypeQuery\": {\n",
    "                                \"Version\": 2,\n",
    "                                \"From\": [\n",
    "                                    {\n",
    "                                        \"Name\": \"f\",\n",
    "                                        \"Entity\": \"FactInternetSales\",\n",
    "                                        \"Type\": 0\n",
    "                                    }\n",
    "                                ],\n",
    "                                \"Select\": [\n",
    "                                    {\n",
    "                                        \"Measure\": {\n",
    "                                            \"Expression\": {\n",
    "                                                \"SourceRef\": {\n",
    "                                                    \"Source\": \"f\"\n",
    "                                                }\n",
    "                                            },\n",
    "                                            \"Property\": \"Count of Sales\"\n",
    "                                        },\n",
    "                                        \"Name\": \"FactInternetSales.Count of Sales\",\n",
    "                                        \"NativeReferenceName\": \"Count of Sales\"\n",
    "                                    }\n",
    "                                ],\n",
    "                                \"OrderBy\": [\n",
    "                                    {\n",
    "                                        \"Direction\": 2,\n",
    "                                        \"Expression\": {\n",
    "                                            \"Measure\": {\n",
    "                                                \"Expression\": {\n",
    "                                                    \"SourceRef\": {\n",
    "                                                        \"Source\": \"f\"\n",
    "                                                    }\n",
    "                                                },\n",
    "                                                \"Property\": \"Count of Sales\"\n",
    "                                            }\n",
    "                                        }\n",
    "                                    }\n",
    "                                ]\n",
    "                            },\n",
    "\n",
    "\n",
    "\n",
    "                            \"drillFilterOtherVisuals\":true,\n",
    "                            \"hasDefaultSort\":true,                           \n",
    "                            \"objects\": {\n",
    "                                \"labels\": [\n",
    "                                    {\n",
    "                                        \"properties\": {\n",
    "                                            \"fontSize\": {\n",
    "                                                \"expr\": {\n",
    "                                                    \"Literal\": {\n",
    "                                                        \"Value\": \"20D\"\n",
    "                                                    }\n",
    "                                                }\n",
    "                                            },\n",
    "                                            \"labelDisplayUnits\": {\n",
    "                                                \"expr\": {\n",
    "                                                    \"Literal\": {\n",
    "                                                        \"Value\": \"1D\"\n",
    "                                                    }\n",
    "                                                }\n",
    "                                            }\n",
    "                                        }\n",
    "                                    }\n",
    "                                ]\n",
    "                            },\n",
    "                            \"vcObjects\": {\n",
    "                                \"dropShadow\": [\n",
    "                                    {\n",
    "                                        \"properties\": {\n",
    "                                            \"show\": {\n",
    "                                                \"expr\": {\n",
    "                                                    \"Literal\": {\n",
    "                                                        \"Value\": \"true\"\n",
    "                                                    }\n",
    "                                                }\n",
    "                                            }\n",
    "                                        }\n",
    "                                    }\n",
    "                                ]\n",
    "                            }\n",
    "                            }\n",
    "                        }''',\n",
    "                 'filters': '[]', \n",
    "                 'height': 201.5, \n",
    "                 'width': 265.43, \n",
    "                 'x': 270.03, \n",
    "                 'y': 30.12, \n",
    "                 'z': 1000.0\n",
    "            }\n",
    "        ]\n",
    "    }]\n",
    "\n",
    "labs.report.create_report_from_reportjson(report=report_name , dataset=\"AdventureWorks_model\" , report_json = pbi_report)\n",
    "report_id = resolve_report_id(report_name)\n",
    "\n",
    "from powerbiclient import Report\n",
    "report = Report(group_id=None, report_id=report_id)\n",
    "report.set_size(400,700)\n",
    "report"
   ]
  },
  {
   "cell_type": "markdown",
   "id": "e4e9261c-598d-4591-9a0f-55734693cd0f",
   "metadata": {
    "jp-MarkdownHeadingCollapsed": true,
    "microsoft": {
     "language": "python",
     "language_group": "synapse_pyspark"
    },
    "nteract": {
     "transient": {
      "deleting": false
     }
    }
   },
   "source": [
    "## 6. Show Lakehouse Tables"
   ]
  },
  {
   "cell_type": "code",
   "execution_count": null,
   "id": "654b9316-66e3-49dc-ad07-ac29546f76eb",
   "metadata": {
    "microsoft": {
     "language": "python",
     "language_group": "synapse_pyspark"
    }
   },
   "outputs": [],
   "source": [
    "labs.lakehouse.get_lakehouse_tables(LakehouseName)"
   ]
  },
  {
   "cell_type": "markdown",
   "metadata": {},
   "source": [
    "## 7. Show relationships for AdventureWorks_model"
   ]
  },
  {
   "cell_type": "code",
   "execution_count": null,
   "id": "720a9a35",
   "metadata": {},
   "outputs": [],
   "source": [
    "import sempy.fabric as fabric\n",
    "from sempy.relationships import plot_relationship_metadata , find_relationships\n",
    "\n",
    "relationships = fabric.list_relationships(SemanticModelName)\n",
    "plot_relationship_metadata(relationships)\n"
   ]
  },
  {
   "cell_type": "markdown",
   "id": "5dc59957-8148-44f9-8740-a9486f575ed8",
   "metadata": {
    "jp-MarkdownHeadingCollapsed": true,
    "microsoft": {
     "language": "python",
     "language_group": "synapse_pyspark"
    },
    "nteract": {
     "transient": {
      "deleting": false
     }
    }
   },
   "source": [
    "## 8. Show history details for **DimDate**\n",
    "Look at small table first"
   ]
  },
  {
   "cell_type": "code",
   "execution_count": null,
   "id": "ecbda0ed-b407-4321-a251-666b2ff32be2",
   "metadata": {
    "collapsed": false,
    "jupyter": {
     "outputs_hidden": false
    },
    "microsoft": {
     "language": "python",
     "language_group": "synapse_pyspark"
    }
   },
   "outputs": [],
   "source": [
    "display(labs.delta_analyzer_history(lakehouse=LakehouseName, table_name=\"DimDate\"))"
   ]
  },
  {
   "cell_type": "markdown",
   "id": "8e120ef6-33e7-4d60-8881-2e4fb7a2fe67",
   "metadata": {
    "jp-MarkdownHeadingCollapsed": true,
    "microsoft": {
     "language": "python",
     "language_group": "synapse_pyspark"
    },
    "nteract": {
     "transient": {
      "deleting": false
     }
    }
   },
   "source": [
    "## 9. Show history details for **FactInternetSales**"
   ]
  },
  {
   "cell_type": "code",
   "execution_count": null,
   "id": "2ff06d8f-5779-44a3-8e91-ea249768ba0a",
   "metadata": {
    "collapsed": false,
    "microsoft": {
     "language": "python",
     "language_group": "synapse_pyspark"
    }
   },
   "outputs": [],
   "source": [
    "display(labs.delta_analyzer_history(lakehouse=LakehouseName, table_name=\"FactInternetSales\"))\n",
    "report"
   ]
  },
  {
   "cell_type": "markdown",
   "id": "6b408195-a4e9-4cad-87e8-22abd7ddbc53",
   "metadata": {
    "jp-MarkdownHeadingCollapsed": true,
    "microsoft": {
     "language": "python",
     "language_group": "synapse_pyspark"
    },
    "nteract": {
     "transient": {
      "deleting": false
     }
    }
   },
   "source": [
    "## 10. Insert data to **FactInternetSales** using Append\n",
    "load an existing day of data to a dataframe\n",
    "update the OrderDateKey for all rows in the dataframe to 20221204\n",
    "Append the rows in the dataframe back to the FactInternetSales Delta Table"
   ]
  },
  {
   "cell_type": "code",
   "execution_count": null,
   "id": "4d2b66b2-187c-4bc5-802c-17898f171789",
   "metadata": {
    "collapsed": false,
    "microsoft": {
     "language": "python",
     "language_group": "synapse_pyspark"
    }
   },
   "outputs": [],
   "source": [
    "# Get one day of data from existing table\n",
    "from pyspark.sql.functions import lit, min, max ,count\n",
    "df1 = spark.read.load(f\"abfss://{workspaceId}@onelake.dfs.fabric.microsoft.com/{lakehouseId}/Tables/FactInternetSales\")\n",
    "\n",
    "# Show Min, MAX and Count of rows\n",
    "# df1.agg(\n",
    "#     min(\"OrderDateKey\").alias(\"min_OrderDateKey\") ,\n",
    "#     max(\"OrderDateKey\").alias(\"max_OrderDateKey\") ,\n",
    "#     count(\"*\").alias(\"count_rows\")\n",
    "#     ).show()\n",
    "\n",
    "\n",
    "# Create a filtered dataframe to update and then append back onto the original table\n",
    "df2 = df1.filter(\"OrderDateKey='20221204'\")\n",
    "df2 = df2.withColumn(\"OrderDateKey\",lit(20050630))\n",
    "\n",
    "\n",
    "df2.write.mode(\"append\").save(f\"abfss://{workspaceId}@onelake.dfs.fabric.microsoft.com/{lakehouseId}/Tables/FactInternetSales\")\n",
    "time.sleep(4)\n",
    "display(labs.delta_analyzer_history(lakehouse=LakehouseName, table_name=\"FactInternetSales\"))\n",
    "report"
   ]
  },
  {
   "cell_type": "code",
   "execution_count": null,
   "id": "14762a35-868a-477b-8852-1e9059e9a97c",
   "metadata": {
    "microsoft": {
     "language": "python",
     "language_group": "synapse_pyspark"
    }
   },
   "outputs": [],
   "source": [
    "df1 = spark.read.load(f\"abfss://{workspaceId}@onelake.dfs.fabric.microsoft.com/{lakehouseId}/Tables/FactInternetSales\")\n",
    "\n",
    "# Show Min, MAX and Count of rows\n",
    "df1.agg(\n",
    "        min(\"OrderDateKey\").alias(\"min_OrderDateKey\") ,\n",
    "        max(\"OrderDateKey\").alias(\"max_OrderDateKey\") ,\n",
    "        count(\"*\").alias(\"count_rows\")\n",
    "        ).show()\n"
   ]
  },
  {
   "cell_type": "markdown",
   "id": "43b0be9b-2097-4a61-88b0-7f743387c957",
   "metadata": {
    "jp-MarkdownHeadingCollapsed": true,
    "microsoft": {
     "language": "python",
     "language_group": "synapse_pyspark"
    },
    "nteract": {
     "transient": {
      "deleting": false
     }
    }
   },
   "source": [
    "## 11. Load **FactInternetSales** into variable\n",
    "To perform some updates and deletes"
   ]
  },
  {
   "cell_type": "code",
   "execution_count": null,
   "id": "8169b7c3-c667-430b-b338-4baee2b63f50",
   "metadata": {
    "microsoft": {
     "language": "python",
     "language_group": "synapse_pyspark"
    }
   },
   "outputs": [],
   "source": [
    "from delta.tables import *\n",
    "from pyspark.sql.functions import *\n",
    "\n",
    "deltaTable = DeltaTable.forPath(spark, f\"abfss://{workspaceId}@onelake.dfs.fabric.microsoft.com/{lakehouseId}/Tables/FactInternetSales\")\n"
   ]
  },
  {
   "cell_type": "markdown",
   "id": "2f9ae181-a1e1-4001-b419-2c0302688656",
   "metadata": {
    "jp-MarkdownHeadingCollapsed": true,
    "microsoft": {
     "language": "python",
     "language_group": "synapse_pyspark"
    },
    "nteract": {
     "transient": {
      "deleting": false
     }
    }
   },
   "source": [
    "## 12. **Delete** some rows from **FactInternetSales**"
   ]
  },
  {
   "cell_type": "code",
   "execution_count": null,
   "id": "d351f70c-d311-43a9-afec-f7b2afd182d4",
   "metadata": {
    "microsoft": {
     "language": "python",
     "language_group": "synapse_pyspark"
    }
   },
   "outputs": [],
   "source": [
    "deltaTable.delete(\"OrderDateKey = '20050701'\")\n",
    "time.sleep(4)\n",
    "display(labs.delta_analyzer_history(lakehouse=LakehouseName, table_name=\"FactInternetSales\"))\n",
    "report"
   ]
  },
  {
   "cell_type": "markdown",
   "id": "fb8d5f35-78d2-4d58-93b2-d123a11c5b06",
   "metadata": {
    "jp-MarkdownHeadingCollapsed": true,
    "microsoft": {
     "language": "python",
     "language_group": "synapse_pyspark"
    },
    "nteract": {
     "transient": {
      "deleting": false
     }
    }
   },
   "source": [
    "## 13. **Update** some rows in **FactInternetSales**\n",
    "Set all values for OrderDateKey = 20220218 to be DiscountAmount of 1 (was 0)"
   ]
  },
  {
   "cell_type": "code",
   "execution_count": null,
   "id": "2ba63b48-38b6-4fbc-94f8-a5141ef6e9eb",
   "metadata": {
    "microsoft": {
     "language": "python",
     "language_group": "synapse_pyspark"
    }
   },
   "outputs": [],
   "source": [
    "deltaTable.update(\n",
    "    condition= col(\"OrderDateKey\")=='20220218',\n",
    "    set = { \"DiscountAmount\":\"1\"}\n",
    ")\n",
    "time.sleep(4)\n",
    "display(labs.delta_analyzer_history(lakehouse=LakehouseName, table_name=\"FactInternetSales\"))\n",
    "report"
   ]
  },
  {
   "cell_type": "markdown",
   "id": "eebcc5a8",
   "metadata": {},
   "source": [
    "## 14. Turn OFF auto framing\n",
    "Must be done manually on the **AdventureWorks_model**\n",
    "\n",
    "Make sure you click apply"
   ]
  },
  {
   "cell_type": "markdown",
   "id": "f71df4b3",
   "metadata": {},
   "source": [
    "## 15. Insert _more_ data to **FactInternetSales** using Append"
   ]
  },
  {
   "cell_type": "code",
   "execution_count": null,
   "id": "2f1f2e83",
   "metadata": {},
   "outputs": [],
   "source": [
    "# Create a filtered dataframe to update and then append back onto the original table\n",
    "df2 = df1.filter(\"OrderDateKey='20221204'\")\n",
    "df2 = df2.withColumn(\"OrderDateKey\",lit(20050629))\n",
    "\n",
    "\n",
    "df2.write.mode(\"append\").save(f\"abfss://{workspaceId}@onelake.dfs.fabric.microsoft.com/{lakehouseId}/Tables/FactInternetSales\")\n",
    "time.sleep(4)\n",
    "display(labs.delta_analyzer_history(lakehouse=LakehouseName, table_name=\"FactInternetSales\"))\n",
    "report"
   ]
  },
  {
   "cell_type": "markdown",
   "id": "7db5cf9e",
   "metadata": {},
   "source": [
    "## 16. **Update** some rows from **FactInternetSales**"
   ]
  },
  {
   "cell_type": "code",
   "execution_count": null,
   "id": "c12a7bec",
   "metadata": {},
   "outputs": [],
   "source": [
    "deltaTable.update(\n",
    "    condition= col(\"OrderDateKey\")=='20220218',\n",
    "    set = { \"DiscountAmount\":\"2\"}\n",
    ")\n",
    "time.sleep(4)\n",
    "display(labs.delta_analyzer_history(lakehouse=LakehouseName, table_name=\"FactInternetSales\"))\n",
    "report"
   ]
  },
  {
   "cell_type": "markdown",
   "id": "5158d909",
   "metadata": {},
   "source": [
    "## 17. **Delete** some rows from **FactInternetSales**"
   ]
  },
  {
   "cell_type": "code",
   "execution_count": null,
   "id": "1f8840a6",
   "metadata": {},
   "outputs": [],
   "source": [
    "deltaTable.delete(\"OrderDateKey = '20050702'\")\n",
    "time.sleep(4)\n",
    "display(labs.delta_analyzer_history(lakehouse=LakehouseName, table_name=\"FactInternetSales\"))\n",
    "report"
   ]
  },
  {
   "cell_type": "markdown",
   "id": "a7bf15d5",
   "metadata": {},
   "source": [
    "## 18. Reframe model to update changes\n",
    "This code block attempts to reframe the Semantic model in a loop until successful, catching exceptions and retrying every 3 seconds.  Upon, success, it prints a confirmation message."
   ]
  },
  {
   "cell_type": "code",
   "execution_count": null,
   "id": "8691e43e",
   "metadata": {},
   "outputs": [],
   "source": [
    "reframeOK:bool=False\n",
    "while not reframeOK:\n",
    "    try:\n",
    "        result:pandas.DataFrame = labs.refresh_semantic_model(dataset=SemanticModelName)\n",
    "        reframeOK=True\n",
    "    except:\n",
    "        print('Error with reframe... trying again.')\n",
    "        triggerMetadataRefresh()\n",
    "        time.sleep(3)\n",
    "\n",
    "print('Custom Semantic Model reframe OK')\n",
    "report"
   ]
  },
  {
   "cell_type": "markdown",
   "id": "0173a0af",
   "metadata": {},
   "source": [
    "## 19. Stop the Spark session"
   ]
  },
  {
   "cell_type": "code",
   "execution_count": null,
   "id": "1e9a6af2",
   "metadata": {},
   "outputs": [],
   "source": [
    "mssparkutils.session.stop()"
   ]
  }
 ],
 "metadata": {
  "dependencies": {},
  "kernel_info": {
   "name": "synapse_pyspark"
  },
  "kernelspec": {
   "display_name": "Synapse PySpark",
   "language": "Python",
   "name": "synapse_pyspark"
  },
  "language_info": {
   "name": "python"
  },
  "microsoft": {
   "language": "python",
   "language_group": "synapse_pyspark",
   "ms_spell_check": {
    "ms_spell_check_language": "en"
   }
  },
  "nteract": {
   "version": "nteract-front-end@1.0.0"
  },
  "spark_compute": {
   "compute_id": "/trident/default",
   "session_options": {
    "conf": {
     "spark.synapse.nbs.session.timeout": "1200000"
    }
   }
  },
  "synapse_widget": {
   "state": {},
   "version": "0.1"
  },
  "widgets": {}
 },
 "nbformat": 4,
 "nbformat_minor": 5
}
