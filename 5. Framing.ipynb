{
 "cells": [
  {
   "cell_type": "markdown",
   "id": "19aa87f5",
   "metadata": {},
   "source": [
    "# Lab 5: Direct Lake Framing\n",
    "\n",
    "## Introduction\n",
    "\n",
    "This lab explores the critical concept of **framing** in Microsoft Fabric Direct Lake models. Framing is the automatic process by which Direct Lake models track and synchronize data changes in the underlying lakehouse tables. Understanding framing behavior is essential for optimizing refresh performance and ensuring data consistency in real-time analytics scenarios.\n",
    "\n",
    "## Lab Overview\n",
    "\n",
    "**Learning Objectives:**\n",
    "- Understand automatic vs. manual framing mechanisms\n",
    "- Observe how data modifications trigger framing events\n",
    "- Learn to control framing behavior for optimal performance\n",
    "- Master manual reframing techniques for large-scale updates\n",
    "\n",
    "**Key Concepts:**\n",
    "- **Automatic Framing**: Real-time synchronization of data changes\n",
    "- **Manual Framing**: Controlled refresh for batch operations\n",
    "- **Frame Tracking**: Monitoring data modification history\n",
    "- **Performance Optimization**: Balancing refresh frequency with query performance\n",
    "\n",
    "**Architecture Overview:**\n",
    "```\n",
    "┌─────────────────┐    ┌──────────────────┐    ┌─────────────────┐\n",
    "│   Data Sources  │───▶│  Lakehouse       │───▶│  Direct Lake    │\n",
    "│                 │    │  (Delta Tables)  │    │  Model          │\n",
    "└─────────────────┘    └──────────────────┘    └─────────────────┘\n",
    "                               │                         │\n",
    "                               ▼                         ▼\n",
    "                       ┌──────────────────┐    ┌─────────────────┐\n",
    "                       │  Framing Engine  │───▶│  Power BI       │\n",
    "                       │  (Change Track)  │    │  Reports        │\n",
    "                       └──────────────────┘    └─────────────────┘\n",
    "```\n",
    "\n",
    "**Prerequisites:** Lab 4 completion (fallback behavior understanding)"
   ]
  },
  {
   "cell_type": "markdown",
   "id": "ef57c0b5-52a1-4a68-816b-a2273b66e688",
   "metadata": {
    "jp-MarkdownHeadingCollapsed": true,
    "microsoft": {
     "language": "python",
     "language_group": "synapse_pyspark"
    },
    "nteract": {
     "transient": {
      "deleting": false
     }
    }
   },
   "source": [
    "## 1. Install Semantic Link Labs Python Library\n",
    "Install the Semantic Link Labs library for advanced Direct Lake operations and framing analysis."
   ]
  },
  {
   "cell_type": "code",
   "execution_count": null,
   "id": "21cae2d1-1076-45ce-8653-885e75cb12f4",
   "metadata": {
    "microsoft": {
     "language": "python",
     "language_group": "synapse_pyspark"
    }
   },
   "outputs": [],
   "source": [
    "# Install semantic-link-labs library for Direct Lake operations\n",
    "%pip install -q --disable-pip-version-check semantic-link-labs"
   ]
  },
  {
   "cell_type": "markdown",
   "id": "782cf5f0-e43b-4875-a665-f5b69e8858f2",
   "metadata": {
    "jp-MarkdownHeadingCollapsed": true,
    "microsoft": {
     "language": "python",
     "language_group": "synapse_pyspark"
    },
    "nteract": {
     "transient": {
      "deleting": false
     }
    }
   },
   "source": [
    "## 2. Install Python Libraries\n",
    "Set up required libraries and configure lakehouse/semantic model variables for framing operations."
   ]
  },
  {
   "cell_type": "code",
   "execution_count": null,
   "id": "cfe88dfa-77dc-4763-b330-40921e35ab32",
   "metadata": {
    "microsoft": {
     "language": "python",
     "language_group": "synapse_pyspark"
    }
   },
   "outputs": [],
   "source": [
    "# Import libraries for Direct Lake operations and data manipulation\n",
    "import sempy_labs as labs\n",
    "import time\n",
    "import pandas\n",
    "\n",
    "# Configure lakehouse and semantic model names\n",
    "LakehouseName = \"AdventureWorks\"\n",
    "lakehouses = labs.list_lakehouses()[\"Lakehouse Name\"]\n",
    "for l in lakehouses:\n",
    "    if l.startswith(\"Adventure\"):\n",
    "        LakehouseName = l\n",
    "\n",
    "# Set up workspace and lakehouse identifiers\n",
    "SemanticModelName = f\"{LakehouseName}_model\"\n",
    "workspaceId = notebookutils.lakehouse.getWithProperties(LakehouseName)[\"workspaceId\"]\n",
    "lakehouseId = notebookutils.lakehouse.getWithProperties(LakehouseName)[\"id\"]"
   ]
  },
  {
   "cell_type": "markdown",
   "id": "64a0fe09",
   "metadata": {},
   "source": [
    "## 3. Connect to Workspace and Validate Setup\n",
    "Verify workspace connection and confirm lakehouse/semantic model availability for framing operations."
   ]
  },
  {
   "cell_type": "code",
   "execution_count": null,
   "id": "0171e8e0",
   "metadata": {},
   "outputs": [],
   "source": [
    "# Validate workspace connection and display setup information\n",
    "print(f\"Workspace ID: {workspaceId}\")\n",
    "print(f\"Lakehouse Name: {LakehouseName}\")\n",
    "print(f\"Lakehouse ID: {lakehouseId}\")\n",
    "print(f\"Semantic Model Name: {SemanticModelName}\")\n",
    "\n",
    "# Verify lakehouse exists and is accessible\n",
    "try:\n",
    "    lakehouse_info = labs.list_lakehouses()\n",
    "    print(f\"\\nAvailable Lakehouses: {len(lakehouse_info)} found\")\n",
    "    print(\"Setup validation complete!\")\n",
    "except Exception as e:\n",
    "    print(f\"Error accessing lakehouse: {e}\")"
   ]
  },
  {
   "cell_type": "markdown",
   "id": "be34fb9e",
   "metadata": {},
   "source": [
    "## 4. Load Report Generation Libraries\n",
    "Import specialized helper functions for Power BI report creation and framing analysis."
   ]
  },
  {
   "cell_type": "code",
   "execution_count": null,
   "id": "1462661c",
   "metadata": {},
   "outputs": [],
   "source": [
    "# Import specialized helper functions for Power BI operations and framing analysis\n",
    "from sempy_labs._helper_functions import (\n",
    "    resolve_report_id,\n",
    "    format_dax_object_name,\n",
    "    resolve_dataset_from_report,\n",
    "    _conv_b64,\n",
    "    _extract_json,\n",
    "    _add_part,\n",
    "    _decode_b64,\n",
    "    resolve_workspace_name_and_id,\n",
    "    _update_dataframe_datatypes,\n",
    "    _base_api,\n",
    "    _create_dataframe,\n",
    ")"
   ]
  },
  {
   "cell_type": "markdown",
   "id": "28a5e85a",
   "metadata": {},
   "source": [
    "## 5. Create Simple Power BI Report\n",
    "Generate a basic Power BI report to visualize data changes and monitor framing behavior in real-time."
   ]
  },
  {
   "cell_type": "code",
   "execution_count": null,
   "id": "4673d8bc",
   "metadata": {},
   "outputs": [],
   "source": [
    "report_name=\"Simple Report\"\n",
    "\n",
    "pbi_report:dict = {}\n",
    "pbi_report['config'] = \"\"\"{\n",
    "        \"version\": \"5.37\",\n",
    "        \"themeCollection\": {},\n",
    "        \"activeSectionIndex\": 0,\n",
    "        \"linguisticSchemaSyncVersion\": 0,\n",
    "        \"objects\": {\n",
    "            \"outspacePane\": [\n",
    "                {\n",
    "                    \"properties\": {\n",
    "                        \"expanded\": {\n",
    "                            \"expr\": {\n",
    "                                \"Literal\": {\n",
    "                                    \"Value\": \"false\"\n",
    "                                }\n",
    "                            }\n",
    "                        }\n",
    "                    }\n",
    "                }\n",
    "            ]\n",
    "        }\n",
    "    }\"\"\"\n",
    "pbi_report['layoutOptimization']=0\n",
    "pbi_report['resourcePackages'] = [{'resourcePackage': {'disabled': False, 'items': [{'name': 'CY24SU10', 'path': 'BaseThemes/CY24SU10.json', 'type': 202}], 'name': 'SharedResources', 'type': 2}}]\n",
    "pbi_report['sections'] = [\n",
    "    {'config': '{}', \n",
    "    'displayName': 'Page 1', \n",
    "    'displayOption': 1, \n",
    "    'filters': '[]', \n",
    "    'height': 300.0, \n",
    "    'width': 600.0,\n",
    "    'name': 'a4c1ed461808909ae820', \n",
    "    'visualContainers':\n",
    "        [\n",
    "            {'config': '''{\n",
    "                        \"name\": \"Matrix\",\n",
    "                        \"layouts\": [\n",
    "                            {\n",
    "                                \"id\": 0,\n",
    "                                \"position\": {\n",
    "                                    \"x\": 310,\n",
    "                                    \"y\": 30,\n",
    "                                    \"z\": 1000,\n",
    "                                    \"width\": 253,\n",
    "                                    \"height\": 202\n",
    "                                }\n",
    "                            }\n",
    "                        ],\n",
    "                        \"singleVisual\": {\n",
    "                            \"visualType\": \"tableEx\",\n",
    "                            \"projections\": {\n",
    "                                \"Values\": [\n",
    "                                    {\n",
    "                                        \"queryRef\": \"DimDate.Month\"\n",
    "                                    },\n",
    "                                    {\n",
    "                                        \"queryRef\": \"Sum(FactInternetSales.SalesAmount)\"\n",
    "                                    },\n",
    "                                    {\n",
    "                                        \"queryRef\": \"Sum(FactInternetSales.DiscountAmount)\"\n",
    "                                    }\n",
    "                                ]\n",
    "                            },\n",
    "                            \"prototypeQuery\": {\n",
    "                                \"Version\": 2,\n",
    "                                \"From\": [\n",
    "                                    {\n",
    "                                        \"Name\": \"d\",\n",
    "                                        \"Entity\": \"DimDate\",\n",
    "                                        \"Type\": 0\n",
    "                                    },\n",
    "                                    {\n",
    "                                        \"Name\": \"f\",\n",
    "                                        \"Entity\": \"FactInternetSales\",\n",
    "                                        \"Type\": 0\n",
    "                                    }\n",
    "                                ],\n",
    "                                \"Select\": [\n",
    "                                    {\n",
    "                                        \"Column\": {\n",
    "                                            \"Expression\": {\n",
    "                                                \"SourceRef\": {\n",
    "                                                    \"Source\": \"d\"\n",
    "                                                }\n",
    "                                            },\n",
    "                                            \"Property\": \"Month\"\n",
    "                                        },\n",
    "                                        \"Name\": \"DimDate.Month\",\n",
    "                                        \"NativeReferenceName\": \"Month\"\n",
    "                                    },\n",
    "                                    {\n",
    "                                        \"Aggregation\": {\n",
    "                                            \"Expression\": {\n",
    "                                                \"Column\": {\n",
    "                                                    \"Expression\": {\n",
    "                                                        \"SourceRef\": {\n",
    "                                                            \"Source\": \"f\"\n",
    "                                                        }\n",
    "                                                    },\n",
    "                                                    \"Property\": \"SalesAmount\"\n",
    "                                                }\n",
    "                                            },\n",
    "                                            \"Function\": 0\n",
    "                                        },\n",
    "                                        \"Name\": \"Sum(FactInternetSales.SalesAmount)\",\n",
    "                                        \"NativeReferenceName\": \"Sum of SalesAmount\"\n",
    "                                    },\n",
    "                                    {\n",
    "                                        \"Aggregation\": {\n",
    "                                            \"Expression\": {\n",
    "                                                \"Column\": {\n",
    "                                                    \"Expression\": {\n",
    "                                                        \"SourceRef\": {\n",
    "                                                            \"Source\": \"f\"\n",
    "                                                        }\n",
    "                                                    },\n",
    "                                                    \"Property\": \"DiscountAmount\"\n",
    "                                                }\n",
    "                                            },\n",
    "                                            \"Function\": 0\n",
    "                                        },\n",
    "                                        \"Name\": \"Sum(FactInternetSales.DiscountAmount)\",\n",
    "                                        \"NativeReferenceName\": \"Discount\"\n",
    "                                    }\n",
    "                                ]\n",
    "                            },\n",
    "                            \"columnProperties\": {\n",
    "                                \"Sum(FactInternetSales.DiscountAmount)\": {\n",
    "                                    \"displayName\": \"Discount\"\n",
    "                                }\n",
    "                            },\n",
    "                            \"drillFilterOtherVisuals\": true,\n",
    "                            \"vcObjects\": {\n",
    "                                \"dropShadow\": [\n",
    "                                    {\n",
    "                                        \"properties\": {\n",
    "                                            \"show\": {\n",
    "                                                \"expr\": {\n",
    "                                                    \"Literal\": {\n",
    "                                                        \"Value\": \"true\"\n",
    "                                                    }\n",
    "                                                }\n",
    "                                            }\n",
    "                                        }\n",
    "                                    }\n",
    "                                ]\n",
    "                            }\n",
    "                        }\n",
    "                    }''', 'filters': '[]', 'height': 202.46, 'width': 215.11, 'x': 319.67, 'y': 30.63, 'z': 1.0\n",
    "                },\n",
    "            {'config': \n",
    "                    '''{\n",
    "                        \"name\":\"Card\",\n",
    "                        \"layouts\":[\n",
    "                            {\n",
    "                            \"id\":0,\n",
    "                            \"position\":{\"x\":10,\"y\":30,\"z\":0,\"width\":238,\"height\":201}}\n",
    "                            ],\n",
    "                        \"singleVisual\":{\"visualType\":\"card\",\"projections\":{\"Values\":[{\"queryRef\":\"FactInternetSales.Count of Sales\"}]},\n",
    "\n",
    "\n",
    "                            \"prototypeQuery\": {\n",
    "                                \"Version\": 2,\n",
    "                                \"From\": [\n",
    "                                    {\n",
    "                                        \"Name\": \"f\",\n",
    "                                        \"Entity\": \"FactInternetSales\",\n",
    "                                        \"Type\": 0\n",
    "                                    }\n",
    "                                ],\n",
    "                                \"Select\": [\n",
    "                                    {\n",
    "                                        \"Measure\": {\n",
    "                                            \"Expression\": {\n",
    "                                                \"SourceRef\": {\n",
    "                                                    \"Source\": \"f\"\n",
    "                                                }\n",
    "                                            },\n",
    "                                            \"Property\": \"Count of Sales\"\n",
    "                                        },\n",
    "                                        \"Name\": \"FactInternetSales.Count of Sales\",\n",
    "                                        \"NativeReferenceName\": \"Count of Sales\"\n",
    "                                    }\n",
    "                                ],\n",
    "                                \"OrderBy\": [\n",
    "                                    {\n",
    "                                        \"Direction\": 2,\n",
    "                                        \"Expression\": {\n",
    "                                            \"Measure\": {\n",
    "                                                \"Expression\": {\n",
    "                                                    \"SourceRef\": {\n",
    "                                                        \"Source\": \"f\"\n",
    "                                                    }\n",
    "                                                },\n",
    "                                                \"Property\": \"Count of Sales\"\n",
    "                                            }\n",
    "                                        }\n",
    "                                    }\n",
    "                                ]\n",
    "                            },\n",
    "\n",
    "\n",
    "\n",
    "                            \"drillFilterOtherVisuals\":true,\n",
    "                            \"hasDefaultSort\":true,                           \n",
    "                            \"objects\": {\n",
    "                                \"labels\": [\n",
    "                                    {\n",
    "                                        \"properties\": {\n",
    "                                            \"fontSize\": {\n",
    "                                                \"expr\": {\n",
    "                                                    \"Literal\": {\n",
    "                                                        \"Value\": \"20D\"\n",
    "                                                    }\n",
    "                                                }\n",
    "                                            },\n",
    "                                            \"labelDisplayUnits\": {\n",
    "                                                \"expr\": {\n",
    "                                                    \"Literal\": {\n",
    "                                                        \"Value\": \"1D\"\n",
    "                                                    }\n",
    "                                                }\n",
    "                                            }\n",
    "                                        }\n",
    "                                    }\n",
    "                                ]\n",
    "                            },\n",
    "                            \"vcObjects\": {\n",
    "                                \"dropShadow\": [\n",
    "                                    {\n",
    "                                        \"properties\": {\n",
    "                                            \"show\": {\n",
    "                                                \"expr\": {\n",
    "                                                    \"Literal\": {\n",
    "                                                        \"Value\": \"true\"\n",
    "                                                    }\n",
    "                                                }\n",
    "                                            }\n",
    "                                        }\n",
    "                                    }\n",
    "                                ]\n",
    "                            }\n",
    "                            }\n",
    "                        }''',\n",
    "                 'filters': '[]', \n",
    "                 'height': 201.5, \n",
    "                 'width': 265.43, \n",
    "                 'x': 270.03, \n",
    "                 'y': 30.12, \n",
    "                 'z': 1000.0\n",
    "            }\n",
    "        ]\n",
    "    }]\n",
    "\n",
    "labs.report.create_report_from_reportjson(report=report_name , dataset=\"AdventureWorks_model\" , report_json = pbi_report)\n",
    "report_id = resolve_report_id(report_name)\n",
    "\n",
    "from powerbiclient import Report\n",
    "report = Report(group_id=None, report_id=report_id)\n",
    "report.set_size(400,700)\n",
    "report"
   ]
  },
  {
   "cell_type": "markdown",
   "id": "e4e9261c-598d-4591-9a0f-55734693cd0f",
   "metadata": {
    "jp-MarkdownHeadingCollapsed": true,
    "microsoft": {
     "language": "python",
     "language_group": "synapse_pyspark"
    },
    "nteract": {
     "transient": {
      "deleting": false
     }
    }
   },
   "source": [
    "## 6. Show Lakehouse Tables\n",
    "Display all available tables in the lakehouse to understand the data structure for framing operations."
   ]
  },
  {
   "cell_type": "code",
   "execution_count": null,
   "id": "654b9316-66e3-49dc-ad07-ac29546f76eb",
   "metadata": {
    "microsoft": {
     "language": "python",
     "language_group": "synapse_pyspark"
    }
   },
   "outputs": [],
   "source": [
    "# Display all available tables in the lakehouse for framing analysis\n",
    "display(labs.list_lakehouse_tables(lakehouse=LakehouseName))"
   ]
  },
  {
   "cell_type": "markdown",
   "id": "aa504b38",
   "metadata": {},
   "source": [
    "## 7. Show Relationships for AdventureWorks Model\n",
    "Examine the semantic model relationships that affect framing behavior across related tables."
   ]
  },
  {
   "cell_type": "code",
   "execution_count": null,
   "id": "720a9a35",
   "metadata": {},
   "outputs": [],
   "source": [
    "# Display semantic model relationships to understand framing dependencies\n",
    "display(labs.list_relationships(SemanticModelName))"
   ]
  },
  {
   "cell_type": "markdown",
   "id": "5dc59957-8148-44f9-8740-a9486f575ed8",
   "metadata": {
    "jp-MarkdownHeadingCollapsed": true,
    "microsoft": {
     "language": "python",
     "language_group": "synapse_pyspark"
    },
    "nteract": {
     "transient": {
      "deleting": false
     }
    }
   },
   "source": [
    "## 8. Show History Details for DimDate\n",
    "Analyze the modification history of the DimDate table to understand baseline framing behavior."
   ]
  },
  {
   "cell_type": "code",
   "execution_count": null,
   "id": "ecbda0ed-b407-4321-a251-666b2ff32be2",
   "metadata": {
    "collapsed": false,
    "jupyter": {
     "outputs_hidden": false
    },
    "microsoft": {
     "language": "python",
     "language_group": "synapse_pyspark"
    }
   },
   "outputs": [],
   "source": [
    "# Analyze DimDate table modification history to establish baseline\n",
    "display(labs.delta_analyzer_history(lakehouse=LakehouseName, table_name=\"DimDate\"))"
   ]
  },
  {
   "cell_type": "markdown",
   "id": "8e120ef6-33e7-4d60-8881-2e4fb7a2fe67",
   "metadata": {
    "jp-MarkdownHeadingCollapsed": true,
    "microsoft": {
     "language": "python",
     "language_group": "synapse_pyspark"
    },
    "nteract": {
     "transient": {
      "deleting": false
     }
    }
   },
   "source": [
    "## 9. Show History Details for FactInternetSales\n",
    "Examine the transaction history of the fact table to establish a baseline for framing monitoring."
   ]
  },
  {
   "cell_type": "code",
   "execution_count": null,
   "id": "2ff06d8f-5779-44a3-8e91-ea249768ba0a",
   "metadata": {
    "collapsed": false,
    "microsoft": {
     "language": "python",
     "language_group": "synapse_pyspark"
    }
   },
   "outputs": [],
   "source": [
    "# Examine FactInternetSales table history to understand current state\n",
    "display(labs.delta_analyzer_history(lakehouse=LakehouseName, table_name=\"FactInternetSales\"))"
   ]
  },
  {
   "cell_type": "markdown",
   "id": "6b408195-a4e9-4cad-87e8-22abd7ddbc53",
   "metadata": {
    "jp-MarkdownHeadingCollapsed": true,
    "microsoft": {
     "language": "python",
     "language_group": "synapse_pyspark"
    },
    "nteract": {
     "transient": {
      "deleting": false
     }
    }
   },
   "source": [
    "## 10. Insert Data to FactInternetSales Using Append\n",
    "Perform data insertions to trigger automatic framing and observe real-time synchronization behavior."
   ]
  },
  {
   "cell_type": "code",
   "execution_count": null,
   "id": "4d2b66b2-187c-4bc5-802c-17898f171789",
   "metadata": {
    "collapsed": false,
    "microsoft": {
     "language": "python",
     "language_group": "synapse_pyspark"
    }
   },
   "outputs": [],
   "source": [
    "# Get one day of data from existing table\n",
    "from pyspark.sql.functions import lit, min, max ,count\n",
    "df1 = spark.read.load(f\"abfss://{workspaceId}@onelake.dfs.fabric.microsoft.com/{lakehouseId}/Tables/FactInternetSales\")\n",
    "\n",
    "# Show Min, MAX and Count of rows\n",
    "# df1.agg(\n",
    "#     min(\"OrderDateKey\").alias(\"min_OrderDateKey\") ,\n",
    "#     max(\"OrderDateKey\").alias(\"max_OrderDateKey\") ,\n",
    "#     count(\"*\").alias(\"count_rows\")\n",
    "#     ).show()\n",
    "\n",
    "\n",
    "# Create a filtered dataframe to update and then append back onto the original table\n",
    "df2 = df1.filter(\"OrderDateKey='20221204'\")\n",
    "df2 = df2.withColumn(\"OrderDateKey\",lit(20050630))\n",
    "\n",
    "\n",
    "df2.write.mode(\"append\").save(f\"abfss://{workspaceId}@onelake.dfs.fabric.microsoft.com/{lakehouseId}/Tables/FactInternetSales\")\n",
    "time.sleep(4)\n",
    "display(labs.delta_analyzer_history(lakehouse=LakehouseName, table_name=\"FactInternetSales\"))\n",
    "report"
   ]
  },
  {
   "cell_type": "code",
   "execution_count": null,
   "id": "14762a35-868a-477b-8852-1e9059e9a97c",
   "metadata": {
    "microsoft": {
     "language": "python",
     "language_group": "synapse_pyspark"
    }
   },
   "outputs": [],
   "source": [
    "df1 = spark.read.load(f\"abfss://{workspaceId}@onelake.dfs.fabric.microsoft.com/{lakehouseId}/Tables/FactInternetSales\")\n",
    "\n",
    "# Show Min, MAX and Count of rows\n",
    "df1.agg(\n",
    "        min(\"OrderDateKey\").alias(\"min_OrderDateKey\") ,\n",
    "        max(\"OrderDateKey\").alias(\"max_OrderDateKey\") ,\n",
    "        count(\"*\").alias(\"count_rows\")\n",
    "        ).show()\n"
   ]
  },
  {
   "cell_type": "markdown",
   "id": "43b0be9b-2097-4a61-88b0-7f743387c957",
   "metadata": {
    "jp-MarkdownHeadingCollapsed": true,
    "microsoft": {
     "language": "python",
     "language_group": "synapse_pyspark"
    },
    "nteract": {
     "transient": {
      "deleting": false
     }
    }
   },
   "source": [
    "## 11. Load FactInternetSales into Variable\n",
    "Cache the fact table data in memory for efficient bulk data modification operations."
   ]
  },
  {
   "cell_type": "code",
   "execution_count": null,
   "id": "8169b7c3-c667-430b-b338-4baee2b63f50",
   "metadata": {
    "microsoft": {
     "language": "python",
     "language_group": "synapse_pyspark"
    }
   },
   "outputs": [],
   "source": [
    "from delta.tables import *\n",
    "from pyspark.sql.functions import *\n",
    "\n",
    "deltaTable = DeltaTable.forPath(spark, f\"abfss://{workspaceId}@onelake.dfs.fabric.microsoft.com/{lakehouseId}/Tables/FactInternetSales\")\n"
   ]
  },
  {
   "cell_type": "markdown",
   "id": "2f9ae181-a1e1-4001-b419-2c0302688656",
   "metadata": {
    "jp-MarkdownHeadingCollapsed": true,
    "microsoft": {
     "language": "python",
     "language_group": "synapse_pyspark"
    },
    "nteract": {
     "transient": {
      "deleting": false
     }
    }
   },
   "source": [
    "## 12. Delete Some Rows from FactInternetSales\n",
    "Execute delete operations to observe how data removal triggers framing events and affects model performance."
   ]
  },
  {
   "cell_type": "code",
   "execution_count": null,
   "id": "d351f70c-d311-43a9-afec-f7b2afd182d4",
   "metadata": {
    "microsoft": {
     "language": "python",
     "language_group": "synapse_pyspark"
    }
   },
   "outputs": [],
   "source": [
    "deltaTable.delete(\"OrderDateKey = '20050701'\")\n",
    "time.sleep(4)\n",
    "display(labs.delta_analyzer_history(lakehouse=LakehouseName, table_name=\"FactInternetSales\"))\n",
    "report"
   ]
  },
  {
   "cell_type": "markdown",
   "id": "fb8d5f35-78d2-4d58-93b2-d123a11c5b06",
   "metadata": {
    "jp-MarkdownHeadingCollapsed": true,
    "microsoft": {
     "language": "python",
     "language_group": "synapse_pyspark"
    },
    "nteract": {
     "transient": {
      "deleting": false
     }
    }
   },
   "source": [
    "## 13. Update Some Rows in FactInternetSales\n",
    "Perform update operations to demonstrate how data modifications trigger automatic framing mechanisms."
   ]
  },
  {
   "cell_type": "code",
   "execution_count": null,
   "id": "2ba63b48-38b6-4fbc-94f8-a5141ef6e9eb",
   "metadata": {
    "microsoft": {
     "language": "python",
     "language_group": "synapse_pyspark"
    }
   },
   "outputs": [],
   "source": [
    "deltaTable.update(\n",
    "    condition= col(\"OrderDateKey\")=='20220218',\n",
    "    set = { \"DiscountAmount\":\"1\"}\n",
    ")\n",
    "time.sleep(4)\n",
    "display(labs.delta_analyzer_history(lakehouse=LakehouseName, table_name=\"FactInternetSales\"))\n",
    "report"
   ]
  },
  {
   "cell_type": "markdown",
   "id": "eebcc5a8",
   "metadata": {},
   "source": [
    "## 14. Turn OFF Auto Framing\n",
    "Disable automatic framing to control when the model synchronizes with data changes for performance optimization."
   ]
  },
  {
   "cell_type": "markdown",
   "id": "f71df4b3",
   "metadata": {},
   "source": [
    "## 15. Insert More Data to FactInternetSales Using Append\n",
    "Perform additional data insertions while auto framing is disabled to demonstrate manual control."
   ]
  },
  {
   "cell_type": "code",
   "execution_count": null,
   "id": "2f1f2e83",
   "metadata": {},
   "outputs": [],
   "source": [
    "# Create filtered dataframe for appending new data while auto framing is disabled\n",
    "df2 = df1.filter(\"OrderDateKey='20221204'\")\n",
    "df2 = df2.withColumn(\"OrderDateKey\",lit(20050629))\n",
    "\n",
    "# Append data to table and monitor framing behavior\n",
    "df2.write.mode(\"append\").save(f\"abfss://{workspaceId}@onelake.dfs.fabric.microsoft.com/{lakehouseId}/Tables/FactInternetSales\")\n",
    "time.sleep(4)\n",
    "display(labs.delta_analyzer_history(lakehouse=LakehouseName, table_name=\"FactInternetSales\"))\n",
    "report"
   ]
  },
  {
   "cell_type": "markdown",
   "id": "7db5cf9e",
   "metadata": {},
   "source": [
    "## 16. Update Some Rows from FactInternetSales\n",
    "Execute updates with auto framing disabled to observe how changes accumulate without immediate synchronization."
   ]
  },
  {
   "cell_type": "code",
   "execution_count": null,
   "id": "c12a7bec",
   "metadata": {},
   "outputs": [],
   "source": [
    "# Update specific rows while auto framing is disabled\n",
    "deltaTable.update(\n",
    "    condition= col(\"OrderDateKey\")=='20220218',\n",
    "    set = { \"DiscountAmount\":\"2\"}\n",
    ")\n",
    "time.sleep(4)\n",
    "# Check history to see accumulated changes without automatic framing\n",
    "display(labs.delta_analyzer_history(lakehouse=LakehouseName, table_name=\"FactInternetSales\"))\n",
    "report"
   ]
  },
  {
   "cell_type": "markdown",
   "id": "5158d909",
   "metadata": {},
   "source": [
    "## 17. Delete Some Rows from FactInternetSales\n",
    "Perform deletions while framing is disabled to demonstrate batch operation efficiency."
   ]
  },
  {
   "cell_type": "code",
   "execution_count": null,
   "id": "1f8840a6",
   "metadata": {},
   "outputs": [],
   "source": [
    "deltaTable.delete(\"OrderDateKey = '20050702'\")\n",
    "time.sleep(4)\n",
    "display(labs.delta_analyzer_history(lakehouse=LakehouseName, table_name=\"FactInternetSales\"))\n",
    "report"
   ]
  },
  {
   "cell_type": "markdown",
   "id": "a7bf15d5",
   "metadata": {},
   "source": [
    "## 18. Reframe Model to Update Changes\n",
    "Manually trigger a reframe operation to synchronize all accumulated changes with the Direct Lake model."
   ]
  },
  {
   "cell_type": "code",
   "execution_count": null,
   "id": "8691e43e",
   "metadata": {},
   "outputs": [],
   "source": [
    "# Manually trigger reframe operation to synchronize all accumulated changes\n",
    "labs.refresh_semantic_model(SemanticModelName)"
   ]
  },
  {
   "cell_type": "markdown",
   "id": "0173a0af",
   "metadata": {},
   "source": [
    "## 19. Stop the Spark Session\n",
    "Clean up resources by properly terminating the Spark session used for framing operations."
   ]
  },
  {
   "cell_type": "code",
   "execution_count": null,
   "id": "1e9a6af2",
   "metadata": {},
   "outputs": [],
   "source": [
    "# Clean up resources by stopping the Spark session\n",
    "mssparkutils.session.stop()"
   ]
  },
  {
   "cell_type": "markdown",
   "id": "e48aaa52",
   "metadata": {},
   "source": [
    "## Lab Summary\n",
    "\n",
    "### 🎯 Key Achievements\n",
    "\n",
    "**Framing Mastery Completed:**\n",
    "- ✅ **Automatic Framing**: Observed real-time data synchronization behavior\n",
    "- ✅ **Manual Control**: Learned to disable and control framing for performance\n",
    "- ✅ **Batch Operations**: Demonstrated efficient bulk data processing techniques\n",
    "- ✅ **Performance Optimization**: Balanced refresh frequency with query performance\n",
    "\n",
    "### 📊 Framing Behavior Analysis\n",
    "\n",
    "**Automatic Mode Benefits:**\n",
    "- Real-time data consistency across Power BI reports\n",
    "- Immediate reflection of data changes in analytics\n",
    "- Seamless user experience for operational reporting\n",
    "\n",
    "**Manual Mode Advantages:**\n",
    "- Optimized performance for large-scale data operations\n",
    "- Reduced resource consumption during batch processing\n",
    "- Controlled refresh timing for scheduled updates\n",
    "\n",
    "### 🔧 Best Practices Learned\n",
    "\n",
    "**Framing Strategy Guidelines:**\n",
    "1. **Use Automatic Framing** for real-time operational dashboards\n",
    "2. **Disable Auto Framing** during large ETL operations\n",
    "3. **Manual Reframing** after batch data modifications\n",
    "4. **Monitor History** to track framing performance impact\n",
    "\n",
    "**Performance Optimization:**\n",
    "- Schedule batch operations during off-peak hours\n",
    "- Group multiple operations before manual reframing\n",
    "- Monitor lakehouse table history for optimization insights\n",
    "- Balance refresh frequency with query performance needs\n",
    "\n",
    "### 🚀 Next Steps\n",
    "\n",
    "**Recommended Follow-up:**\n",
    "- **Lab 6**: Column partitioning for enhanced performance\n",
    "- **Lab 7**: High cardinality column optimization techniques\n",
    "- **Lab 8**: Advanced One Lake integration patterns\n",
    "\n",
    "**Production Implementation:**\n",
    "- Establish framing policies for different data scenarios\n",
    "- Implement monitoring for framing performance metrics\n",
    "- Design refresh schedules based on business requirements\n",
    "\n",
    "### 📈 Business Impact\n",
    "\n",
    "**Direct Lake Framing enables:**\n",
    "- **Real-time Analytics**: Immediate insights from operational data\n",
    "- **Performance Optimization**: Efficient resource utilization\n",
    "- **Scalable Architecture**: Support for growing data volumes\n",
    "- **Operational Excellence**: Reliable data synchronization patterns\n",
    "\n",
    "**ROI Indicators:**\n",
    "- Reduced refresh times through optimized framing\n",
    "- Improved user experience with real-time data\n",
    "- Lower infrastructure costs through efficient resource usage\n",
    "- Enhanced data governance through controlled synchronization"
   ]
  }
 ],
 "metadata": {
  "dependencies": {},
  "kernel_info": {
   "name": "synapse_pyspark"
  },
  "kernelspec": {
   "display_name": "Synapse PySpark",
   "language": "Python",
   "name": "synapse_pyspark"
  },
  "language_info": {
   "name": "python"
  },
  "microsoft": {
   "language": "python",
   "language_group": "synapse_pyspark",
   "ms_spell_check": {
    "ms_spell_check_language": "en"
   }
  },
  "nteract": {
   "version": "nteract-front-end@1.0.0"
  },
  "spark_compute": {
   "compute_id": "/trident/default",
   "session_options": {
    "conf": {
     "spark.synapse.nbs.session.timeout": "1200000"
    }
   }
  },
  "synapse_widget": {
   "state": {},
   "version": "0.1"
  },
  "widgets": {}
 },
 "nbformat": 4,
 "nbformat_minor": 5
}
