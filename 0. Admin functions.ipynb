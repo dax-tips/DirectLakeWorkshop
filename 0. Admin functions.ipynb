{
 "cells": [
  {
   "cell_type": "code",
   "execution_count": null,
   "metadata": {},
   "outputs": [],
   "source": [
    "%pip install -q --disable-pip-version-check semantic-link-labs\n",
    "import sempy_labs\n",
    "sempy_labs.import_notebook_from_web(overwrite=True,notebook_name=\"1. Create Direct Lake Model\"                     , url=\"https://raw.githubusercontent.com/dax-tips/DirectLakeWorkshop/main/1.%20Create%20Direct%20Lake%20Model.ipynb\")\n",
    "sempy_labs.import_notebook_from_web(overwrite=True,notebook_name=\"2. Create Direct Lake Model (Big Data)\"          , url=\"https://raw.githubusercontent.com/dax-tips/DirectLakeWorkshop/main/2.%20Create%20Direct%20Lake%20Model%20(Big%20Data).ipynb\")\n",
    "sempy_labs.import_notebook_from_web(overwrite=True,notebook_name=\"3. Delta Analyzer\"                               , url=\"https://raw.githubusercontent.com/dax-tips/DirectLakeWorkshop/main/3.%20Delta%20Analyzer.ipynb\")\n",
    "sempy_labs.import_notebook_from_web(overwrite=True,notebook_name=\"4. Direct Lake Fallback Behaviour\"               , url=\"https://raw.githubusercontent.com/dax-tips/DirectLakeWorkshop/main/4.%20Direct%20Lake%20Fallback%20Behaviour.ipynb\")\n",
    "sempy_labs.import_notebook_from_web(overwrite=True,notebook_name=\"5. Framing\"                                      , url=\"https://raw.githubusercontent.com/dax-tips/DirectLakeWorkshop/main/5.%20Framing.ipynb\")\n",
    "sempy_labs.import_notebook_from_web(overwrite=True,notebook_name=\"6. Performance - Column Partitioning\"            , url=\"https://raw.githubusercontent.com/dax-tips/DirectLakeWorkshop/main/6.%20Performance%20-%20Column%20Partitioning.ipynb\")\n",
    "sempy_labs.import_notebook_from_web(overwrite=True,notebook_name=\"7. Performance - Split High Cardinality Columns\" , url=\"https://raw.githubusercontent.com/dax-tips/DirectLakeWorkshop/main/7.%20Performance%20-%20Split%20High%20Cardinality%20Columns.ipynb\")"
   ]
  },
  {
   "cell_type": "code",
   "execution_count": null,
   "metadata": {},
   "outputs": [],
   "source": [
    "from sempy import fabric\n",
    "\n",
    "for index, row in fabric.list_items().iterrows():\n",
    "    if row[\"Type\"] in [\"Lakehouse\"]:\n",
    "        type=row[\"Type\"]\n",
    "        name=row[\"Display Name\"]\n",
    "        Id=row[\"Id\"]\n",
    "\n",
    "        fabric.delete_item(item_id=Id)\n",
    "        print(f\"The {type} named {name} has been deleted\")\n",
    "\n",
    "for index, row in fabric.list_items().iterrows():\n",
    "    if row[\"Type\"] in [\"SemanticModel\"]:\n",
    "        type=row[\"Type\"]\n",
    "        name=row[\"Display Name\"]\n",
    "        Id=row[\"Id\"]\n",
    "\n",
    "        fabric.delete_item(item_id=Id)\n",
    "        print(f\"The {type} named {name} has been deleted\")"
   ]
  }
 ],
 "metadata": {
  "language_info": {
   "name": "python"
  }
 },
 "nbformat": 4,
 "nbformat_minor": 2
}
